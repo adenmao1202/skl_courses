{
 "cells": [
  {
   "cell_type": "markdown",
   "metadata": {},
   "source": [
    "### C3 p5 \n",
    "Confirm the partialling out interpretation of OLS estimates by explicitly doing the partialling out for e.g. 3.2 : \n",
    "- data : WAGE1\n",
    "  - est eq : log(wage) = 0.284 + 0.092 educ + 0.0041 exper + 0.022 tenure. \n",
    "- First, regressing educ on exper & tenure --> save the risidual r1_hat \n",
    "- second, regress log (wage ) on r1_hat \n",
    "- compare the coef on r1_hat with the coeff on educ in the regreesion of log(wage) on educ, exper, and tenure. \n"
   ]
  },
  {
   "cell_type": "code",
   "execution_count": 1,
   "metadata": {},
   "outputs": [],
   "source": [
    "import pandas as pd\n",
    "import numpy as np\n",
    "from sklearn.linear_model import LinearRegression\n",
    "import statsmodels.api as sm\n",
    "\n",
    "path = '/Users/mouyasushi/Desktop/學校課程/econometrics/DateSets/Excel/wage1.xls'\n",
    "# Read the data\n",
    "\n",
    "column_names = {\n",
    "    'wage': 'average hourly earnings',\n",
    "    'educ': 'years of education',\n",
    "    'exper': 'years potential experience',\n",
    "    'tenure': 'years with current employer',\n",
    "    'nonwhite': '=1 if nonwhite',\n",
    "    'female': '=1 if female',\n",
    "    'married': '=1 if married',\n",
    "    'numdep': 'number of dependents',\n",
    "    'smsa': '=1 if live in SMSA',\n",
    "    'northcen': '=1 if live in north central U.S',\n",
    "    'south': '=1 if live in southern region',\n",
    "    'west': '=1 if live in western region',\n",
    "    'construc': '=1 if work in construc. indus.',\n",
    "    'ndurman': '=1 if in nondur. manuf. indus.',\n",
    "    'trcommpu': '=1 if in trans, commun, pub ut',\n",
    "    'trade': '=1 if in wholesale or retail',\n",
    "    'services': '=1 if in services indus.',\n",
    "    'profserv': '=1 if in prof. serv. indus.',\n",
    "    'profocc': '=1 if in profess. occupation',\n",
    "    'clerocc': '=1 if in clerical occupation',\n",
    "    'servocc': '=1 if in service occupation',\n",
    "    'lwage': 'log(wage)',\n",
    "    'expersq': 'exper^2',\n",
    "    'tenursq': 'tenure^2'\n",
    "}\n",
    "\n",
    "# Read the Excel file\n",
    "df = pd.read_excel(path, names=list(column_names.keys()))"
   ]
  },
  {
   "cell_type": "code",
   "execution_count": 12,
   "metadata": {},
   "outputs": [
    {
     "name": "stdout",
     "output_type": "stream",
     "text": [
      "Step 1: Regression of Education on Experience and Tenure\n",
      "====================================================================================================\n",
      "==============================================================================\n",
      "                 coef    std err          t      P>|t|      [0.025      0.975]\n",
      "------------------------------------------------------------------------------\n",
      "const         13.5861      0.185     73.540      0.000      13.223      13.949\n",
      "exper         -0.0741      0.010     -7.588      0.000      -0.093      -0.055\n",
      "tenure         0.0475      0.018      2.593      0.010       0.012       0.084\n",
      "==============================================================================\n",
      "====================================================================================================\n",
      "Saved r1_hat: \n",
      "0     -0.050383\n",
      "1     -2.437860\n",
      "2     -3.655791\n",
      "3     -1.162312\n",
      "4      2.700659\n",
      "         ...   \n",
      "520    3.356588\n",
      "521   -3.437860\n",
      "522    1.521698\n",
      "523    2.736978\n",
      "524    0.594335\n",
      "Length: 525, dtype: float64\n"
     ]
    }
   ],
   "source": [
    "# Step 1: Regress educ on exper & tenure\n",
    "# Create X matrix with constant term\n",
    "X = df[['exper', 'tenure']]\n",
    "X = sm.add_constant(X)\n",
    "y = df['educ']\n",
    "\n",
    "# Fit the model\n",
    "model = sm.OLS(y, X).fit()\n",
    "\n",
    "# Save residuals (r1_hat)\n",
    "r1_hat = model.resid\n",
    "\n",
    "# Print regression results\n",
    "print(\"Step 1: Regression of Education on Experience and Tenure\")\n",
    "print(\"=\" * 100)\n",
    "print(model.summary().tables[1])\n",
    "print(\"=\" * 100)\n",
    "print(\"Saved r1_hat: \")\n",
    "print(r1_hat)"
   ]
  },
  {
   "cell_type": "code",
   "execution_count": 13,
   "metadata": {},
   "outputs": [
    {
     "name": "stdout",
     "output_type": "stream",
     "text": [
      "Step 2: Regression of Log(wage) on Residuals (r1_hat)\n",
      "===================================================\n",
      "==============================================================================\n",
      "                 coef    std err          t      P>|t|      [0.025      0.975]\n",
      "------------------------------------------------------------------------------\n",
      "const          1.6242      0.021     78.489      0.000       1.584       1.665\n",
      "0              0.0919      0.008     11.650      0.000       0.076       0.107\n",
      "==============================================================================\n"
     ]
    }
   ],
   "source": [
    "# Step 2: Regress log(wage) on r1_hat\n",
    "X2 = sm.add_constant(r1_hat)     \n",
    "y2 = df['lwage']\n",
    "model2 = sm.OLS(y2, X2).fit()\n",
    "\n",
    "print(\"Step 2: Regression of Log(wage) on Residuals (r1_hat)\")\n",
    "print(\"===================================================\")\n",
    "print(model2.summary().tables[1])"
   ]
  },
  {
   "cell_type": "code",
   "execution_count": 15,
   "metadata": {},
   "outputs": [
    {
     "name": "stdout",
     "output_type": "stream",
     "text": [
      "Full Regression: log(wage) on educ, exper, and tenure\n",
      "================================================================================\n",
      "==============================================================================\n",
      "                 coef    std err          t      P>|t|      [0.025      0.975]\n",
      "------------------------------------------------------------------------------\n",
      "const          0.2867      0.104      2.745      0.006       0.082       0.492\n",
      "educ           0.0919      0.007     12.519      0.000       0.077       0.106\n",
      "exper          0.0041      0.002      2.367      0.018       0.001       0.007\n",
      "tenure         0.0221      0.003      7.126      0.000       0.016       0.028\n",
      "==============================================================================\n"
     ]
    }
   ],
   "source": [
    "# Original full regression\n",
    "X_full = df[['educ', 'exper', 'tenure']]\n",
    "X_full = sm.add_constant(X_full)\n",
    "y_full = df['lwage']\n",
    "\n",
    "model_full = sm.OLS(y_full, X_full).fit()\n",
    "print(\"Full Regression: log(wage) on educ, exper, and tenure\")\n",
    "print(\"=\" * 80)\n",
    "print(model_full.summary().tables[1])"
   ]
  },
  {
   "cell_type": "markdown",
   "metadata": {},
   "source": [
    "# step3 : compare coef on r1_hat and full coef\n",
    "- r1_hat coef : 0.0919 \n",
    "- coef on educ : 0.0919 \n",
    "- they are identical "
   ]
  },
  {
   "cell_type": "markdown",
   "metadata": {},
   "source": [
    "### C3 p6 \n",
    "Use data set WAGE2 ( all of the following regress contains an intercept ):\n",
    "- run a simple regress of IQ on educ to obtain the slope coef ( delta1_tilde)\n",
    "- run simple regress of log(wage) on educ , obtain slope coef ( Beta1_tilde)\n",
    "- run multiple regress of log(wage) on educ & IQ, obtain slope coef ( beta1_hat, beta2_hat)\n",
    "- verify that Beta1_tilde = beta1_hat + beta2_hat * delta1+tilde "
   ]
  },
  {
   "cell_type": "code",
   "execution_count": 17,
   "metadata": {},
   "outputs": [
    {
     "data": {
      "text/html": [
       "<div>\n",
       "<style scoped>\n",
       "    .dataframe tbody tr th:only-of-type {\n",
       "        vertical-align: middle;\n",
       "    }\n",
       "\n",
       "    .dataframe tbody tr th {\n",
       "        vertical-align: top;\n",
       "    }\n",
       "\n",
       "    .dataframe thead th {\n",
       "        text-align: right;\n",
       "    }\n",
       "</style>\n",
       "<table border=\"1\" class=\"dataframe\">\n",
       "  <thead>\n",
       "    <tr style=\"text-align: right;\">\n",
       "      <th></th>\n",
       "      <th>wage</th>\n",
       "      <th>hours</th>\n",
       "      <th>IQ</th>\n",
       "      <th>KWW</th>\n",
       "      <th>educ</th>\n",
       "      <th>exper</th>\n",
       "      <th>tenure</th>\n",
       "      <th>age</th>\n",
       "      <th>married</th>\n",
       "      <th>black</th>\n",
       "      <th>south</th>\n",
       "      <th>urban</th>\n",
       "      <th>sibs</th>\n",
       "      <th>brthord</th>\n",
       "      <th>meduc</th>\n",
       "      <th>feduc</th>\n",
       "      <th>lwage</th>\n",
       "    </tr>\n",
       "  </thead>\n",
       "  <tbody>\n",
       "    <tr>\n",
       "      <th>0</th>\n",
       "      <td>808</td>\n",
       "      <td>50</td>\n",
       "      <td>119</td>\n",
       "      <td>41</td>\n",
       "      <td>18</td>\n",
       "      <td>11</td>\n",
       "      <td>16</td>\n",
       "      <td>37</td>\n",
       "      <td>1</td>\n",
       "      <td>0</td>\n",
       "      <td>0</td>\n",
       "      <td>1</td>\n",
       "      <td>1</td>\n",
       "      <td>.</td>\n",
       "      <td>14</td>\n",
       "      <td>14</td>\n",
       "      <td>6.694562</td>\n",
       "    </tr>\n",
       "    <tr>\n",
       "      <th>1</th>\n",
       "      <td>825</td>\n",
       "      <td>40</td>\n",
       "      <td>108</td>\n",
       "      <td>46</td>\n",
       "      <td>14</td>\n",
       "      <td>11</td>\n",
       "      <td>9</td>\n",
       "      <td>33</td>\n",
       "      <td>1</td>\n",
       "      <td>0</td>\n",
       "      <td>0</td>\n",
       "      <td>1</td>\n",
       "      <td>1</td>\n",
       "      <td>2</td>\n",
       "      <td>14</td>\n",
       "      <td>14</td>\n",
       "      <td>6.715384</td>\n",
       "    </tr>\n",
       "    <tr>\n",
       "      <th>2</th>\n",
       "      <td>650</td>\n",
       "      <td>40</td>\n",
       "      <td>96</td>\n",
       "      <td>32</td>\n",
       "      <td>12</td>\n",
       "      <td>13</td>\n",
       "      <td>7</td>\n",
       "      <td>32</td>\n",
       "      <td>1</td>\n",
       "      <td>0</td>\n",
       "      <td>0</td>\n",
       "      <td>1</td>\n",
       "      <td>4</td>\n",
       "      <td>3</td>\n",
       "      <td>12</td>\n",
       "      <td>12</td>\n",
       "      <td>6.476973</td>\n",
       "    </tr>\n",
       "    <tr>\n",
       "      <th>3</th>\n",
       "      <td>562</td>\n",
       "      <td>40</td>\n",
       "      <td>74</td>\n",
       "      <td>27</td>\n",
       "      <td>11</td>\n",
       "      <td>14</td>\n",
       "      <td>5</td>\n",
       "      <td>34</td>\n",
       "      <td>1</td>\n",
       "      <td>0</td>\n",
       "      <td>0</td>\n",
       "      <td>1</td>\n",
       "      <td>10</td>\n",
       "      <td>6</td>\n",
       "      <td>6</td>\n",
       "      <td>11</td>\n",
       "      <td>6.331502</td>\n",
       "    </tr>\n",
       "    <tr>\n",
       "      <th>4</th>\n",
       "      <td>1400</td>\n",
       "      <td>40</td>\n",
       "      <td>116</td>\n",
       "      <td>43</td>\n",
       "      <td>16</td>\n",
       "      <td>14</td>\n",
       "      <td>2</td>\n",
       "      <td>35</td>\n",
       "      <td>1</td>\n",
       "      <td>1</td>\n",
       "      <td>0</td>\n",
       "      <td>1</td>\n",
       "      <td>1</td>\n",
       "      <td>2</td>\n",
       "      <td>8</td>\n",
       "      <td>.</td>\n",
       "      <td>7.244227</td>\n",
       "    </tr>\n",
       "  </tbody>\n",
       "</table>\n",
       "</div>"
      ],
      "text/plain": [
       "   wage  hours   IQ  KWW  educ  exper  tenure  age  married  black  south  \\\n",
       "0   808     50  119   41    18     11      16   37        1      0      0   \n",
       "1   825     40  108   46    14     11       9   33        1      0      0   \n",
       "2   650     40   96   32    12     13       7   32        1      0      0   \n",
       "3   562     40   74   27    11     14       5   34        1      0      0   \n",
       "4  1400     40  116   43    16     14       2   35        1      1      0   \n",
       "\n",
       "   urban  sibs brthord meduc feduc     lwage  \n",
       "0      1     1       .    14    14  6.694562  \n",
       "1      1     1       2    14    14  6.715384  \n",
       "2      1     4       3    12    12  6.476973  \n",
       "3      1    10       6     6    11  6.331502  \n",
       "4      1     1       2     8     .  7.244227  "
      ]
     },
     "execution_count": 17,
     "metadata": {},
     "output_type": "execute_result"
    }
   ],
   "source": [
    "path = '/Users/mouyasushi/Desktop/學校課程/econometrics/DateSets/Excel/wage2.xls'\n",
    "\n",
    "# Column names and descriptions for WAGE2 dataset\n",
    "column_names = {\n",
    "    'wage': 'monthly earnings',\n",
    "    'hours': 'average weekly hours',\n",
    "    'IQ': 'IQ score',\n",
    "    'KWW': 'knowledge of world work score',\n",
    "    'educ': 'years of education',\n",
    "    'exper': 'years of work experience',\n",
    "    'tenure': 'years with current employer',\n",
    "    'age': 'age in years',\n",
    "    'married': '=1 if married',\n",
    "    'black': '=1 if black',\n",
    "    'south': '=1 if live in south',\n",
    "    'urban': '=1 if live in SMSA',\n",
    "    'sibs': 'number of siblings',\n",
    "    'brthord': 'birth order',\n",
    "    'meduc': \"mother's education\",\n",
    "    'feduc': \"father's education\",\n",
    "    'lwage': 'natural log of wage'\n",
    "}\n",
    "\n",
    "# Using this to read the data\n",
    "df = pd.read_excel(path, names=list(column_names.keys()))\n",
    "\n",
    "df.head()"
   ]
  },
  {
   "cell_type": "code",
   "execution_count": 18,
   "metadata": {},
   "outputs": [
    {
     "name": "stdout",
     "output_type": "stream",
     "text": [
      "Regression of IQ on Education\n",
      "================================================================================\n",
      "==============================================================================\n",
      "                 coef    std err          t      P>|t|      [0.025      0.975]\n",
      "------------------------------------------------------------------------------\n",
      "const         53.7041      2.625     20.457      0.000      48.552      58.856\n",
      "educ           3.5328      0.192     18.366      0.000       3.155       3.910\n",
      "==============================================================================\n",
      "\n",
      "Slope coefficient (delta1_tilde): 3.5328\n"
     ]
    }
   ],
   "source": [
    "# Step1 : Simple regression of IQ on education\n",
    "X = df['educ']\n",
    "X = sm.add_constant(X)\n",
    "y = df['IQ']\n",
    "\n",
    "model = sm.OLS(y, X).fit()\n",
    "print(\"Regression of IQ on Education\")\n",
    "print(\"=\" * 80)\n",
    "print(model.summary().tables[1])\n",
    "print(f\"\\nSlope coefficient (delta1_tilde): {model.params['educ']:.4f}\")"
   ]
  },
  {
   "cell_type": "code",
   "execution_count": 19,
   "metadata": {},
   "outputs": [
    {
     "name": "stdout",
     "output_type": "stream",
     "text": [
      "Regression of Log(wage) on Education\n",
      "================================================================================\n",
      "==============================================================================\n",
      "                 coef    std err          t      P>|t|      [0.025      0.975]\n",
      "------------------------------------------------------------------------------\n",
      "const          5.9733      0.081     73.341      0.000       5.813       6.133\n",
      "educ           0.0598      0.006     10.025      0.000       0.048       0.072\n",
      "==============================================================================\n",
      "\n",
      "Slope coefficient (Beta1_tilde): 0.0598\n"
     ]
    }
   ],
   "source": [
    "# Simple regression of log(wage) on education\n",
    "X = df['educ']\n",
    "X = sm.add_constant(X)\n",
    "y = df['lwage']\n",
    "\n",
    "model_wage = sm.OLS(y, X).fit()\n",
    "print(\"Regression of Log(wage) on Education\")\n",
    "print(\"=\" * 80)\n",
    "print(model_wage.summary().tables[1])\n",
    "print(f\"\\nSlope coefficient (Beta1_tilde): {model_wage.params['educ']:.4f}\")"
   ]
  },
  {
   "cell_type": "code",
   "execution_count": 20,
   "metadata": {},
   "outputs": [
    {
     "name": "stdout",
     "output_type": "stream",
     "text": [
      "Multiple Regression of Log(wage) on Education and IQ\n",
      "================================================================================\n",
      "==============================================================================\n",
      "                 coef    std err          t      P>|t|      [0.025      0.975]\n",
      "------------------------------------------------------------------------------\n",
      "const          5.6585      0.096     58.743      0.000       5.469       5.848\n",
      "educ           0.0391      0.007      5.716      0.000       0.026       0.053\n",
      "IQ             0.0059      0.001      5.872      0.000       0.004       0.008\n",
      "==============================================================================\n",
      "\n",
      "Slope coefficients:\n",
      "beta1_hat (Education): 0.0391\n",
      "beta2_hat (IQ): 0.0059\n"
     ]
    }
   ],
   "source": [
    "# Multiple regression of log(wage) on education and IQ\n",
    "X = df[['educ', 'IQ']]\n",
    "X = sm.add_constant(X)\n",
    "y = df['lwage']\n",
    "\n",
    "model_multi = sm.OLS(y, X).fit()\n",
    "print(\"Multiple Regression of Log(wage) on Education and IQ\")\n",
    "print(\"=\" * 80)\n",
    "print(model_multi.summary().tables[1])\n",
    "print(f\"\\nSlope coefficients:\")\n",
    "print(f\"beta1_hat (Education): {model_multi.params['educ']:.4f}\")\n",
    "print(f\"beta2_hat (IQ): {model_multi.params['IQ']:.4f}\")"
   ]
  },
  {
   "cell_type": "markdown",
   "metadata": {},
   "source": [
    "### Verify \n",
    "- Beta1_tilda :  0.0598\n",
    "- beta1_hat : 0.0391\n",
    "- beta2_hat : 0.0059\n",
    "- delta1_tilde : 3.5328\n",
    "result : 0.0598 ≈ 0.0391 + 0.0059 * 3.5328 "
   ]
  },
  {
   "cell_type": "markdown",
   "metadata": {},
   "source": [
    "### C4"
   ]
  },
  {
   "cell_type": "markdown",
   "metadata": {},
   "source": []
  },
  {
   "cell_type": "code",
   "execution_count": null,
   "metadata": {},
   "outputs": [],
   "source": []
  }
 ],
 "metadata": {
  "kernelspec": {
   "display_name": "Python 3",
   "language": "python",
   "name": "python3"
  },
  "language_info": {
   "codemirror_mode": {
    "name": "ipython",
    "version": 3
   },
   "file_extension": ".py",
   "mimetype": "text/x-python",
   "name": "python",
   "nbconvert_exporter": "python",
   "pygments_lexer": "ipython3",
   "version": "3.12.6"
  }
 },
 "nbformat": 4,
 "nbformat_minor": 2
}
