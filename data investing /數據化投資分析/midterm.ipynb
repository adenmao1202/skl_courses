{
 "cells": [
  {
   "cell_type": "code",
   "execution_count": 1,
   "metadata": {},
   "outputs": [
    {
     "name": "stderr",
     "output_type": "stream",
     "text": [
      "[*********************100%%**********************]  10 of 10 completed\n"
     ]
    }
   ],
   "source": [
    "import yfinance as yf\n",
    "import pandas as pd\n",
    "import numpy as np\n",
    "\n",
    "# Define the tickers and download the data\n",
    "tickers = ['2330.TW', '2317.TW', '2454.TW', '2881.TW', '2382.TW',\n",
    "           '2308.TW', '2882.TW', '2412.TW', '2891.TW', '3711.TW']\n",
    "\n",
    "data = yf.download(tickers=tickers, interval='1mo', start='2019-01-01', end='2023-12-31')\n"
   ]
  },
  {
   "cell_type": "code",
   "execution_count": 2,
   "metadata": {},
   "outputs": [
    {
     "name": "stdout",
     "output_type": "stream",
     "text": [
      "Lowest price in 2021: 15.76368\n"
     ]
    }
   ],
   "source": [
    "# Filter data for 2021\n",
    "data_2021 = data['Adj Close'].loc['2021-01-01':'2021-12-31']\n",
    "\n",
    "# Find the minimum price\n",
    "lowest_price = data_2021.min().min()\n",
    "print(f\"Lowest price in 2021: {lowest_price:.5f}\")\n"
   ]
  },
  {
   "cell_type": "code",
   "execution_count": 3,
   "metadata": {},
   "outputs": [
    {
     "name": "stdout",
     "output_type": "stream",
     "text": [
      "Price-weighted index value on 2021-01-01: 1855.64\n",
      "\n",
      "Individual stock prices:\n",
      "Ticker\n",
      "2308.TW    258.548859\n",
      "2317.TW     95.108681\n",
      "2330.TW    547.284668\n",
      "2382.TW     63.300213\n",
      "2412.TW     92.765083\n",
      "2454.TW    645.098022\n",
      "2881.TW     30.741611\n",
      "2882.TW     33.127731\n",
      "2891.TW     15.763680\n",
      "3711.TW     73.905174\n",
      "Name: 2021-01-01 00:00:00, dtype: float64\n"
     ]
    }
   ],
   "source": [
    "# Get the price data for 2021-01-01\n",
    "# Since it's monthly data, we want January 2021\n",
    "mask_date = (data.index.year == 2021) & (data.index.month == 1)\n",
    "prices_jan2021 = data.loc[mask_date, 'Adj Close']\n",
    "\n",
    "# For price-weighted index with divisor = 1\n",
    "# Simply sum up all prices\n",
    "pw_index = prices_jan2021.iloc[0].sum()\n",
    "\n",
    "print(f\"Price-weighted index value on 2021-01-01: {pw_index:.2f}\")\n",
    "\n",
    "# Optional: Display individual stock prices for verification\n",
    "print(\"\\nIndividual stock prices:\")\n",
    "print(prices_jan2021.iloc[0])"
   ]
  },
  {
   "cell_type": "code",
   "execution_count": 4,
   "metadata": {},
   "outputs": [
    {
     "name": "stdout",
     "output_type": "stream",
     "text": [
      "Average percentage return for 2412.TW: 0.005587\n"
     ]
    }
   ],
   "source": [
    "# Calculate percentage returns for 2412.TW\n",
    "returns_2412 = data['Adj Close']['2412.TW'].pct_change().dropna()\n",
    "\n",
    "# Compute average percentage return\n",
    "avg_return_2412 = returns_2412.mean()\n",
    "print(f\"Average percentage return for 2412.TW: {avg_return_2412:.6f}\")\n"
   ]
  },
  {
   "cell_type": "code",
   "execution_count": 5,
   "metadata": {},
   "outputs": [
    {
     "name": "stdout",
     "output_type": "stream",
     "text": [
      "Log return of 2881.TW on 2019-12-01: 0.035091\n"
     ]
    }
   ],
   "source": [
    "# Log return for 2881.TW on 2019-12-01\n",
    "price_2019_12_01 = data['Adj Close']['2881.TW']['2019-12-01']\n",
    "price_prev = data['Adj Close']['2881.TW']['2019-11-01']\n",
    "\n",
    "log_return = np.log(price_2019_12_01 / price_prev)\n",
    "print(f\"Log return of 2881.TW on 2019-12-01: {log_return:.6f}\")\n"
   ]
  },
  {
   "cell_type": "code",
   "execution_count": 6,
   "metadata": {},
   "outputs": [
    {
     "name": "stdout",
     "output_type": "stream",
     "text": [
      "Covariance between 2412.TW and 2382.TW: -0.000118\n"
     ]
    }
   ],
   "source": [
    "# Percentage returns for 2412.TW and 2382.TW\n",
    "returns_2412 = data['Adj Close']['2412.TW'].pct_change().dropna()\n",
    "returns_2382 = data['Adj Close']['2382.TW'].pct_change().dropna()\n",
    "\n",
    "# Compute covariance\n",
    "covariance = np.cov(returns_2412, returns_2382)[0, 1]\n",
    "print(f\"Covariance between 2412.TW and 2382.TW: {covariance:.6f}\")\n"
   ]
  },
  {
   "cell_type": "markdown",
   "metadata": {},
   "source": [
    "### GMVP & MSRP "
   ]
  },
  {
   "cell_type": "code",
   "execution_count": 7,
   "metadata": {},
   "outputs": [
    {
     "name": "stdout",
     "output_type": "stream",
     "text": [
      "Optimization terminated successfully    (Exit mode 0)\n",
      "            Current function value: 0.0005088734305905677\n",
      "            Iterations: 73\n",
      "            Function evaluations: 821\n",
      "            Gradient evaluations: 73\n",
      "GMVP Weights (Short Selling Allowed): [-0.07111991  0.11040897  0.2105858   0.06856821  0.89462672 -0.07552467\n",
      "  0.16916632 -0.20209939 -0.06321358 -0.04139848]\n",
      "Weight on 2882.TW: -0.20209938551363618\n"
     ]
    }
   ],
   "source": [
    "import numpy as np\n",
    "import pandas as pd\n",
    "from scipy.optimize import minimize\n",
    "\n",
    "# Compute monthly returns\n",
    "returns = data['Adj Close'].pct_change().dropna()\n",
    "\n",
    "# Calculate covariance matrix\n",
    "cov_matrix = returns.cov()\n",
    "\n",
    "# Number of assets\n",
    "num_assets = len(returns.columns)\n",
    "\n",
    "# Objective function: Minimize portfolio variance\n",
    "def portfolio_variance(weights, cov_matrix):\n",
    "    return weights.T @ cov_matrix @ weights\n",
    "\n",
    "# Constraint: Sum of weights = 1\n",
    "constraints = ({'type': 'eq', 'fun': lambda w: np.sum(w) - 1})\n",
    "\n",
    "# Bounds: Allow short selling (weights can be negative)\n",
    "bounds = [(None, None) for _ in range(num_assets)]\n",
    "\n",
    "# Initial guess: Equal weights\n",
    "init_guess = np.ones(num_assets) / num_assets\n",
    "\n",
    "# Minimize variance with short selling allowed\n",
    "result_gmvp = minimize(\n",
    "    portfolio_variance,\n",
    "    init_guess,\n",
    "    args=(cov_matrix,),\n",
    "    method='SLSQP',\n",
    "    bounds=bounds,\n",
    "    constraints=constraints,\n",
    "    options={'ftol': 1e-20, 'disp': True}\n",
    ")\n",
    "\n",
    "# Extract GMVP weights\n",
    "gmvp_weights = result_gmvp.x\n",
    "\n",
    "# Get weight for 2882.TW\n",
    "weight_2882 = gmvp_weights[list(returns.columns).index('2882.TW')]\n",
    "\n",
    "print(\"GMVP Weights (Short Selling Allowed):\", gmvp_weights)\n",
    "print(\"Weight on 2882.TW:\", weight_2882)\n"
   ]
  },
  {
   "cell_type": "code",
   "execution_count": 8,
   "metadata": {},
   "outputs": [],
   "source": [
    "gmvp_variance = result_gmvp.fun"
   ]
  },
  {
   "cell_type": "code",
   "execution_count": 9,
   "metadata": {},
   "outputs": [
    {
     "data": {
      "text/plain": [
       "np.float64(0.02255822312573771)"
      ]
     },
     "execution_count": 9,
     "metadata": {},
     "output_type": "execute_result"
    }
   ],
   "source": [
    "np.sqrt(result_gmvp.fun)"
   ]
  },
  {
   "cell_type": "code",
   "execution_count": 10,
   "metadata": {},
   "outputs": [
    {
     "name": "stdout",
     "output_type": "stream",
     "text": [
      "Optimization terminated successfully    (Exit mode 0)\n",
      "            Current function value: -0.6897068834022968\n",
      "            Iterations: 27\n",
      "            Function evaluations: 341\n",
      "            Gradient evaluations: 27\n",
      "MSRP Weights (Short Selling Allowed): [-0.22222979  0.25558117  0.2959635   0.22787319  0.75761081  0.06754257\n",
      "  1.19116236 -1.3923752  -0.06146903 -0.11965958]\n",
      "Weight on 2882.TW: -1.3923751983604604\n"
     ]
    }
   ],
   "source": [
    "import numpy as np\n",
    "import pandas as pd\n",
    "from scipy.optimize import minimize\n",
    "\n",
    "# Compute monthly returns\n",
    "returns = data['Adj Close'].pct_change().dropna()\n",
    "\n",
    "# Calculate covariance matrix and mean returns\n",
    "cov_matrix = returns.cov()\n",
    "mean_returns = returns.mean()\n",
    "\n",
    "# Number of assets\n",
    "num_assets = len(mean_returns)\n",
    "\n",
    "# Objective function: Negative Sharpe ratio\n",
    "def neg_sharpe_ratio(weights, mean_returns, cov_matrix, risk_free_rate=0):\n",
    "    portfolio_return = weights.T @ mean_returns\n",
    "    portfolio_std_dev = np.sqrt(weights.T @ cov_matrix @ weights)\n",
    "    return -(portfolio_return - risk_free_rate) / portfolio_std_dev\n",
    "\n",
    "# Constraint: Sum of weights = 1\n",
    "constraints = ({'type': 'eq', 'fun': lambda w: np.sum(w) - 1})\n",
    "\n",
    "# Bounds: Allow short selling (weights can be negative)\n",
    "bounds = [(None, None) for _ in range(num_assets)]\n",
    "\n",
    "# Initial guess: Equal weights\n",
    "init_guess = np.ones(num_assets) / num_assets\n",
    "\n",
    "# Minimize negative Sharpe ratio with short selling allowed\n",
    "result_msrp = minimize(\n",
    "    neg_sharpe_ratio,\n",
    "    init_guess,\n",
    "    args=(mean_returns, cov_matrix),\n",
    "    method='SLSQP',\n",
    "    bounds=bounds,\n",
    "    constraints=constraints,\n",
    "    options={'ftol': 1e-20, 'disp': True}\n",
    ")\n",
    "\n",
    "# Extract MSRP weights\n",
    "msrp_weights = result_msrp.x\n",
    "\n",
    "# Get weight for 2882.TW\n",
    "weight_2882 = msrp_weights[list(returns.columns).index('2882.TW')]\n",
    "\n",
    "print(\"MSRP Weights (Short Selling Allowed):\", msrp_weights)\n",
    "print(\"Weight on 2882.TW:\", weight_2882)\n"
   ]
  },
  {
   "cell_type": "code",
   "execution_count": 11,
   "metadata": {},
   "outputs": [
    {
     "data": {
      "text/plain": [
       "array([-0.22222979,  0.25558117,  0.2959635 ,  0.22787319,  0.75761081,\n",
       "        0.06754257,  1.19116236, -1.3923752 , -0.06146903, -0.11965958])"
      ]
     },
     "execution_count": 11,
     "metadata": {},
     "output_type": "execute_result"
    }
   ],
   "source": [
    "msrp_weights"
   ]
  },
  {
   "cell_type": "code",
   "execution_count": 12,
   "metadata": {},
   "outputs": [
    {
     "data": {
      "text/plain": [
       "Ticker\n",
       "2308.TW    0.017962\n",
       "2317.TW    0.012968\n",
       "2330.TW    0.022768\n",
       "2382.TW    0.035165\n",
       "2412.TW    0.005587\n",
       "2454.TW    0.036774\n",
       "2881.TW    0.015583\n",
       "2882.TW    0.006785\n",
       "2891.TW    0.011309\n",
       "3711.TW    0.023359\n",
       "dtype: float64"
      ]
     },
     "execution_count": 12,
     "metadata": {},
     "output_type": "execute_result"
    }
   ],
   "source": [
    "mean_returns"
   ]
  },
  {
   "cell_type": "code",
   "execution_count": 13,
   "metadata": {},
   "outputs": [
    {
     "name": "stdout",
     "output_type": "stream",
     "text": [
      "In-sample expected return of the MSRP: 0.026415\n"
     ]
    }
   ],
   "source": [
    "# Calculate the expected return of the MSRP\n",
    "msrp_expected_return = np.dot(msrp_weights, mean_returns)\n",
    "\n",
    "print(f\"In-sample expected return of the MSRP: {msrp_expected_return:.6f}\")\n"
   ]
  },
  {
   "cell_type": "code",
   "execution_count": 21,
   "metadata": {},
   "outputs": [
    {
     "name": "stderr",
     "output_type": "stream",
     "text": [
      "[*********************100%%**********************]  10 of 10 completed"
     ]
    },
    {
     "name": "stdout",
     "output_type": "stream",
     "text": [
      "Optimization terminated successfully    (Exit mode 0)\n",
      "            Current function value: 0.022558223125737718\n",
      "            Iterations: 38\n",
      "            Function evaluations: 424\n",
      "            Gradient evaluations: 38\n",
      "GMVP Margin: 1.90671200926251\n"
     ]
    },
    {
     "name": "stderr",
     "output_type": "stream",
     "text": [
      "\n"
     ]
    }
   ],
   "source": [
    "import yfinance as yf\n",
    "import numpy as np\n",
    "import pandas as pd\n",
    "from scipy.optimize import minimize\n",
    "\n",
    "# First, get the data as specified in the exam\n",
    "tickers = ['2330.TW', '2317.TW', '2454.TW', '2881.TW', '2382.TW',\n",
    "           '2308.TW', '2882.TW', '2412.TW', '2891.TW', '3711.TW']\n",
    "\n",
    "data = yf.download(tickers=tickers, interval='1mo', start='2019-01-01', end='2023-12-31')\n",
    "\n",
    "# Calculate returns\n",
    "returns = data['Adj Close'].pct_change().dropna()\n",
    "\n",
    "# Calculate mean returns and covariance matrix\n",
    "mean_returns = returns.mean()\n",
    "cov_matrix = returns.cov()\n",
    "\n",
    "def portfolio_stats(weights, mean_returns, cov_matrix):\n",
    "    \"\"\"Calculate portfolio statistics\"\"\"\n",
    "    portfolio_return = np.sum(mean_returns * weights)\n",
    "    portfolio_std = np.sqrt(np.dot(weights.T, np.dot(cov_matrix, weights)))\n",
    "    return portfolio_return, portfolio_std\n",
    "\n",
    "def negative_sharpe_ratio(weights, mean_returns, cov_matrix, risk_free_rate=0):\n",
    "    \"\"\"Calculate negative Sharpe ratio for minimization\"\"\"\n",
    "    p_ret, p_std = portfolio_stats(weights, mean_returns, cov_matrix)\n",
    "    return -(p_ret - risk_free_rate) / p_std\n",
    "\n",
    "def gmvp_objective(weights, cov_matrix):\n",
    "    \"\"\"Objective function for GMVP - minimizes variance\"\"\"\n",
    "    return np.sqrt(np.dot(weights.T, np.dot(cov_matrix, weights)))\n",
    "\n",
    "# Constraints\n",
    "def constraint_sum_to_one(weights):\n",
    "    return np.sum(weights) - 1\n",
    "\n",
    "# GMVP Optimization (unconstrained)\n",
    "n_assets = len(tickers)\n",
    "initial_weights = np.array([1/n_assets] * n_assets)\n",
    "bounds = None  # Allow short selling\n",
    "constraints = {'type': 'eq', 'fun': constraint_sum_to_one}\n",
    "options = {'ftol': 1e-20, 'disp': True}\n",
    "\n",
    "# Question 12: GMVP margin calculation\n",
    "gmvp_result = minimize(gmvp_objective, initial_weights, args=(cov_matrix,),\n",
    "                      method='SLSQP', constraints=constraints, bounds=bounds, options=options)\n",
    "gmvp_weights = gmvp_result.x\n",
    "gmvp_margin = np.sum(np.abs(gmvp_weights))\n",
    "print(f\"GMVP Margin: {gmvp_margin}\")"
   ]
  },
  {
   "cell_type": "code",
   "execution_count": 22,
   "metadata": {},
   "outputs": [
    {
     "name": "stdout",
     "output_type": "stream",
     "text": [
      "Optimization terminated successfully    (Exit mode 0)\n",
      "            Current function value: -0.01570298457203299\n",
      "            Iterations: 78\n",
      "            Function evaluations: 1043\n",
      "            Gradient evaluations: 78\n",
      "OCP Expected Return (A=15): 0.029874989995624452\n",
      "OCP Sharpe Ratio: 0.6872626546181392\n"
     ]
    }
   ],
   "source": [
    "def utility_objective(weights, mean_returns, cov_matrix, risk_aversion):\n",
    "    \"\"\"Objective function for utility maximization\"\"\"\n",
    "    p_ret, p_std = portfolio_stats(weights, mean_returns, cov_matrix)\n",
    "    return -(p_ret - (risk_aversion/2) * (p_std**2))\n",
    "\n",
    "A = 15  # Risk aversion parameter\n",
    "ocp_result = minimize(utility_objective, initial_weights, \n",
    "                     args=(mean_returns, cov_matrix, A),\n",
    "                     method='SLSQP', constraints=constraints, bounds=bounds, options=options)\n",
    "ocp_weights = ocp_result.x\n",
    "ocp_return, ocp_std = portfolio_stats(ocp_weights, mean_returns, cov_matrix)\n",
    "ocp_sharpe = ocp_return / ocp_std  # Risk-free rate = 0\n",
    "print(f\"OCP Expected Return (A=15): {ocp_return}\")\n",
    "print(f\"OCP Sharpe Ratio: {ocp_sharpe}\")"
   ]
  },
  {
   "cell_type": "code",
   "execution_count": 23,
   "metadata": {},
   "outputs": [
    {
     "name": "stdout",
     "output_type": "stream",
     "text": [
      "Iteration limit reached    (Exit mode 9)\n",
      "            Current function value: -0.07066071989278663\n",
      "            Iterations: 100\n",
      "            Function evaluations: 1332\n",
      "            Gradient evaluations: 100\n",
      "Certainty Equivalent (A=2.5): 0.07066071989278663\n"
     ]
    }
   ],
   "source": [
    "# Question 15: Certainty Equivalent with A=2.5\n",
    "A_ce = 2.5\n",
    "ce_result = minimize(utility_objective, initial_weights,\n",
    "                    args=(mean_returns, cov_matrix, A_ce),\n",
    "                    method='SLSQP', constraints=constraints, bounds=bounds, options=options)\n",
    "ce_weights = ce_result.x\n",
    "ce_return, ce_std = portfolio_stats(ce_weights, mean_returns, cov_matrix)\n",
    "certainty_equivalent = ce_return - (A_ce/2) * (ce_std**2)\n",
    "print(f\"Certainty Equivalent (A=2.5): {certainty_equivalent}\")"
   ]
  },
  {
   "cell_type": "code",
   "execution_count": 24,
   "metadata": {},
   "outputs": [
    {
     "name": "stdout",
     "output_type": "stream",
     "text": [
      "Optimization terminated successfully    (Exit mode 0)\n",
      "            Current function value: 0.02510474646464375\n",
      "            Iterations: 25\n",
      "            Function evaluations: 237\n",
      "            Gradient evaluations: 21\n",
      "Constrained GMVP weight for 2881.TW: 0.03477998600770112\n"
     ]
    }
   ],
   "source": [
    "# Question 16: Constrained GMVP (no short selling)\n",
    "bounds_no_short = tuple((0, None) for _ in range(n_assets))\n",
    "gmvp_constrained = minimize(gmvp_objective, initial_weights, args=(cov_matrix,),\n",
    "                          method='SLSQP', constraints=constraints, bounds=bounds_no_short, options=options)\n",
    "gmvp_constrained_weights = gmvp_constrained.x\n",
    "print(f\"Constrained GMVP weight for 2881.TW: {gmvp_constrained_weights[3]}\")"
   ]
  },
  {
   "cell_type": "code",
   "execution_count": null,
   "metadata": {},
   "outputs": [],
   "source": []
  }
 ],
 "metadata": {
  "kernelspec": {
   "display_name": "Python 3",
   "language": "python",
   "name": "python3"
  },
  "language_info": {
   "codemirror_mode": {
    "name": "ipython",
    "version": 3
   },
   "file_extension": ".py",
   "mimetype": "text/x-python",
   "name": "python",
   "nbconvert_exporter": "python",
   "pygments_lexer": "ipython3",
   "version": "3.12.6"
  }
 },
 "nbformat": 4,
 "nbformat_minor": 2
}
