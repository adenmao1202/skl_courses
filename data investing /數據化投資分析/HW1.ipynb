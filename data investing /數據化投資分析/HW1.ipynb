{
 "cells": [
  {
   "cell_type": "code",
   "execution_count": 1,
   "metadata": {},
   "outputs": [
    {
     "name": "stdout",
     "output_type": "stream",
     "text": [
      "4499.999999972223\n",
      "Optimal units of x: 30.00\n",
      "Optimal units of y: 15.00\n",
      "Optimal units of z: 10.00\n"
     ]
    }
   ],
   "source": [
    "from scipy.optimize import minimize\n",
    "\n",
    "# Define the utility function U(x, y, z) = xyz\n",
    "def utility(vars):\n",
    "    x, y, z = vars\n",
    "    return -(x * y * z)  # Negative because we will use a minimizer\n",
    "\n",
    "# Define the constraint: 1x + 2y + 3z = 90\n",
    "def constraint(vars):\n",
    "    x, y, z = vars\n",
    "    return 90 - (1 * x + 2 * y + 3 * z)   # this eq should be 0\n",
    "\n",
    "# Initial guess for x, y, z\n",
    "initial_guess = [10, 10, 10]\n",
    "\n",
    "# Constraints and bounds\n",
    "constraints = ({'type': 'eq', 'fun': constraint})\n",
    "bounds = [(0, None), (0, None), (0, None)]  # x, y, z should be non-negative\n",
    "\n",
    "# Minimize the negative utility function to maximize the utility\n",
    "result = minimize(utility, initial_guess, constraints=constraints, bounds=bounds)\n",
    "\n",
    "# Extract the optimal values of x, y, and z\n",
    "optimal_x, optimal_y, optimal_z = result.x\n",
    "optimal_utility = optimal_x * optimal_y * optimal_z\n",
    "\n",
    "\n",
    "# Print the results\n",
    "print(optimal_utility)\n",
    "print(f\"Optimal units of x: {optimal_x:.2f}\")\n",
    "print(f\"Optimal units of y: {optimal_y:.2f}\")\n",
    "print(f\"Optimal units of z: {optimal_z:.2f}\")\n"
   ]
  },
  {
   "cell_type": "code",
   "execution_count": null,
   "metadata": {},
   "outputs": [],
   "source": [
    "\"\"\" \n",
    "\n",
    "The weighting vector is a 5x1 vector (note the transpose):\n",
    "\n",
    "w = [0.15, 0.25, 0.2, 0.35, 0.05]^T \n",
    "\n",
    "The expected return vector is a 5x1 vector:\n",
    "\n",
    "E[R] = [-0.02, 0.05, 0.06, -0.01, 0.04]^T\n",
    "\n",
    "Compute the portfolio expected return with the equation:\n",
    "\n",
    "w^TE[R]\n",
    "\"\"\""
   ]
  },
  {
   "cell_type": "code",
   "execution_count": 2,
   "metadata": {},
   "outputs": [],
   "source": [
    "import pandas as pd \n",
    "import numpy as np \n",
    "\n"
   ]
  },
  {
   "cell_type": "code",
   "execution_count": 3,
   "metadata": {},
   "outputs": [
    {
     "name": "stdout",
     "output_type": "stream",
     "text": [
      "0.020000000000000004\n"
     ]
    }
   ],
   "source": [
    "w = np.array ([0.15, 0.25, 0.2, 0.35, 0.05])\n",
    "er = np.array([-0.02, 0.05, 0.06, -0.01, 0.04])\n",
    "result = np.dot(w,er)\n",
    "print(result)"
   ]
  },
  {
   "cell_type": "code",
   "execution_count": null,
   "metadata": {},
   "outputs": [],
   "source": [
    "\"\"\" \n",
    "The weighting vector is a 3x1 vector (note the transpose):\n",
    "\n",
    "w = [0.25, 0.35, 0.4]^T \n",
    "\n",
    "The 3x3 variance covariance matrix Σ is:\n",
    "\n",
    "[[ 0.25,  0.04, -0.15],\n",
    "\n",
    " [ 0.04,  0.16, 0.192],\n",
    "\n",
    " [-0.15, 0.192,  0.36]]\n",
    "\n",
    "Compute the portfolio variance with w^TΣw. Report your answer with 6 decimal places (i.e. 0.xxxxxx).\n",
    "\"\"\" "
   ]
  },
  {
   "cell_type": "code",
   "execution_count": 5,
   "metadata": {},
   "outputs": [
    {
     "name": "stdout",
     "output_type": "stream",
     "text": [
      "0.123585\n"
     ]
    }
   ],
   "source": [
    "w1 = np.array ([0.25, 0.35, 0.4])\n",
    "\n",
    "cov = np.array([[ 0.25,  0.04, -0.15],\n",
    "                [ 0.04,  0.16, 0.192],\n",
    "                [-0.15, 0.192,  0.36]])\n",
    "\n",
    "var= np.dot(np.dot(w1.T,cov),w1)\n",
    "print(var)"
   ]
  },
  {
   "cell_type": "code",
   "execution_count": 6,
   "metadata": {},
   "outputs": [
    {
     "name": "stdout",
     "output_type": "stream",
     "text": [
      "0.35154658297301083\n"
     ]
    }
   ],
   "source": [
    "std = np.sqrt(var)\n",
    "print(std)"
   ]
  },
  {
   "cell_type": "code",
   "execution_count": null,
   "metadata": {},
   "outputs": [],
   "source": [
    "\"\"\" \n",
    "14. You bought 100 shares of stock MNO on margin at $70 per share. \n",
    "The stock does not pay dividend and the margin loan is interest free. \n",
    "Given an initial margin of 50% and a maintenance margin of 30%, \n",
    "what is the stock price level that triggers a margin call?  \"\"\" "
   ]
  },
  {
   "cell_type": "code",
   "execution_count": 7,
   "metadata": {},
   "outputs": [
    {
     "name": "stdout",
     "output_type": "stream",
     "text": [
      "The stock price that triggers a margin call is: $50.00\n"
     ]
    }
   ],
   "source": [
    "# Given values\n",
    "initial_price = 70  # Initial purchase price per share\n",
    "num_shares = 100    # Number of shares bought\n",
    "initial_margin = 0.5  # Initial margin (50%)\n",
    "maintenance_margin = 0.3  # Maintenance margin (30%)\n",
    "\n",
    "# Calculate the margin loan amount\n",
    "total_investment = initial_price * num_shares\n",
    "margin_loan = total_investment * (1 - initial_margin)\n",
    "\n",
    "# margin call triggered : \n",
    "# equity = ( total value ) * maintenance margin \n",
    "# equity = total value - margin loan \n",
    "# total value - margin loan = (total value) * maintenance margin\n",
    "# total value * ( 1 - maintenance margin) = margin loan\n",
    "# total value =  margin loan / ( 1 - maintenance margin)\n",
    "# total value = p * num_shares \n",
    "# p * num_shares = margin loan / ( 1 - maintenance margin)\n",
    "# p = margin loan / ( num_shares * ( 1 - maintenance margin))\n",
    "trigger_price = margin_loan / (num_shares * (1 - maintenance_margin))\n",
    "\n",
    "# Print the result\n",
    "print(f\"The stock price that triggers a margin call is: ${trigger_price:.2f}\")\n"
   ]
  },
  {
   "cell_type": "markdown",
   "metadata": {},
   "source": [
    "### To speed up "
   ]
  },
  {
   "cell_type": "code",
   "execution_count": 8,
   "metadata": {},
   "outputs": [
    {
     "name": "stdout",
     "output_type": "stream",
     "text": [
      "The stock price level that triggers a margin call is: $50.00\n"
     ]
    }
   ],
   "source": [
    "import numpy as np\n",
    "from scipy.optimize import fsolve\n",
    "\n",
    "# Given values\n",
    "initial_price = 70  # Initial purchase price per share\n",
    "num_shares = 100    # Number of shares bought\n",
    "maintenance_margin = 0.3  # Maintenance margin (30%)\n",
    "\n",
    "# Total value of the investment\n",
    "total_value = initial_price * num_shares\n",
    "\n",
    "# Margin loan\n",
    "initial_margin = 0.5  # Initial margin (50%)\n",
    "margin_loan = total_value * (1 - initial_margin)\n",
    "\n",
    "# Define the function for fsolve\n",
    "def margin_call_price(p):\n",
    "    # Current value of shares at price p\n",
    "    current_value = p * num_shares\n",
    "    # Equity = Current value - Margin loan\n",
    "    equity = current_value - margin_loan\n",
    "    # Maintenance margin required\n",
    "    maintenance_requirement = maintenance_margin * current_value\n",
    "    # The function should return zero when equity meets the maintenance requirement\n",
    "    return equity - maintenance_requirement\n",
    "\n",
    "# Use fsolve to find the price that triggers a margin call\n",
    "trigger_price = fsolve(margin_call_price, initial_price)[0]\n",
    "\n",
    "# Print the result\n",
    "print(f\"The stock price level that triggers a margin call is: ${trigger_price:.2f}\")\n"
   ]
  },
  {
   "cell_type": "code",
   "execution_count": 11,
   "metadata": {},
   "outputs": [
    {
     "name": "stdout",
     "output_type": "stream",
     "text": [
      "50.0\n"
     ]
    }
   ],
   "source": [
    "init_p = 70\n",
    "tt_shares = 100\n",
    "init_value = init_p * tt_shares\n",
    "init_margin = 0.5\n",
    "maint_margin = 0.3\n",
    "init_loan = init_value * (1 - init_margin)\n",
    "\n",
    "def margin_call_price(p):\n",
    "    curr_value = p * tt_shares\n",
    "    \n",
    "    equity = curr_value - init_loan\n",
    "    \n",
    "    curr_maint = curr_value * maint_margin\n",
    "    return equity - curr_maint\n",
    "\n",
    "trigger_p = fsolve(margin_call_price, init_p)[0]\n",
    "print(trigger_p)"
   ]
  },
  {
   "cell_type": "code",
   "execution_count": null,
   "metadata": {},
   "outputs": [],
   "source": []
  }
 ],
 "metadata": {
  "kernelspec": {
   "display_name": "Python 3",
   "language": "python",
   "name": "python3"
  },
  "language_info": {
   "codemirror_mode": {
    "name": "ipython",
    "version": 3
   },
   "file_extension": ".py",
   "mimetype": "text/x-python",
   "name": "python",
   "nbconvert_exporter": "python",
   "pygments_lexer": "ipython3",
   "version": "3.12.6"
  }
 },
 "nbformat": 4,
 "nbformat_minor": 2
}
