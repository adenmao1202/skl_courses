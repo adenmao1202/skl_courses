{
 "cells": [
  {
   "cell_type": "code",
   "execution_count": 68,
   "metadata": {},
   "outputs": [],
   "source": [
    "import yfinance as yf \n",
    "import pandas as pd\n",
    "import numpy as np\n",
    "from scipy.optimize import minimize, Bounds\n",
    "import matplotlib.pyplot as plt"
   ]
  },
  {
   "cell_type": "markdown",
   "metadata": {},
   "source": [
    "### Setting up data "
   ]
  },
  {
   "cell_type": "code",
   "execution_count": 2,
   "metadata": {},
   "outputs": [
    {
     "name": "stderr",
     "output_type": "stream",
     "text": [
      "[*********************100%%**********************]  7 of 7 completed\n"
     ]
    },
    {
     "data": {
      "text/html": [
       "<div>\n",
       "<style scoped>\n",
       "    .dataframe tbody tr th:only-of-type {\n",
       "        vertical-align: middle;\n",
       "    }\n",
       "\n",
       "    .dataframe tbody tr th {\n",
       "        vertical-align: top;\n",
       "    }\n",
       "\n",
       "    .dataframe thead tr th {\n",
       "        text-align: left;\n",
       "    }\n",
       "\n",
       "    .dataframe thead tr:last-of-type th {\n",
       "        text-align: right;\n",
       "    }\n",
       "</style>\n",
       "<table border=\"1\" class=\"dataframe\">\n",
       "  <thead>\n",
       "    <tr>\n",
       "      <th>Price</th>\n",
       "      <th colspan=\"7\" halign=\"left\">Adj Close</th>\n",
       "      <th colspan=\"3\" halign=\"left\">Close</th>\n",
       "      <th>...</th>\n",
       "      <th colspan=\"3\" halign=\"left\">Open</th>\n",
       "      <th colspan=\"7\" halign=\"left\">Volume</th>\n",
       "    </tr>\n",
       "    <tr>\n",
       "      <th>Ticker</th>\n",
       "      <th>BA</th>\n",
       "      <th>CVX</th>\n",
       "      <th>DIS</th>\n",
       "      <th>IBM</th>\n",
       "      <th>KO</th>\n",
       "      <th>NKE</th>\n",
       "      <th>PG</th>\n",
       "      <th>BA</th>\n",
       "      <th>CVX</th>\n",
       "      <th>DIS</th>\n",
       "      <th>...</th>\n",
       "      <th>KO</th>\n",
       "      <th>NKE</th>\n",
       "      <th>PG</th>\n",
       "      <th>BA</th>\n",
       "      <th>CVX</th>\n",
       "      <th>DIS</th>\n",
       "      <th>IBM</th>\n",
       "      <th>KO</th>\n",
       "      <th>NKE</th>\n",
       "      <th>PG</th>\n",
       "    </tr>\n",
       "    <tr>\n",
       "      <th>Date</th>\n",
       "      <th></th>\n",
       "      <th></th>\n",
       "      <th></th>\n",
       "      <th></th>\n",
       "      <th></th>\n",
       "      <th></th>\n",
       "      <th></th>\n",
       "      <th></th>\n",
       "      <th></th>\n",
       "      <th></th>\n",
       "      <th></th>\n",
       "      <th></th>\n",
       "      <th></th>\n",
       "      <th></th>\n",
       "      <th></th>\n",
       "      <th></th>\n",
       "      <th></th>\n",
       "      <th></th>\n",
       "      <th></th>\n",
       "      <th></th>\n",
       "      <th></th>\n",
       "    </tr>\n",
       "  </thead>\n",
       "  <tbody>\n",
       "    <tr>\n",
       "      <th>2017-12-01</th>\n",
       "      <td>258.623199</td>\n",
       "      <td>89.439400</td>\n",
       "      <td>100.744690</td>\n",
       "      <td>107.885948</td>\n",
       "      <td>37.164661</td>\n",
       "      <td>55.598209</td>\n",
       "      <td>75.038933</td>\n",
       "      <td>271.380005</td>\n",
       "      <td>119.510002</td>\n",
       "      <td>105.250000</td>\n",
       "      <td>...</td>\n",
       "      <td>45.799999</td>\n",
       "      <td>60.419998</td>\n",
       "      <td>90.180000</td>\n",
       "      <td>4592500</td>\n",
       "      <td>6831800</td>\n",
       "      <td>9258400</td>\n",
       "      <td>5824023</td>\n",
       "      <td>12468800</td>\n",
       "      <td>10113500</td>\n",
       "      <td>7953200</td>\n",
       "    </tr>\n",
       "    <tr>\n",
       "      <th>2017-12-04</th>\n",
       "      <td>264.903381</td>\n",
       "      <td>90.434753</td>\n",
       "      <td>105.501945</td>\n",
       "      <td>109.071053</td>\n",
       "      <td>37.374863</td>\n",
       "      <td>55.802471</td>\n",
       "      <td>75.910896</td>\n",
       "      <td>277.970001</td>\n",
       "      <td>120.839996</td>\n",
       "      <td>110.220001</td>\n",
       "      <td>...</td>\n",
       "      <td>45.990002</td>\n",
       "      <td>60.270000</td>\n",
       "      <td>91.760002</td>\n",
       "      <td>5523000</td>\n",
       "      <td>7366400</td>\n",
       "      <td>17824000</td>\n",
       "      <td>4878858</td>\n",
       "      <td>17523600</td>\n",
       "      <td>7513200</td>\n",
       "      <td>9003700</td>\n",
       "    </tr>\n",
       "    <tr>\n",
       "      <th>2017-12-05</th>\n",
       "      <td>262.587677</td>\n",
       "      <td>90.097992</td>\n",
       "      <td>102.630356</td>\n",
       "      <td>108.297256</td>\n",
       "      <td>37.399117</td>\n",
       "      <td>56.099590</td>\n",
       "      <td>75.902573</td>\n",
       "      <td>275.540009</td>\n",
       "      <td>120.389999</td>\n",
       "      <td>107.220001</td>\n",
       "      <td>...</td>\n",
       "      <td>46.250000</td>\n",
       "      <td>60.650002</td>\n",
       "      <td>91.519997</td>\n",
       "      <td>2806100</td>\n",
       "      <td>4380700</td>\n",
       "      <td>13055600</td>\n",
       "      <td>5301128</td>\n",
       "      <td>13670800</td>\n",
       "      <td>8862900</td>\n",
       "      <td>8683000</td>\n",
       "    </tr>\n",
       "    <tr>\n",
       "      <th>2017-12-06</th>\n",
       "      <td>265.189331</td>\n",
       "      <td>89.514236</td>\n",
       "      <td>100.945702</td>\n",
       "      <td>107.425835</td>\n",
       "      <td>37.552711</td>\n",
       "      <td>55.449642</td>\n",
       "      <td>75.777992</td>\n",
       "      <td>278.269989</td>\n",
       "      <td>119.610001</td>\n",
       "      <td>105.459999</td>\n",
       "      <td>...</td>\n",
       "      <td>46.360001</td>\n",
       "      <td>60.410000</td>\n",
       "      <td>91.389999</td>\n",
       "      <td>2538100</td>\n",
       "      <td>4852500</td>\n",
       "      <td>8121700</td>\n",
       "      <td>3567592</td>\n",
       "      <td>8154000</td>\n",
       "      <td>7862200</td>\n",
       "      <td>6737400</td>\n",
       "    </tr>\n",
       "    <tr>\n",
       "      <th>2017-12-07</th>\n",
       "      <td>268.715424</td>\n",
       "      <td>89.529213</td>\n",
       "      <td>100.754265</td>\n",
       "      <td>107.056381</td>\n",
       "      <td>37.011055</td>\n",
       "      <td>56.266720</td>\n",
       "      <td>74.823013</td>\n",
       "      <td>281.970001</td>\n",
       "      <td>119.629997</td>\n",
       "      <td>105.260002</td>\n",
       "      <td>...</td>\n",
       "      <td>46.290001</td>\n",
       "      <td>59.860001</td>\n",
       "      <td>91.050003</td>\n",
       "      <td>4264400</td>\n",
       "      <td>4908500</td>\n",
       "      <td>9948600</td>\n",
       "      <td>3944571</td>\n",
       "      <td>9106500</td>\n",
       "      <td>6113300</td>\n",
       "      <td>7273600</td>\n",
       "    </tr>\n",
       "  </tbody>\n",
       "</table>\n",
       "<p>5 rows × 42 columns</p>\n",
       "</div>"
      ],
      "text/plain": [
       "Price        Adj Close                                                \\\n",
       "Ticker              BA        CVX         DIS         IBM         KO   \n",
       "Date                                                                   \n",
       "2017-12-01  258.623199  89.439400  100.744690  107.885948  37.164661   \n",
       "2017-12-04  264.903381  90.434753  105.501945  109.071053  37.374863   \n",
       "2017-12-05  262.587677  90.097992  102.630356  108.297256  37.399117   \n",
       "2017-12-06  265.189331  89.514236  100.945702  107.425835  37.552711   \n",
       "2017-12-07  268.715424  89.529213  100.754265  107.056381  37.011055   \n",
       "\n",
       "Price                                  Close                          ...  \\\n",
       "Ticker            NKE         PG          BA         CVX         DIS  ...   \n",
       "Date                                                                  ...   \n",
       "2017-12-01  55.598209  75.038933  271.380005  119.510002  105.250000  ...   \n",
       "2017-12-04  55.802471  75.910896  277.970001  120.839996  110.220001  ...   \n",
       "2017-12-05  56.099590  75.902573  275.540009  120.389999  107.220001  ...   \n",
       "2017-12-06  55.449642  75.777992  278.269989  119.610001  105.459999  ...   \n",
       "2017-12-07  56.266720  74.823013  281.970001  119.629997  105.260002  ...   \n",
       "\n",
       "Price            Open                         Volume                     \\\n",
       "Ticker             KO        NKE         PG       BA      CVX       DIS   \n",
       "Date                                                                      \n",
       "2017-12-01  45.799999  60.419998  90.180000  4592500  6831800   9258400   \n",
       "2017-12-04  45.990002  60.270000  91.760002  5523000  7366400  17824000   \n",
       "2017-12-05  46.250000  60.650002  91.519997  2806100  4380700  13055600   \n",
       "2017-12-06  46.360001  60.410000  91.389999  2538100  4852500   8121700   \n",
       "2017-12-07  46.290001  59.860001  91.050003  4264400  4908500   9948600   \n",
       "\n",
       "Price                                             \n",
       "Ticker          IBM        KO       NKE       PG  \n",
       "Date                                              \n",
       "2017-12-01  5824023  12468800  10113500  7953200  \n",
       "2017-12-04  4878858  17523600   7513200  9003700  \n",
       "2017-12-05  5301128  13670800   8862900  8683000  \n",
       "2017-12-06  3567592   8154000   7862200  6737400  \n",
       "2017-12-07  3944571   9106500   6113300  7273600  \n",
       "\n",
       "[5 rows x 42 columns]"
      ]
     },
     "execution_count": 2,
     "metadata": {},
     "output_type": "execute_result"
    }
   ],
   "source": [
    "Ast = yf.download(['PG', 'DIS', 'IBM', 'NKE', 'BA', 'KO', 'CVX'], interval=\"1d\", start=\"2017-12-01\", end=\"2023-09-30\")\n",
    "\n",
    "Ast.head()"
   ]
  },
  {
   "cell_type": "markdown",
   "metadata": {},
   "source": [
    "### resample to monthly return  ( in sample data )"
   ]
  },
  {
   "cell_type": "code",
   "execution_count": 3,
   "metadata": {},
   "outputs": [
    {
     "name": "stderr",
     "output_type": "stream",
     "text": [
      "[*********************100%%**********************]  7 of 7 completed\n"
     ]
    },
    {
     "data": {
      "text/html": [
       "<div>\n",
       "<style scoped>\n",
       "    .dataframe tbody tr th:only-of-type {\n",
       "        vertical-align: middle;\n",
       "    }\n",
       "\n",
       "    .dataframe tbody tr th {\n",
       "        vertical-align: top;\n",
       "    }\n",
       "\n",
       "    .dataframe thead th {\n",
       "        text-align: right;\n",
       "    }\n",
       "</style>\n",
       "<table border=\"1\" class=\"dataframe\">\n",
       "  <thead>\n",
       "    <tr style=\"text-align: right;\">\n",
       "      <th>Ticker</th>\n",
       "      <th>BA</th>\n",
       "      <th>CVX</th>\n",
       "      <th>DIS</th>\n",
       "      <th>IBM</th>\n",
       "      <th>KO</th>\n",
       "      <th>NKE</th>\n",
       "      <th>PG</th>\n",
       "    </tr>\n",
       "    <tr>\n",
       "      <th>Date</th>\n",
       "      <th></th>\n",
       "      <th></th>\n",
       "      <th></th>\n",
       "      <th></th>\n",
       "      <th></th>\n",
       "      <th></th>\n",
       "      <th></th>\n",
       "    </tr>\n",
       "  </thead>\n",
       "  <tbody>\n",
       "    <tr>\n",
       "      <th>2018-01-31</th>\n",
       "      <td>0.201621</td>\n",
       "      <td>0.001278</td>\n",
       "      <td>0.018921</td>\n",
       "      <td>0.067006</td>\n",
       "      <td>0.037271</td>\n",
       "      <td>0.094270</td>\n",
       "      <td>-0.060296</td>\n",
       "    </tr>\n",
       "    <tr>\n",
       "      <th>2018-02-28</th>\n",
       "      <td>0.022124</td>\n",
       "      <td>-0.107140</td>\n",
       "      <td>-0.050704</td>\n",
       "      <td>-0.048076</td>\n",
       "      <td>-0.091826</td>\n",
       "      <td>-0.017444</td>\n",
       "      <td>-0.083639</td>\n",
       "    </tr>\n",
       "    <tr>\n",
       "      <th>2018-03-31</th>\n",
       "      <td>-0.090311</td>\n",
       "      <td>0.029085</td>\n",
       "      <td>-0.026367</td>\n",
       "      <td>-0.005707</td>\n",
       "      <td>0.004859</td>\n",
       "      <td>-0.008802</td>\n",
       "      <td>0.009679</td>\n",
       "    </tr>\n",
       "    <tr>\n",
       "      <th>2018-04-30</th>\n",
       "      <td>0.017324</td>\n",
       "      <td>0.097071</td>\n",
       "      <td>-0.001095</td>\n",
       "      <td>-0.055204</td>\n",
       "      <td>0.003717</td>\n",
       "      <td>0.032463</td>\n",
       "      <td>-0.087538</td>\n",
       "    </tr>\n",
       "    <tr>\n",
       "      <th>2018-05-31</th>\n",
       "      <td>0.055762</td>\n",
       "      <td>-0.006475</td>\n",
       "      <td>-0.008572</td>\n",
       "      <td>-0.025180</td>\n",
       "      <td>-0.004860</td>\n",
       "      <td>0.049861</td>\n",
       "      <td>0.020834</td>\n",
       "    </tr>\n",
       "  </tbody>\n",
       "</table>\n",
       "</div>"
      ],
      "text/plain": [
       "Ticker            BA       CVX       DIS       IBM        KO       NKE  \\\n",
       "Date                                                                     \n",
       "2018-01-31  0.201621  0.001278  0.018921  0.067006  0.037271  0.094270   \n",
       "2018-02-28  0.022124 -0.107140 -0.050704 -0.048076 -0.091826 -0.017444   \n",
       "2018-03-31 -0.090311  0.029085 -0.026367 -0.005707  0.004859 -0.008802   \n",
       "2018-04-30  0.017324  0.097071 -0.001095 -0.055204  0.003717  0.032463   \n",
       "2018-05-31  0.055762 -0.006475 -0.008572 -0.025180 -0.004860  0.049861   \n",
       "\n",
       "Ticker            PG  \n",
       "Date                  \n",
       "2018-01-31 -0.060296  \n",
       "2018-02-28 -0.083639  \n",
       "2018-03-31  0.009679  \n",
       "2018-04-30 -0.087538  \n",
       "2018-05-31  0.020834  "
      ]
     },
     "execution_count": 3,
     "metadata": {},
     "output_type": "execute_result"
    }
   ],
   "source": [
    "# first method \n",
    "\n",
    "Ast_month = yf.download(['PG', 'DIS', 'IBM', 'NKE', 'BA', 'KO', 'CVX'], interval=\"1mo\", start=\"2017-12-01\", end=\"2023-09-30\")\n",
    "\n",
    "monthly_adj = Ast_month['Adj Close'].resample('ME').last().pct_change().dropna() # resample('ME'): month end \n",
    "\n",
    "train = monthly_adj.loc[:'2022-12-29']\n",
    "train.head()"
   ]
  },
  {
   "cell_type": "code",
   "execution_count": 4,
   "metadata": {},
   "outputs": [
    {
     "data": {
      "text/html": [
       "<div>\n",
       "<style scoped>\n",
       "    .dataframe tbody tr th:only-of-type {\n",
       "        vertical-align: middle;\n",
       "    }\n",
       "\n",
       "    .dataframe tbody tr th {\n",
       "        vertical-align: top;\n",
       "    }\n",
       "\n",
       "    .dataframe thead th {\n",
       "        text-align: right;\n",
       "    }\n",
       "</style>\n",
       "<table border=\"1\" class=\"dataframe\">\n",
       "  <thead>\n",
       "    <tr style=\"text-align: right;\">\n",
       "      <th>Ticker</th>\n",
       "      <th>BA</th>\n",
       "      <th>CVX</th>\n",
       "      <th>DIS</th>\n",
       "      <th>IBM</th>\n",
       "      <th>KO</th>\n",
       "      <th>NKE</th>\n",
       "      <th>PG</th>\n",
       "    </tr>\n",
       "    <tr>\n",
       "      <th>Date</th>\n",
       "      <th></th>\n",
       "      <th></th>\n",
       "      <th></th>\n",
       "      <th></th>\n",
       "      <th></th>\n",
       "      <th></th>\n",
       "      <th></th>\n",
       "    </tr>\n",
       "  </thead>\n",
       "  <tbody>\n",
       "    <tr>\n",
       "      <th>2018-01-31</th>\n",
       "      <td>0.201621</td>\n",
       "      <td>0.001278</td>\n",
       "      <td>0.010790</td>\n",
       "      <td>0.067006</td>\n",
       "      <td>0.037271</td>\n",
       "      <td>0.090647</td>\n",
       "      <td>-0.053132</td>\n",
       "    </tr>\n",
       "    <tr>\n",
       "      <th>2018-02-28</th>\n",
       "      <td>0.027169</td>\n",
       "      <td>-0.098252</td>\n",
       "      <td>-0.050704</td>\n",
       "      <td>-0.038704</td>\n",
       "      <td>-0.091826</td>\n",
       "      <td>-0.017443</td>\n",
       "      <td>-0.090572</td>\n",
       "    </tr>\n",
       "    <tr>\n",
       "      <th>2018-03-31</th>\n",
       "      <td>-0.094779</td>\n",
       "      <td>0.018942</td>\n",
       "      <td>-0.026367</td>\n",
       "      <td>-0.015401</td>\n",
       "      <td>0.013730</td>\n",
       "      <td>-0.005804</td>\n",
       "      <td>0.009680</td>\n",
       "    </tr>\n",
       "    <tr>\n",
       "      <th>2018-04-30</th>\n",
       "      <td>0.017324</td>\n",
       "      <td>0.097071</td>\n",
       "      <td>-0.001095</td>\n",
       "      <td>-0.055205</td>\n",
       "      <td>-0.005066</td>\n",
       "      <td>0.029350</td>\n",
       "      <td>-0.079094</td>\n",
       "    </tr>\n",
       "    <tr>\n",
       "      <th>2018-05-31</th>\n",
       "      <td>0.061029</td>\n",
       "      <td>0.002189</td>\n",
       "      <td>-0.008572</td>\n",
       "      <td>-0.014358</td>\n",
       "      <td>-0.004860</td>\n",
       "      <td>0.049861</td>\n",
       "      <td>0.011474</td>\n",
       "    </tr>\n",
       "  </tbody>\n",
       "</table>\n",
       "</div>"
      ],
      "text/plain": [
       "Ticker            BA       CVX       DIS       IBM        KO       NKE  \\\n",
       "Date                                                                     \n",
       "2018-01-31  0.201621  0.001278  0.010790  0.067006  0.037271  0.090647   \n",
       "2018-02-28  0.027169 -0.098252 -0.050704 -0.038704 -0.091826 -0.017443   \n",
       "2018-03-31 -0.094779  0.018942 -0.026367 -0.015401  0.013730 -0.005804   \n",
       "2018-04-30  0.017324  0.097071 -0.001095 -0.055205 -0.005066  0.029350   \n",
       "2018-05-31  0.061029  0.002189 -0.008572 -0.014358 -0.004860  0.049861   \n",
       "\n",
       "Ticker            PG  \n",
       "Date                  \n",
       "2018-01-31 -0.053132  \n",
       "2018-02-28 -0.090572  \n",
       "2018-03-31  0.009680  \n",
       "2018-04-30 -0.079094  \n",
       "2018-05-31  0.011474  "
      ]
     },
     "execution_count": 4,
     "metadata": {},
     "output_type": "execute_result"
    }
   ],
   "source": [
    "# second method ( monthly adj return )\n",
    "\n",
    "Ri = (Ast['Adj Close'].loc[:'2022-12-29'].resample('ME').last().pct_change().dropna())  # in sample \n",
    "\n",
    "\"\"\" \n",
    ".last: using the last day of month \n",
    ".pct_change: --> return \n",
    "\n",
    "\"\"\"\n",
    "Ri.head()\n"
   ]
  },
  {
   "cell_type": "markdown",
   "metadata": {},
   "source": [
    "### Log return \n",
    "- ln ( Pt / Pt-1) = ln ( Pt ) - ln ( Pt-1)"
   ]
  },
  {
   "cell_type": "code",
   "execution_count": 5,
   "metadata": {},
   "outputs": [
    {
     "data": {
      "text/html": [
       "<div>\n",
       "<style scoped>\n",
       "    .dataframe tbody tr th:only-of-type {\n",
       "        vertical-align: middle;\n",
       "    }\n",
       "\n",
       "    .dataframe tbody tr th {\n",
       "        vertical-align: top;\n",
       "    }\n",
       "\n",
       "    .dataframe thead th {\n",
       "        text-align: right;\n",
       "    }\n",
       "</style>\n",
       "<table border=\"1\" class=\"dataframe\">\n",
       "  <thead>\n",
       "    <tr style=\"text-align: right;\">\n",
       "      <th>Ticker</th>\n",
       "      <th>BA</th>\n",
       "      <th>CVX</th>\n",
       "      <th>DIS</th>\n",
       "      <th>IBM</th>\n",
       "      <th>KO</th>\n",
       "      <th>NKE</th>\n",
       "      <th>PG</th>\n",
       "    </tr>\n",
       "    <tr>\n",
       "      <th>Date</th>\n",
       "      <th></th>\n",
       "      <th></th>\n",
       "      <th></th>\n",
       "      <th></th>\n",
       "      <th></th>\n",
       "      <th></th>\n",
       "      <th></th>\n",
       "    </tr>\n",
       "  </thead>\n",
       "  <tbody>\n",
       "    <tr>\n",
       "      <th>2017-12-01</th>\n",
       "      <td>5.555372</td>\n",
       "      <td>4.493561</td>\n",
       "      <td>4.612589</td>\n",
       "      <td>4.681075</td>\n",
       "      <td>3.615358</td>\n",
       "      <td>4.018151</td>\n",
       "      <td>4.318007</td>\n",
       "    </tr>\n",
       "    <tr>\n",
       "      <th>2017-12-04</th>\n",
       "      <td>5.579365</td>\n",
       "      <td>4.504629</td>\n",
       "      <td>4.658729</td>\n",
       "      <td>4.692000</td>\n",
       "      <td>3.620998</td>\n",
       "      <td>4.021818</td>\n",
       "      <td>4.329560</td>\n",
       "    </tr>\n",
       "    <tr>\n",
       "      <th>2017-12-05</th>\n",
       "      <td>5.570585</td>\n",
       "      <td>4.500898</td>\n",
       "      <td>4.631134</td>\n",
       "      <td>4.684880</td>\n",
       "      <td>3.621647</td>\n",
       "      <td>4.027129</td>\n",
       "      <td>4.329451</td>\n",
       "    </tr>\n",
       "    <tr>\n",
       "      <th>2017-12-06</th>\n",
       "      <td>5.580444</td>\n",
       "      <td>4.494398</td>\n",
       "      <td>4.614583</td>\n",
       "      <td>4.676801</td>\n",
       "      <td>3.625746</td>\n",
       "      <td>4.015475</td>\n",
       "      <td>4.327808</td>\n",
       "    </tr>\n",
       "    <tr>\n",
       "      <th>2017-12-07</th>\n",
       "      <td>5.593653</td>\n",
       "      <td>4.494565</td>\n",
       "      <td>4.612685</td>\n",
       "      <td>4.673356</td>\n",
       "      <td>3.611217</td>\n",
       "      <td>4.030103</td>\n",
       "      <td>4.315126</td>\n",
       "    </tr>\n",
       "    <tr>\n",
       "      <th>...</th>\n",
       "      <td>...</td>\n",
       "      <td>...</td>\n",
       "      <td>...</td>\n",
       "      <td>...</td>\n",
       "      <td>...</td>\n",
       "      <td>...</td>\n",
       "      <td>...</td>\n",
       "    </tr>\n",
       "    <tr>\n",
       "      <th>2023-09-25</th>\n",
       "      <td>5.292199</td>\n",
       "      <td>5.085724</td>\n",
       "      <td>4.386716</td>\n",
       "      <td>4.947950</td>\n",
       "      <td>4.012592</td>\n",
       "      <td>4.491176</td>\n",
       "      <td>4.984143</td>\n",
       "    </tr>\n",
       "    <tr>\n",
       "      <th>2023-09-26</th>\n",
       "      <td>5.276276</td>\n",
       "      <td>5.080315</td>\n",
       "      <td>4.374795</td>\n",
       "      <td>4.925583</td>\n",
       "      <td>4.004312</td>\n",
       "      <td>4.486418</td>\n",
       "      <td>4.975209</td>\n",
       "    </tr>\n",
       "    <tr>\n",
       "      <th>2023-09-27</th>\n",
       "      <td>5.275356</td>\n",
       "      <td>5.099440</td>\n",
       "      <td>4.372919</td>\n",
       "      <td>4.925094</td>\n",
       "      <td>3.993999</td>\n",
       "      <td>4.478066</td>\n",
       "      <td>4.961860</td>\n",
       "    </tr>\n",
       "    <tr>\n",
       "      <th>2023-09-28</th>\n",
       "      <td>5.249285</td>\n",
       "      <td>5.096805</td>\n",
       "      <td>4.375794</td>\n",
       "      <td>4.913926</td>\n",
       "      <td>3.991494</td>\n",
       "      <td>4.480412</td>\n",
       "      <td>4.955050</td>\n",
       "    </tr>\n",
       "    <tr>\n",
       "      <th>2023-09-29</th>\n",
       "      <td>5.255827</td>\n",
       "      <td>5.085190</td>\n",
       "      <td>4.387210</td>\n",
       "      <td>4.904844</td>\n",
       "      <td>3.994535</td>\n",
       "      <td>4.545104</td>\n",
       "      <td>4.951765</td>\n",
       "    </tr>\n",
       "  </tbody>\n",
       "</table>\n",
       "<p>1466 rows × 7 columns</p>\n",
       "</div>"
      ],
      "text/plain": [
       "Ticker            BA       CVX       DIS       IBM        KO       NKE  \\\n",
       "Date                                                                     \n",
       "2017-12-01  5.555372  4.493561  4.612589  4.681075  3.615358  4.018151   \n",
       "2017-12-04  5.579365  4.504629  4.658729  4.692000  3.620998  4.021818   \n",
       "2017-12-05  5.570585  4.500898  4.631134  4.684880  3.621647  4.027129   \n",
       "2017-12-06  5.580444  4.494398  4.614583  4.676801  3.625746  4.015475   \n",
       "2017-12-07  5.593653  4.494565  4.612685  4.673356  3.611217  4.030103   \n",
       "...              ...       ...       ...       ...       ...       ...   \n",
       "2023-09-25  5.292199  5.085724  4.386716  4.947950  4.012592  4.491176   \n",
       "2023-09-26  5.276276  5.080315  4.374795  4.925583  4.004312  4.486418   \n",
       "2023-09-27  5.275356  5.099440  4.372919  4.925094  3.993999  4.478066   \n",
       "2023-09-28  5.249285  5.096805  4.375794  4.913926  3.991494  4.480412   \n",
       "2023-09-29  5.255827  5.085190  4.387210  4.904844  3.994535  4.545104   \n",
       "\n",
       "Ticker            PG  \n",
       "Date                  \n",
       "2017-12-01  4.318007  \n",
       "2017-12-04  4.329560  \n",
       "2017-12-05  4.329451  \n",
       "2017-12-06  4.327808  \n",
       "2017-12-07  4.315126  \n",
       "...              ...  \n",
       "2023-09-25  4.984143  \n",
       "2023-09-26  4.975209  \n",
       "2023-09-27  4.961860  \n",
       "2023-09-28  4.955050  \n",
       "2023-09-29  4.951765  \n",
       "\n",
       "[1466 rows x 7 columns]"
      ]
     },
     "execution_count": 5,
     "metadata": {},
     "output_type": "execute_result"
    }
   ],
   "source": [
    "np.log(Ast['Adj Close'])"
   ]
  },
  {
   "cell_type": "code",
   "execution_count": 6,
   "metadata": {},
   "outputs": [
    {
     "data": {
      "text/plain": [
       "0.02399299999999993"
      ]
     },
     "execution_count": 6,
     "metadata": {},
     "output_type": "execute_result"
    }
   ],
   "source": [
    "5.579365 - 5.555372  # to test the following calculation "
   ]
  },
  {
   "cell_type": "code",
   "execution_count": 7,
   "metadata": {},
   "outputs": [
    {
     "data": {
      "text/html": [
       "<div>\n",
       "<style scoped>\n",
       "    .dataframe tbody tr th:only-of-type {\n",
       "        vertical-align: middle;\n",
       "    }\n",
       "\n",
       "    .dataframe tbody tr th {\n",
       "        vertical-align: top;\n",
       "    }\n",
       "\n",
       "    .dataframe thead th {\n",
       "        text-align: right;\n",
       "    }\n",
       "</style>\n",
       "<table border=\"1\" class=\"dataframe\">\n",
       "  <thead>\n",
       "    <tr style=\"text-align: right;\">\n",
       "      <th>Ticker</th>\n",
       "      <th>BA</th>\n",
       "      <th>CVX</th>\n",
       "      <th>DIS</th>\n",
       "      <th>IBM</th>\n",
       "      <th>KO</th>\n",
       "      <th>NKE</th>\n",
       "      <th>PG</th>\n",
       "    </tr>\n",
       "    <tr>\n",
       "      <th>Date</th>\n",
       "      <th></th>\n",
       "      <th></th>\n",
       "      <th></th>\n",
       "      <th></th>\n",
       "      <th></th>\n",
       "      <th></th>\n",
       "      <th></th>\n",
       "    </tr>\n",
       "  </thead>\n",
       "  <tbody>\n",
       "    <tr>\n",
       "      <th>2017-12-01</th>\n",
       "      <td>NaN</td>\n",
       "      <td>NaN</td>\n",
       "      <td>NaN</td>\n",
       "      <td>NaN</td>\n",
       "      <td>NaN</td>\n",
       "      <td>NaN</td>\n",
       "      <td>NaN</td>\n",
       "    </tr>\n",
       "    <tr>\n",
       "      <th>2017-12-04</th>\n",
       "      <td>0.023993</td>\n",
       "      <td>0.011067</td>\n",
       "      <td>0.046140</td>\n",
       "      <td>0.010925</td>\n",
       "      <td>0.005640</td>\n",
       "      <td>0.003667</td>\n",
       "      <td>0.011553</td>\n",
       "    </tr>\n",
       "    <tr>\n",
       "      <th>2017-12-05</th>\n",
       "      <td>-0.008780</td>\n",
       "      <td>-0.003731</td>\n",
       "      <td>-0.027596</td>\n",
       "      <td>-0.007120</td>\n",
       "      <td>0.000649</td>\n",
       "      <td>0.005310</td>\n",
       "      <td>-0.000110</td>\n",
       "    </tr>\n",
       "    <tr>\n",
       "      <th>2017-12-06</th>\n",
       "      <td>0.009859</td>\n",
       "      <td>-0.006500</td>\n",
       "      <td>-0.016551</td>\n",
       "      <td>-0.008079</td>\n",
       "      <td>0.004099</td>\n",
       "      <td>-0.011653</td>\n",
       "      <td>-0.001643</td>\n",
       "    </tr>\n",
       "    <tr>\n",
       "      <th>2017-12-07</th>\n",
       "      <td>0.013209</td>\n",
       "      <td>0.000167</td>\n",
       "      <td>-0.001898</td>\n",
       "      <td>-0.003445</td>\n",
       "      <td>-0.014529</td>\n",
       "      <td>0.014628</td>\n",
       "      <td>-0.012682</td>\n",
       "    </tr>\n",
       "  </tbody>\n",
       "</table>\n",
       "</div>"
      ],
      "text/plain": [
       "Ticker            BA       CVX       DIS       IBM        KO       NKE  \\\n",
       "Date                                                                     \n",
       "2017-12-01       NaN       NaN       NaN       NaN       NaN       NaN   \n",
       "2017-12-04  0.023993  0.011067  0.046140  0.010925  0.005640  0.003667   \n",
       "2017-12-05 -0.008780 -0.003731 -0.027596 -0.007120  0.000649  0.005310   \n",
       "2017-12-06  0.009859 -0.006500 -0.016551 -0.008079  0.004099 -0.011653   \n",
       "2017-12-07  0.013209  0.000167 -0.001898 -0.003445 -0.014529  0.014628   \n",
       "\n",
       "Ticker            PG  \n",
       "Date                  \n",
       "2017-12-01       NaN  \n",
       "2017-12-04  0.011553  \n",
       "2017-12-05 -0.000110  \n",
       "2017-12-06 -0.001643  \n",
       "2017-12-07 -0.012682  "
      ]
     },
     "execution_count": 7,
     "metadata": {},
     "output_type": "execute_result"
    }
   ],
   "source": [
    "np.log(Ast['Adj Close']).diff(1).head()"
   ]
  },
  {
   "cell_type": "markdown",
   "metadata": {},
   "source": [
    "### Compare ans with pct_change "
   ]
  },
  {
   "cell_type": "code",
   "execution_count": 8,
   "metadata": {},
   "outputs": [
    {
     "data": {
      "text/html": [
       "<div>\n",
       "<style scoped>\n",
       "    .dataframe tbody tr th:only-of-type {\n",
       "        vertical-align: middle;\n",
       "    }\n",
       "\n",
       "    .dataframe tbody tr th {\n",
       "        vertical-align: top;\n",
       "    }\n",
       "\n",
       "    .dataframe thead th {\n",
       "        text-align: right;\n",
       "    }\n",
       "</style>\n",
       "<table border=\"1\" class=\"dataframe\">\n",
       "  <thead>\n",
       "    <tr style=\"text-align: right;\">\n",
       "      <th>Ticker</th>\n",
       "      <th>BA</th>\n",
       "      <th>CVX</th>\n",
       "      <th>DIS</th>\n",
       "      <th>IBM</th>\n",
       "      <th>KO</th>\n",
       "      <th>NKE</th>\n",
       "      <th>PG</th>\n",
       "    </tr>\n",
       "    <tr>\n",
       "      <th>Date</th>\n",
       "      <th></th>\n",
       "      <th></th>\n",
       "      <th></th>\n",
       "      <th></th>\n",
       "      <th></th>\n",
       "      <th></th>\n",
       "      <th></th>\n",
       "    </tr>\n",
       "  </thead>\n",
       "  <tbody>\n",
       "    <tr>\n",
       "      <th>2017-12-01</th>\n",
       "      <td>NaN</td>\n",
       "      <td>NaN</td>\n",
       "      <td>NaN</td>\n",
       "      <td>NaN</td>\n",
       "      <td>NaN</td>\n",
       "      <td>NaN</td>\n",
       "      <td>NaN</td>\n",
       "    </tr>\n",
       "    <tr>\n",
       "      <th>2017-12-04</th>\n",
       "      <td>0.024283</td>\n",
       "      <td>0.011129</td>\n",
       "      <td>0.047221</td>\n",
       "      <td>0.010985</td>\n",
       "      <td>0.005656</td>\n",
       "      <td>0.003674</td>\n",
       "      <td>0.011620</td>\n",
       "    </tr>\n",
       "    <tr>\n",
       "      <th>2017-12-05</th>\n",
       "      <td>-0.008742</td>\n",
       "      <td>-0.003724</td>\n",
       "      <td>-0.027218</td>\n",
       "      <td>-0.007094</td>\n",
       "      <td>0.000649</td>\n",
       "      <td>0.005324</td>\n",
       "      <td>-0.000110</td>\n",
       "    </tr>\n",
       "    <tr>\n",
       "      <th>2017-12-06</th>\n",
       "      <td>0.009908</td>\n",
       "      <td>-0.006479</td>\n",
       "      <td>-0.016415</td>\n",
       "      <td>-0.008047</td>\n",
       "      <td>0.004107</td>\n",
       "      <td>-0.011586</td>\n",
       "      <td>-0.001641</td>\n",
       "    </tr>\n",
       "    <tr>\n",
       "      <th>2017-12-07</th>\n",
       "      <td>0.013297</td>\n",
       "      <td>0.000167</td>\n",
       "      <td>-0.001896</td>\n",
       "      <td>-0.003439</td>\n",
       "      <td>-0.014424</td>\n",
       "      <td>0.014735</td>\n",
       "      <td>-0.012602</td>\n",
       "    </tr>\n",
       "  </tbody>\n",
       "</table>\n",
       "</div>"
      ],
      "text/plain": [
       "Ticker            BA       CVX       DIS       IBM        KO       NKE  \\\n",
       "Date                                                                     \n",
       "2017-12-01       NaN       NaN       NaN       NaN       NaN       NaN   \n",
       "2017-12-04  0.024283  0.011129  0.047221  0.010985  0.005656  0.003674   \n",
       "2017-12-05 -0.008742 -0.003724 -0.027218 -0.007094  0.000649  0.005324   \n",
       "2017-12-06  0.009908 -0.006479 -0.016415 -0.008047  0.004107 -0.011586   \n",
       "2017-12-07  0.013297  0.000167 -0.001896 -0.003439 -0.014424  0.014735   \n",
       "\n",
       "Ticker            PG  \n",
       "Date                  \n",
       "2017-12-01       NaN  \n",
       "2017-12-04  0.011620  \n",
       "2017-12-05 -0.000110  \n",
       "2017-12-06 -0.001641  \n",
       "2017-12-07 -0.012602  "
      ]
     },
     "execution_count": 8,
     "metadata": {},
     "output_type": "execute_result"
    }
   ],
   "source": [
    "Ast['Adj Close'].pct_change().head()"
   ]
  },
  {
   "cell_type": "markdown",
   "metadata": {},
   "source": [
    "### Out of sample ( backtesting )"
   ]
  },
  {
   "cell_type": "code",
   "execution_count": 9,
   "metadata": {},
   "outputs": [
    {
     "data": {
      "text/html": [
       "<div>\n",
       "<style scoped>\n",
       "    .dataframe tbody tr th:only-of-type {\n",
       "        vertical-align: middle;\n",
       "    }\n",
       "\n",
       "    .dataframe tbody tr th {\n",
       "        vertical-align: top;\n",
       "    }\n",
       "\n",
       "    .dataframe thead th {\n",
       "        text-align: right;\n",
       "    }\n",
       "</style>\n",
       "<table border=\"1\" class=\"dataframe\">\n",
       "  <thead>\n",
       "    <tr style=\"text-align: right;\">\n",
       "      <th>Ticker</th>\n",
       "      <th>BA</th>\n",
       "      <th>CVX</th>\n",
       "      <th>DIS</th>\n",
       "      <th>IBM</th>\n",
       "      <th>KO</th>\n",
       "      <th>NKE</th>\n",
       "      <th>PG</th>\n",
       "    </tr>\n",
       "    <tr>\n",
       "      <th>Date</th>\n",
       "      <th></th>\n",
       "      <th></th>\n",
       "      <th></th>\n",
       "      <th></th>\n",
       "      <th></th>\n",
       "      <th></th>\n",
       "      <th></th>\n",
       "    </tr>\n",
       "  </thead>\n",
       "  <tbody>\n",
       "    <tr>\n",
       "      <th>2022-12-30</th>\n",
       "      <td>190.490005</td>\n",
       "      <td>167.260269</td>\n",
       "      <td>86.200081</td>\n",
       "      <td>130.561768</td>\n",
       "      <td>60.290852</td>\n",
       "      <td>114.148369</td>\n",
       "      <td>144.217361</td>\n",
       "    </tr>\n",
       "    <tr>\n",
       "      <th>2023-01-03</th>\n",
       "      <td>195.389999</td>\n",
       "      <td>162.135040</td>\n",
       "      <td>88.273735</td>\n",
       "      <td>131.173416</td>\n",
       "      <td>59.665295</td>\n",
       "      <td>115.845810</td>\n",
       "      <td>144.226883</td>\n",
       "    </tr>\n",
       "    <tr>\n",
       "      <th>2023-01-04</th>\n",
       "      <td>203.639999</td>\n",
       "      <td>160.411072</td>\n",
       "      <td>91.260178</td>\n",
       "      <td>132.146454</td>\n",
       "      <td>59.636852</td>\n",
       "      <td>118.245651</td>\n",
       "      <td>144.854858</td>\n",
       "    </tr>\n",
       "    <tr>\n",
       "      <th>2023-01-05</th>\n",
       "      <td>204.990005</td>\n",
       "      <td>163.299866</td>\n",
       "      <td>91.200638</td>\n",
       "      <td>130.765656</td>\n",
       "      <td>58.954426</td>\n",
       "      <td>117.670082</td>\n",
       "      <td>143.056458</td>\n",
       "    </tr>\n",
       "    <tr>\n",
       "      <th>2023-01-06</th>\n",
       "      <td>213.000000</td>\n",
       "      <td>164.529922</td>\n",
       "      <td>93.184990</td>\n",
       "      <td>133.165771</td>\n",
       "      <td>60.091808</td>\n",
       "      <td>121.484459</td>\n",
       "      <td>146.463013</td>\n",
       "    </tr>\n",
       "  </tbody>\n",
       "</table>\n",
       "</div>"
      ],
      "text/plain": [
       "Ticker              BA         CVX        DIS         IBM         KO  \\\n",
       "Date                                                                   \n",
       "2022-12-30  190.490005  167.260269  86.200081  130.561768  60.290852   \n",
       "2023-01-03  195.389999  162.135040  88.273735  131.173416  59.665295   \n",
       "2023-01-04  203.639999  160.411072  91.260178  132.146454  59.636852   \n",
       "2023-01-05  204.990005  163.299866  91.200638  130.765656  58.954426   \n",
       "2023-01-06  213.000000  164.529922  93.184990  133.165771  60.091808   \n",
       "\n",
       "Ticker             NKE          PG  \n",
       "Date                                \n",
       "2022-12-30  114.148369  144.217361  \n",
       "2023-01-03  115.845810  144.226883  \n",
       "2023-01-04  118.245651  144.854858  \n",
       "2023-01-05  117.670082  143.056458  \n",
       "2023-01-06  121.484459  146.463013  "
      ]
     },
     "execution_count": 9,
     "metadata": {},
     "output_type": "execute_result"
    }
   ],
   "source": [
    "CRo = Ast['Adj Close'].loc['2022-12-30':'2023']  # CR out of sample\n",
    "CRo.head()"
   ]
  },
  {
   "cell_type": "code",
   "execution_count": 10,
   "metadata": {},
   "outputs": [
    {
     "data": {
      "text/html": [
       "<div>\n",
       "<style scoped>\n",
       "    .dataframe tbody tr th:only-of-type {\n",
       "        vertical-align: middle;\n",
       "    }\n",
       "\n",
       "    .dataframe tbody tr th {\n",
       "        vertical-align: top;\n",
       "    }\n",
       "\n",
       "    .dataframe thead th {\n",
       "        text-align: right;\n",
       "    }\n",
       "</style>\n",
       "<table border=\"1\" class=\"dataframe\">\n",
       "  <thead>\n",
       "    <tr style=\"text-align: right;\">\n",
       "      <th>Ticker</th>\n",
       "      <th>BA</th>\n",
       "      <th>CVX</th>\n",
       "      <th>DIS</th>\n",
       "      <th>IBM</th>\n",
       "      <th>KO</th>\n",
       "      <th>NKE</th>\n",
       "      <th>PG</th>\n",
       "    </tr>\n",
       "    <tr>\n",
       "      <th>Date</th>\n",
       "      <th></th>\n",
       "      <th></th>\n",
       "      <th></th>\n",
       "      <th></th>\n",
       "      <th></th>\n",
       "      <th></th>\n",
       "      <th></th>\n",
       "    </tr>\n",
       "  </thead>\n",
       "  <tbody>\n",
       "    <tr>\n",
       "      <th>2022-12-30</th>\n",
       "      <td>1.000000</td>\n",
       "      <td>1.000000</td>\n",
       "      <td>1.000000</td>\n",
       "      <td>1.000000</td>\n",
       "      <td>1.000000</td>\n",
       "      <td>1.000000</td>\n",
       "      <td>1.000000</td>\n",
       "    </tr>\n",
       "    <tr>\n",
       "      <th>2023-01-03</th>\n",
       "      <td>1.025723</td>\n",
       "      <td>0.969358</td>\n",
       "      <td>1.024056</td>\n",
       "      <td>1.004685</td>\n",
       "      <td>0.989624</td>\n",
       "      <td>1.014870</td>\n",
       "      <td>1.000066</td>\n",
       "    </tr>\n",
       "    <tr>\n",
       "      <th>2023-01-04</th>\n",
       "      <td>1.069032</td>\n",
       "      <td>0.959051</td>\n",
       "      <td>1.058702</td>\n",
       "      <td>1.012137</td>\n",
       "      <td>0.989153</td>\n",
       "      <td>1.035894</td>\n",
       "      <td>1.004420</td>\n",
       "    </tr>\n",
       "    <tr>\n",
       "      <th>2023-01-05</th>\n",
       "      <td>1.076119</td>\n",
       "      <td>0.976322</td>\n",
       "      <td>1.058011</td>\n",
       "      <td>1.001562</td>\n",
       "      <td>0.977834</td>\n",
       "      <td>1.030852</td>\n",
       "      <td>0.991950</td>\n",
       "    </tr>\n",
       "    <tr>\n",
       "      <th>2023-01-06</th>\n",
       "      <td>1.118169</td>\n",
       "      <td>0.983676</td>\n",
       "      <td>1.081031</td>\n",
       "      <td>1.019945</td>\n",
       "      <td>0.996699</td>\n",
       "      <td>1.064268</td>\n",
       "      <td>1.015571</td>\n",
       "    </tr>\n",
       "  </tbody>\n",
       "</table>\n",
       "</div>"
      ],
      "text/plain": [
       "Ticker            BA       CVX       DIS       IBM        KO       NKE  \\\n",
       "Date                                                                     \n",
       "2022-12-30  1.000000  1.000000  1.000000  1.000000  1.000000  1.000000   \n",
       "2023-01-03  1.025723  0.969358  1.024056  1.004685  0.989624  1.014870   \n",
       "2023-01-04  1.069032  0.959051  1.058702  1.012137  0.989153  1.035894   \n",
       "2023-01-05  1.076119  0.976322  1.058011  1.001562  0.977834  1.030852   \n",
       "2023-01-06  1.118169  0.983676  1.081031  1.019945  0.996699  1.064268   \n",
       "\n",
       "Ticker            PG  \n",
       "Date                  \n",
       "2022-12-30  1.000000  \n",
       "2023-01-03  1.000066  \n",
       "2023-01-04  1.004420  \n",
       "2023-01-05  0.991950  \n",
       "2023-01-06  1.015571  "
      ]
     },
     "execution_count": 10,
     "metadata": {},
     "output_type": "execute_result"
    }
   ],
   "source": [
    "# To see cumulative gross return of each stock ( setting first row to 1)\n",
    "\n",
    "CRo = CRo/CRo.iloc[0,:]\n",
    "CRo.head()"
   ]
  },
  {
   "cell_type": "code",
   "execution_count": 11,
   "metadata": {},
   "outputs": [
    {
     "data": {
      "text/plain": [
       "<Axes: xlabel='Date'>"
      ]
     },
     "execution_count": 11,
     "metadata": {},
     "output_type": "execute_result"
    },
    {
     "data": {
      "image/png": "[encoded data removed]",
      "text/plain": [
       "<Figure size 1000x600 with 1 Axes>"
      ]
     },
     "metadata": {},
     "output_type": "display_data"
    }
   ],
   "source": [
    "CRo.plot(figsize=(10, 6))"
   ]
  },
  {
   "cell_type": "markdown",
   "metadata": {},
   "source": [
    "### Portfolio OPtimization "
   ]
  },
  {
   "cell_type": "markdown",
   "metadata": {},
   "source": [
    "- estimate input"
   ]
  },
  {
   "cell_type": "code",
   "execution_count": 12,
   "metadata": {},
   "outputs": [
    {
     "data": {
      "text/html": [
       "<div>\n",
       "<style scoped>\n",
       "    .dataframe tbody tr th:only-of-type {\n",
       "        vertical-align: middle;\n",
       "    }\n",
       "\n",
       "    .dataframe tbody tr th {\n",
       "        vertical-align: top;\n",
       "    }\n",
       "\n",
       "    .dataframe thead th {\n",
       "        text-align: right;\n",
       "    }\n",
       "</style>\n",
       "<table border=\"1\" class=\"dataframe\">\n",
       "  <thead>\n",
       "    <tr style=\"text-align: right;\">\n",
       "      <th>Ticker</th>\n",
       "      <th>BA</th>\n",
       "      <th>CVX</th>\n",
       "      <th>DIS</th>\n",
       "      <th>IBM</th>\n",
       "      <th>KO</th>\n",
       "      <th>NKE</th>\n",
       "      <th>PG</th>\n",
       "    </tr>\n",
       "    <tr>\n",
       "      <th>Date</th>\n",
       "      <th></th>\n",
       "      <th></th>\n",
       "      <th></th>\n",
       "      <th></th>\n",
       "      <th></th>\n",
       "      <th></th>\n",
       "      <th></th>\n",
       "    </tr>\n",
       "  </thead>\n",
       "  <tbody>\n",
       "    <tr>\n",
       "      <th>2018-01-31</th>\n",
       "      <td>0.201621</td>\n",
       "      <td>0.001278</td>\n",
       "      <td>0.010790</td>\n",
       "      <td>0.067006</td>\n",
       "      <td>0.037271</td>\n",
       "      <td>0.090647</td>\n",
       "      <td>-0.053132</td>\n",
       "    </tr>\n",
       "    <tr>\n",
       "      <th>2018-02-28</th>\n",
       "      <td>0.027169</td>\n",
       "      <td>-0.098252</td>\n",
       "      <td>-0.050704</td>\n",
       "      <td>-0.038704</td>\n",
       "      <td>-0.091826</td>\n",
       "      <td>-0.017443</td>\n",
       "      <td>-0.090572</td>\n",
       "    </tr>\n",
       "    <tr>\n",
       "      <th>2018-03-31</th>\n",
       "      <td>-0.094779</td>\n",
       "      <td>0.018942</td>\n",
       "      <td>-0.026367</td>\n",
       "      <td>-0.015401</td>\n",
       "      <td>0.013730</td>\n",
       "      <td>-0.005804</td>\n",
       "      <td>0.009680</td>\n",
       "    </tr>\n",
       "    <tr>\n",
       "      <th>2018-04-30</th>\n",
       "      <td>0.017324</td>\n",
       "      <td>0.097071</td>\n",
       "      <td>-0.001095</td>\n",
       "      <td>-0.055205</td>\n",
       "      <td>-0.005066</td>\n",
       "      <td>0.029350</td>\n",
       "      <td>-0.079094</td>\n",
       "    </tr>\n",
       "    <tr>\n",
       "      <th>2018-05-31</th>\n",
       "      <td>0.061029</td>\n",
       "      <td>0.002189</td>\n",
       "      <td>-0.008572</td>\n",
       "      <td>-0.014358</td>\n",
       "      <td>-0.004860</td>\n",
       "      <td>0.049861</td>\n",
       "      <td>0.011474</td>\n",
       "    </tr>\n",
       "    <tr>\n",
       "      <th>2018-06-30</th>\n",
       "      <td>-0.047280</td>\n",
       "      <td>0.017136</td>\n",
       "      <td>0.053685</td>\n",
       "      <td>-0.011393</td>\n",
       "      <td>0.029084</td>\n",
       "      <td>0.112849</td>\n",
       "      <td>0.066831</td>\n",
       "    </tr>\n",
       "    <tr>\n",
       "      <th>2018-07-31</th>\n",
       "      <td>0.061965</td>\n",
       "      <td>-0.001266</td>\n",
       "      <td>0.092194</td>\n",
       "      <td>0.037438</td>\n",
       "      <td>0.063155</td>\n",
       "      <td>-0.034764</td>\n",
       "      <td>0.045529</td>\n",
       "    </tr>\n",
       "    <tr>\n",
       "      <th>2018-08-31</th>\n",
       "      <td>-0.033164</td>\n",
       "      <td>-0.052857</td>\n",
       "      <td>-0.013561</td>\n",
       "      <td>0.021614</td>\n",
       "      <td>-0.044178</td>\n",
       "      <td>0.071414</td>\n",
       "      <td>0.025594</td>\n",
       "    </tr>\n",
       "    <tr>\n",
       "      <th>2018-09-30</th>\n",
       "      <td>0.084921</td>\n",
       "      <td>0.032247</td>\n",
       "      <td>0.043921</td>\n",
       "      <td>0.032291</td>\n",
       "      <td>0.045162</td>\n",
       "      <td>0.030657</td>\n",
       "      <td>0.003376</td>\n",
       "    </tr>\n",
       "    <tr>\n",
       "      <th>2018-10-31</th>\n",
       "      <td>-0.045819</td>\n",
       "      <td>-0.086931</td>\n",
       "      <td>-0.018043</td>\n",
       "      <td>-0.236625</td>\n",
       "      <td>0.036588</td>\n",
       "      <td>-0.114259</td>\n",
       "      <td>0.074896</td>\n",
       "    </tr>\n",
       "    <tr>\n",
       "      <th>2018-11-30</th>\n",
       "      <td>-0.018313</td>\n",
       "      <td>0.075705</td>\n",
       "      <td>0.005748</td>\n",
       "      <td>0.090295</td>\n",
       "      <td>0.060956</td>\n",
       "      <td>0.004038</td>\n",
       "      <td>0.065742</td>\n",
       "    </tr>\n",
       "    <tr>\n",
       "      <th>2018-12-31</th>\n",
       "      <td>-0.069962</td>\n",
       "      <td>-0.085337</td>\n",
       "      <td>-0.043203</td>\n",
       "      <td>-0.085298</td>\n",
       "      <td>-0.060516</td>\n",
       "      <td>-0.013046</td>\n",
       "      <td>-0.027405</td>\n",
       "    </tr>\n",
       "    <tr>\n",
       "      <th>2019-01-31</th>\n",
       "      <td>0.195721</td>\n",
       "      <td>0.053865</td>\n",
       "      <td>0.017054</td>\n",
       "      <td>0.182546</td>\n",
       "      <td>0.016473</td>\n",
       "      <td>0.104397</td>\n",
       "      <td>0.057800</td>\n",
       "    </tr>\n",
       "    <tr>\n",
       "      <th>2019-02-28</th>\n",
       "      <td>0.146648</td>\n",
       "      <td>0.053485</td>\n",
       "      <td>0.011836</td>\n",
       "      <td>0.039573</td>\n",
       "      <td>-0.057968</td>\n",
       "      <td>0.047020</td>\n",
       "      <td>0.021561</td>\n",
       "    </tr>\n",
       "    <tr>\n",
       "      <th>2019-03-31</th>\n",
       "      <td>-0.133057</td>\n",
       "      <td>0.030105</td>\n",
       "      <td>-0.016040</td>\n",
       "      <td>0.021501</td>\n",
       "      <td>0.042547</td>\n",
       "      <td>-0.015203</td>\n",
       "      <td>0.055809</td>\n",
       "    </tr>\n",
       "    <tr>\n",
       "      <th>2019-04-30</th>\n",
       "      <td>-0.009779</td>\n",
       "      <td>-0.025329</td>\n",
       "      <td>0.233630</td>\n",
       "      <td>-0.005882</td>\n",
       "      <td>0.046949</td>\n",
       "      <td>0.042988</td>\n",
       "      <td>0.030579</td>\n",
       "    </tr>\n",
       "    <tr>\n",
       "      <th>2019-05-31</th>\n",
       "      <td>-0.090332</td>\n",
       "      <td>-0.042394</td>\n",
       "      <td>-0.035993</td>\n",
       "      <td>-0.083920</td>\n",
       "      <td>0.001427</td>\n",
       "      <td>-0.119268</td>\n",
       "      <td>-0.033528</td>\n",
       "    </tr>\n",
       "    <tr>\n",
       "      <th>2019-06-30</th>\n",
       "      <td>0.065572</td>\n",
       "      <td>0.093017</td>\n",
       "      <td>0.057558</td>\n",
       "      <td>0.085912</td>\n",
       "      <td>0.044525</td>\n",
       "      <td>0.088281</td>\n",
       "      <td>0.065494</td>\n",
       "    </tr>\n",
       "    <tr>\n",
       "      <th>2019-07-31</th>\n",
       "      <td>-0.062718</td>\n",
       "      <td>-0.010688</td>\n",
       "      <td>0.030476</td>\n",
       "      <td>0.074982</td>\n",
       "      <td>0.033582</td>\n",
       "      <td>0.024776</td>\n",
       "      <td>0.083488</td>\n",
       "    </tr>\n",
       "    <tr>\n",
       "      <th>2019-08-31</th>\n",
       "      <td>0.073808</td>\n",
       "      <td>-0.033952</td>\n",
       "      <td>-0.040207</td>\n",
       "      <td>-0.074967</td>\n",
       "      <td>0.045791</td>\n",
       "      <td>-0.015247</td>\n",
       "      <td>0.018553</td>\n",
       "    </tr>\n",
       "    <tr>\n",
       "      <th>2019-09-30</th>\n",
       "      <td>0.044989</td>\n",
       "      <td>0.007475</td>\n",
       "      <td>-0.050561</td>\n",
       "      <td>0.072973</td>\n",
       "      <td>-0.003669</td>\n",
       "      <td>0.111479</td>\n",
       "      <td>0.034517</td>\n",
       "    </tr>\n",
       "    <tr>\n",
       "      <th>2019-10-31</th>\n",
       "      <td>-0.106605</td>\n",
       "      <td>-0.020742</td>\n",
       "      <td>-0.003070</td>\n",
       "      <td>-0.080388</td>\n",
       "      <td>-0.000184</td>\n",
       "      <td>-0.046529</td>\n",
       "      <td>0.007440</td>\n",
       "    </tr>\n",
       "    <tr>\n",
       "      <th>2019-11-30</th>\n",
       "      <td>0.083572</td>\n",
       "      <td>0.018462</td>\n",
       "      <td>0.166718</td>\n",
       "      <td>0.017259</td>\n",
       "      <td>-0.011595</td>\n",
       "      <td>0.046722</td>\n",
       "      <td>-0.019677</td>\n",
       "    </tr>\n",
       "    <tr>\n",
       "      <th>2019-12-31</th>\n",
       "      <td>-0.110383</td>\n",
       "      <td>0.028857</td>\n",
       "      <td>-0.040134</td>\n",
       "      <td>-0.003050</td>\n",
       "      <td>0.036517</td>\n",
       "      <td>0.083645</td>\n",
       "      <td>0.023267</td>\n",
       "    </tr>\n",
       "    <tr>\n",
       "      <th>2020-01-31</th>\n",
       "      <td>-0.022993</td>\n",
       "      <td>-0.110945</td>\n",
       "      <td>-0.043698</td>\n",
       "      <td>0.072292</td>\n",
       "      <td>0.055104</td>\n",
       "      <td>-0.049452</td>\n",
       "      <td>0.003686</td>\n",
       "    </tr>\n",
       "    <tr>\n",
       "      <th>2020-02-29</th>\n",
       "      <td>-0.130465</td>\n",
       "      <td>-0.118621</td>\n",
       "      <td>-0.149375</td>\n",
       "      <td>-0.085027</td>\n",
       "      <td>-0.084075</td>\n",
       "      <td>-0.069284</td>\n",
       "      <td>-0.091398</td>\n",
       "    </tr>\n",
       "    <tr>\n",
       "      <th>2020-03-31</th>\n",
       "      <td>-0.457890</td>\n",
       "      <td>-0.223698</td>\n",
       "      <td>-0.178921</td>\n",
       "      <td>-0.147676</td>\n",
       "      <td>-0.165488</td>\n",
       "      <td>-0.074290</td>\n",
       "      <td>-0.028526</td>\n",
       "    </tr>\n",
       "    <tr>\n",
       "      <th>2020-04-30</th>\n",
       "      <td>-0.054445</td>\n",
       "      <td>0.269666</td>\n",
       "      <td>0.119565</td>\n",
       "      <td>0.131885</td>\n",
       "      <td>0.037062</td>\n",
       "      <td>0.053662</td>\n",
       "      <td>0.078691</td>\n",
       "    </tr>\n",
       "    <tr>\n",
       "      <th>2020-05-31</th>\n",
       "      <td>0.034250</td>\n",
       "      <td>0.011372</td>\n",
       "      <td>0.084605</td>\n",
       "      <td>0.008084</td>\n",
       "      <td>0.017215</td>\n",
       "      <td>0.133585</td>\n",
       "      <td>-0.016544</td>\n",
       "    </tr>\n",
       "    <tr>\n",
       "      <th>2020-06-30</th>\n",
       "      <td>0.256771</td>\n",
       "      <td>-0.026936</td>\n",
       "      <td>-0.049361</td>\n",
       "      <td>-0.033067</td>\n",
       "      <td>-0.034149</td>\n",
       "      <td>-0.005376</td>\n",
       "      <td>0.031487</td>\n",
       "    </tr>\n",
       "    <tr>\n",
       "      <th>2020-07-31</th>\n",
       "      <td>-0.138025</td>\n",
       "      <td>-0.059285</td>\n",
       "      <td>0.048695</td>\n",
       "      <td>0.017968</td>\n",
       "      <td>0.057296</td>\n",
       "      <td>-0.004488</td>\n",
       "      <td>0.103516</td>\n",
       "    </tr>\n",
       "    <tr>\n",
       "      <th>2020-08-31</th>\n",
       "      <td>0.087468</td>\n",
       "      <td>0.014296</td>\n",
       "      <td>0.127672</td>\n",
       "      <td>0.016142</td>\n",
       "      <td>0.048476</td>\n",
       "      <td>0.148836</td>\n",
       "      <td>0.054988</td>\n",
       "    </tr>\n",
       "    <tr>\n",
       "      <th>2020-09-30</th>\n",
       "      <td>-0.038180</td>\n",
       "      <td>-0.142142</td>\n",
       "      <td>-0.059073</td>\n",
       "      <td>-0.013300</td>\n",
       "      <td>0.004838</td>\n",
       "      <td>0.121995</td>\n",
       "      <td>0.004772</td>\n",
       "    </tr>\n",
       "    <tr>\n",
       "      <th>2020-10-31</th>\n",
       "      <td>-0.126286</td>\n",
       "      <td>-0.034722</td>\n",
       "      <td>-0.022808</td>\n",
       "      <td>-0.082272</td>\n",
       "      <td>-0.026534</td>\n",
       "      <td>-0.043492</td>\n",
       "      <td>-0.008121</td>\n",
       "    </tr>\n",
       "    <tr>\n",
       "      <th>2020-11-30</th>\n",
       "      <td>0.459312</td>\n",
       "      <td>0.272846</td>\n",
       "      <td>0.220701</td>\n",
       "      <td>0.122256</td>\n",
       "      <td>0.082076</td>\n",
       "      <td>0.121752</td>\n",
       "      <td>0.012910</td>\n",
       "    </tr>\n",
       "    <tr>\n",
       "      <th>2020-12-31</th>\n",
       "      <td>0.015899</td>\n",
       "      <td>-0.031314</td>\n",
       "      <td>0.224107</td>\n",
       "      <td>0.019106</td>\n",
       "      <td>0.062791</td>\n",
       "      <td>0.052373</td>\n",
       "      <td>0.001944</td>\n",
       "    </tr>\n",
       "    <tr>\n",
       "      <th>2021-01-31</th>\n",
       "      <td>-0.092824</td>\n",
       "      <td>0.008881</td>\n",
       "      <td>-0.071807</td>\n",
       "      <td>-0.053781</td>\n",
       "      <td>-0.121991</td>\n",
       "      <td>-0.055701</td>\n",
       "      <td>-0.072996</td>\n",
       "    </tr>\n",
       "    <tr>\n",
       "      <th>2021-02-28</th>\n",
       "      <td>0.091766</td>\n",
       "      <td>0.190300</td>\n",
       "      <td>0.124100</td>\n",
       "      <td>0.011831</td>\n",
       "      <td>0.017445</td>\n",
       "      <td>0.010959</td>\n",
       "      <td>-0.036503</td>\n",
       "    </tr>\n",
       "    <tr>\n",
       "      <th>2021-03-31</th>\n",
       "      <td>0.201453</td>\n",
       "      <td>0.047900</td>\n",
       "      <td>-0.023910</td>\n",
       "      <td>0.120491</td>\n",
       "      <td>0.084889</td>\n",
       "      <td>-0.014023</td>\n",
       "      <td>0.096333</td>\n",
       "    </tr>\n",
       "    <tr>\n",
       "      <th>2021-04-30</th>\n",
       "      <td>-0.080127</td>\n",
       "      <td>-0.016414</td>\n",
       "      <td>0.008129</td>\n",
       "      <td>0.064686</td>\n",
       "      <td>0.024094</td>\n",
       "      <td>-0.002032</td>\n",
       "      <td>-0.008538</td>\n",
       "    </tr>\n",
       "    <tr>\n",
       "      <th>2021-05-31</th>\n",
       "      <td>0.054244</td>\n",
       "      <td>0.019312</td>\n",
       "      <td>-0.039619</td>\n",
       "      <td>0.024429</td>\n",
       "      <td>0.024268</td>\n",
       "      <td>0.031031</td>\n",
       "      <td>0.010718</td>\n",
       "    </tr>\n",
       "    <tr>\n",
       "      <th>2021-06-30</th>\n",
       "      <td>-0.030200</td>\n",
       "      <td>0.009153</td>\n",
       "      <td>-0.016121</td>\n",
       "      <td>0.019828</td>\n",
       "      <td>-0.013968</td>\n",
       "      <td>0.132127</td>\n",
       "      <td>0.000593</td>\n",
       "    </tr>\n",
       "    <tr>\n",
       "      <th>2021-07-31</th>\n",
       "      <td>-0.054600</td>\n",
       "      <td>-0.027974</td>\n",
       "      <td>0.001422</td>\n",
       "      <td>-0.038406</td>\n",
       "      <td>0.053964</td>\n",
       "      <td>0.084277</td>\n",
       "      <td>0.060732</td>\n",
       "    </tr>\n",
       "    <tr>\n",
       "      <th>2021-08-31</th>\n",
       "      <td>-0.030819</td>\n",
       "      <td>-0.036689</td>\n",
       "      <td>0.029997</td>\n",
       "      <td>0.007064</td>\n",
       "      <td>-0.012625</td>\n",
       "      <td>-0.014914</td>\n",
       "      <td>0.001125</td>\n",
       "    </tr>\n",
       "    <tr>\n",
       "      <th>2021-09-30</th>\n",
       "      <td>0.002005</td>\n",
       "      <td>0.048362</td>\n",
       "      <td>-0.066906</td>\n",
       "      <td>-0.010047</td>\n",
       "      <td>-0.061161</td>\n",
       "      <td>-0.118429</td>\n",
       "      <td>-0.018189</td>\n",
       "    </tr>\n",
       "    <tr>\n",
       "      <th>2021-10-31</th>\n",
       "      <td>-0.058698</td>\n",
       "      <td>0.128536</td>\n",
       "      <td>-0.000591</td>\n",
       "      <td>-0.099547</td>\n",
       "      <td>0.074328</td>\n",
       "      <td>0.151897</td>\n",
       "      <td>0.029159</td>\n",
       "    </tr>\n",
       "    <tr>\n",
       "      <th>2021-11-30</th>\n",
       "      <td>-0.044341</td>\n",
       "      <td>-0.002755</td>\n",
       "      <td>-0.142959</td>\n",
       "      <td>-0.007825</td>\n",
       "      <td>-0.062325</td>\n",
       "      <td>0.011656</td>\n",
       "      <td>0.011120</td>\n",
       "    </tr>\n",
       "    <tr>\n",
       "      <th>2021-12-31</th>\n",
       "      <td>0.017539</td>\n",
       "      <td>0.039692</td>\n",
       "      <td>0.068944</td>\n",
       "      <td>0.141418</td>\n",
       "      <td>0.128885</td>\n",
       "      <td>-0.013416</td>\n",
       "      <td>0.131415</td>\n",
       "    </tr>\n",
       "    <tr>\n",
       "      <th>2022-01-31</th>\n",
       "      <td>-0.005365</td>\n",
       "      <td>0.119131</td>\n",
       "      <td>-0.076958</td>\n",
       "      <td>-0.000673</td>\n",
       "      <td>0.030400</td>\n",
       "      <td>-0.111598</td>\n",
       "      <td>-0.013838</td>\n",
       "    </tr>\n",
       "    <tr>\n",
       "      <th>2022-02-28</th>\n",
       "      <td>0.025469</td>\n",
       "      <td>0.107987</td>\n",
       "      <td>0.038400</td>\n",
       "      <td>-0.071755</td>\n",
       "      <td>0.020161</td>\n",
       "      <td>-0.077801</td>\n",
       "      <td>-0.028420</td>\n",
       "    </tr>\n",
       "    <tr>\n",
       "      <th>2022-03-31</th>\n",
       "      <td>-0.067400</td>\n",
       "      <td>0.130764</td>\n",
       "      <td>-0.076115</td>\n",
       "      <td>0.061301</td>\n",
       "      <td>0.003769</td>\n",
       "      <td>-0.012325</td>\n",
       "      <td>-0.019822</td>\n",
       "    </tr>\n",
       "    <tr>\n",
       "      <th>2022-04-30</th>\n",
       "      <td>-0.222768</td>\n",
       "      <td>-0.037831</td>\n",
       "      <td>-0.186133</td>\n",
       "      <td>0.016844</td>\n",
       "      <td>0.042097</td>\n",
       "      <td>-0.073276</td>\n",
       "      <td>0.056615</td>\n",
       "    </tr>\n",
       "    <tr>\n",
       "      <th>2022-05-31</th>\n",
       "      <td>-0.117173</td>\n",
       "      <td>0.123998</td>\n",
       "      <td>-0.010660</td>\n",
       "      <td>0.062886</td>\n",
       "      <td>-0.019037</td>\n",
       "      <td>-0.046913</td>\n",
       "      <td>-0.078916</td>\n",
       "    </tr>\n",
       "    <tr>\n",
       "      <th>2022-06-30</th>\n",
       "      <td>0.040487</td>\n",
       "      <td>-0.171075</td>\n",
       "      <td>-0.145237</td>\n",
       "      <td>0.016926</td>\n",
       "      <td>-0.000244</td>\n",
       "      <td>-0.137962</td>\n",
       "      <td>-0.027658</td>\n",
       "    </tr>\n",
       "    <tr>\n",
       "      <th>2022-07-31</th>\n",
       "      <td>0.165228</td>\n",
       "      <td>0.131234</td>\n",
       "      <td>0.123941</td>\n",
       "      <td>-0.073660</td>\n",
       "      <td>0.020029</td>\n",
       "      <td>0.124462</td>\n",
       "      <td>-0.027667</td>\n",
       "    </tr>\n",
       "    <tr>\n",
       "      <th>2022-08-31</th>\n",
       "      <td>0.005900</td>\n",
       "      <td>-0.026156</td>\n",
       "      <td>0.056362</td>\n",
       "      <td>-0.005517</td>\n",
       "      <td>-0.038336</td>\n",
       "      <td>-0.073703</td>\n",
       "      <td>-0.006983</td>\n",
       "    </tr>\n",
       "    <tr>\n",
       "      <th>2022-09-30</th>\n",
       "      <td>-0.244431</td>\n",
       "      <td>-0.091042</td>\n",
       "      <td>-0.158369</td>\n",
       "      <td>-0.075049</td>\n",
       "      <td>-0.085587</td>\n",
       "      <td>-0.216921</td>\n",
       "      <td>-0.084747</td>\n",
       "    </tr>\n",
       "    <tr>\n",
       "      <th>2022-10-31</th>\n",
       "      <td>0.176990</td>\n",
       "      <td>0.259136</td>\n",
       "      <td>0.129439</td>\n",
       "      <td>0.163959</td>\n",
       "      <td>0.068369</td>\n",
       "      <td>0.115014</td>\n",
       "      <td>0.074263</td>\n",
       "    </tr>\n",
       "    <tr>\n",
       "      <th>2022-11-30</th>\n",
       "      <td>0.255210</td>\n",
       "      <td>0.021161</td>\n",
       "      <td>-0.081378</td>\n",
       "      <td>0.089561</td>\n",
       "      <td>0.070361</td>\n",
       "      <td>0.183535</td>\n",
       "      <td>0.107597</td>\n",
       "    </tr>\n",
       "    <tr>\n",
       "      <th>2022-12-31</th>\n",
       "      <td>0.056071</td>\n",
       "      <td>-0.027222</td>\n",
       "      <td>-0.109226</td>\n",
       "      <td>-0.052653</td>\n",
       "      <td>0.005345</td>\n",
       "      <td>0.073117</td>\n",
       "      <td>0.022995</td>\n",
       "    </tr>\n",
       "  </tbody>\n",
       "</table>\n",
       "</div>"
      ],
      "text/plain": [
       "Ticker            BA       CVX       DIS       IBM        KO       NKE  \\\n",
       "Date                                                                     \n",
       "2018-01-31  0.201621  0.001278  0.010790  0.067006  0.037271  0.090647   \n",
       "2018-02-28  0.027169 -0.098252 -0.050704 -0.038704 -0.091826 -0.017443   \n",
       "2018-03-31 -0.094779  0.018942 -0.026367 -0.015401  0.013730 -0.005804   \n",
       "2018-04-30  0.017324  0.097071 -0.001095 -0.055205 -0.005066  0.029350   \n",
       "2018-05-31  0.061029  0.002189 -0.008572 -0.014358 -0.004860  0.049861   \n",
       "2018-06-30 -0.047280  0.017136  0.053685 -0.011393  0.029084  0.112849   \n",
       "2018-07-31  0.061965 -0.001266  0.092194  0.037438  0.063155 -0.034764   \n",
       "2018-08-31 -0.033164 -0.052857 -0.013561  0.021614 -0.044178  0.071414   \n",
       "2018-09-30  0.084921  0.032247  0.043921  0.032291  0.045162  0.030657   \n",
       "2018-10-31 -0.045819 -0.086931 -0.018043 -0.236625  0.036588 -0.114259   \n",
       "2018-11-30 -0.018313  0.075705  0.005748  0.090295  0.060956  0.004038   \n",
       "2018-12-31 -0.069962 -0.085337 -0.043203 -0.085298 -0.060516 -0.013046   \n",
       "2019-01-31  0.195721  0.053865  0.017054  0.182546  0.016473  0.104397   \n",
       "2019-02-28  0.146648  0.053485  0.011836  0.039573 -0.057968  0.047020   \n",
       "2019-03-31 -0.133057  0.030105 -0.016040  0.021501  0.042547 -0.015203   \n",
       "2019-04-30 -0.009779 -0.025329  0.233630 -0.005882  0.046949  0.042988   \n",
       "2019-05-31 -0.090332 -0.042394 -0.035993 -0.083920  0.001427 -0.119268   \n",
       "2019-06-30  0.065572  0.093017  0.057558  0.085912  0.044525  0.088281   \n",
       "2019-07-31 -0.062718 -0.010688  0.030476  0.074982  0.033582  0.024776   \n",
       "2019-08-31  0.073808 -0.033952 -0.040207 -0.074967  0.045791 -0.015247   \n",
       "2019-09-30  0.044989  0.007475 -0.050561  0.072973 -0.003669  0.111479   \n",
       "2019-10-31 -0.106605 -0.020742 -0.003070 -0.080388 -0.000184 -0.046529   \n",
       "2019-11-30  0.083572  0.018462  0.166718  0.017259 -0.011595  0.046722   \n",
       "2019-12-31 -0.110383  0.028857 -0.040134 -0.003050  0.036517  0.083645   \n",
       "2020-01-31 -0.022993 -0.110945 -0.043698  0.072292  0.055104 -0.049452   \n",
       "2020-02-29 -0.130465 -0.118621 -0.149375 -0.085027 -0.084075 -0.069284   \n",
       "2020-03-31 -0.457890 -0.223698 -0.178921 -0.147676 -0.165488 -0.074290   \n",
       "2020-04-30 -0.054445  0.269666  0.119565  0.131885  0.037062  0.053662   \n",
       "2020-05-31  0.034250  0.011372  0.084605  0.008084  0.017215  0.133585   \n",
       "2020-06-30  0.256771 -0.026936 -0.049361 -0.033067 -0.034149 -0.005376   \n",
       "2020-07-31 -0.138025 -0.059285  0.048695  0.017968  0.057296 -0.004488   \n",
       "2020-08-31  0.087468  0.014296  0.127672  0.016142  0.048476  0.148836   \n",
       "2020-09-30 -0.038180 -0.142142 -0.059073 -0.013300  0.004838  0.121995   \n",
       "2020-10-31 -0.126286 -0.034722 -0.022808 -0.082272 -0.026534 -0.043492   \n",
       "2020-11-30  0.459312  0.272846  0.220701  0.122256  0.082076  0.121752   \n",
       "2020-12-31  0.015899 -0.031314  0.224107  0.019106  0.062791  0.052373   \n",
       "2021-01-31 -0.092824  0.008881 -0.071807 -0.053781 -0.121991 -0.055701   \n",
       "2021-02-28  0.091766  0.190300  0.124100  0.011831  0.017445  0.010959   \n",
       "2021-03-31  0.201453  0.047900 -0.023910  0.120491  0.084889 -0.014023   \n",
       "2021-04-30 -0.080127 -0.016414  0.008129  0.064686  0.024094 -0.002032   \n",
       "2021-05-31  0.054244  0.019312 -0.039619  0.024429  0.024268  0.031031   \n",
       "2021-06-30 -0.030200  0.009153 -0.016121  0.019828 -0.013968  0.132127   \n",
       "2021-07-31 -0.054600 -0.027974  0.001422 -0.038406  0.053964  0.084277   \n",
       "2021-08-31 -0.030819 -0.036689  0.029997  0.007064 -0.012625 -0.014914   \n",
       "2021-09-30  0.002005  0.048362 -0.066906 -0.010047 -0.061161 -0.118429   \n",
       "2021-10-31 -0.058698  0.128536 -0.000591 -0.099547  0.074328  0.151897   \n",
       "2021-11-30 -0.044341 -0.002755 -0.142959 -0.007825 -0.062325  0.011656   \n",
       "2021-12-31  0.017539  0.039692  0.068944  0.141418  0.128885 -0.013416   \n",
       "2022-01-31 -0.005365  0.119131 -0.076958 -0.000673  0.030400 -0.111598   \n",
       "2022-02-28  0.025469  0.107987  0.038400 -0.071755  0.020161 -0.077801   \n",
       "2022-03-31 -0.067400  0.130764 -0.076115  0.061301  0.003769 -0.012325   \n",
       "2022-04-30 -0.222768 -0.037831 -0.186133  0.016844  0.042097 -0.073276   \n",
       "2022-05-31 -0.117173  0.123998 -0.010660  0.062886 -0.019037 -0.046913   \n",
       "2022-06-30  0.040487 -0.171075 -0.145237  0.016926 -0.000244 -0.137962   \n",
       "2022-07-31  0.165228  0.131234  0.123941 -0.073660  0.020029  0.124462   \n",
       "2022-08-31  0.005900 -0.026156  0.056362 -0.005517 -0.038336 -0.073703   \n",
       "2022-09-30 -0.244431 -0.091042 -0.158369 -0.075049 -0.085587 -0.216921   \n",
       "2022-10-31  0.176990  0.259136  0.129439  0.163959  0.068369  0.115014   \n",
       "2022-11-30  0.255210  0.021161 -0.081378  0.089561  0.070361  0.183535   \n",
       "2022-12-31  0.056071 -0.027222 -0.109226 -0.052653  0.005345  0.073117   \n",
       "\n",
       "Ticker            PG  \n",
       "Date                  \n",
       "2018-01-31 -0.053132  \n",
       "2018-02-28 -0.090572  \n",
       "2018-03-31  0.009680  \n",
       "2018-04-30 -0.079094  \n",
       "2018-05-31  0.011474  \n",
       "2018-06-30  0.066831  \n",
       "2018-07-31  0.045529  \n",
       "2018-08-31  0.025594  \n",
       "2018-09-30  0.003376  \n",
       "2018-10-31  0.074896  \n",
       "2018-11-30  0.065742  \n",
       "2018-12-31 -0.027405  \n",
       "2019-01-31  0.057800  \n",
       "2019-02-28  0.021561  \n",
       "2019-03-31  0.055809  \n",
       "2019-04-30  0.030579  \n",
       "2019-05-31 -0.033528  \n",
       "2019-06-30  0.065494  \n",
       "2019-07-31  0.083488  \n",
       "2019-08-31  0.018553  \n",
       "2019-09-30  0.034517  \n",
       "2019-10-31  0.007440  \n",
       "2019-11-30 -0.019677  \n",
       "2019-12-31  0.023267  \n",
       "2020-01-31  0.003686  \n",
       "2020-02-29 -0.091398  \n",
       "2020-03-31 -0.028526  \n",
       "2020-04-30  0.078691  \n",
       "2020-05-31 -0.016544  \n",
       "2020-06-30  0.031487  \n",
       "2020-07-31  0.103516  \n",
       "2020-08-31  0.054988  \n",
       "2020-09-30  0.004772  \n",
       "2020-10-31 -0.008121  \n",
       "2020-11-30  0.012910  \n",
       "2020-12-31  0.001944  \n",
       "2021-01-31 -0.072996  \n",
       "2021-02-28 -0.036503  \n",
       "2021-03-31  0.096333  \n",
       "2021-04-30 -0.008538  \n",
       "2021-05-31  0.010718  \n",
       "2021-06-30  0.000593  \n",
       "2021-07-31  0.060732  \n",
       "2021-08-31  0.001125  \n",
       "2021-09-30 -0.018189  \n",
       "2021-10-31  0.029159  \n",
       "2021-11-30  0.011120  \n",
       "2021-12-31  0.131415  \n",
       "2022-01-31 -0.013838  \n",
       "2022-02-28 -0.028420  \n",
       "2022-03-31 -0.019822  \n",
       "2022-04-30  0.056615  \n",
       "2022-05-31 -0.078916  \n",
       "2022-06-30 -0.027658  \n",
       "2022-07-31 -0.027667  \n",
       "2022-08-31 -0.006983  \n",
       "2022-09-30 -0.084747  \n",
       "2022-10-31  0.074263  \n",
       "2022-11-30  0.107597  \n",
       "2022-12-31  0.022995  "
      ]
     },
     "execution_count": 12,
     "metadata": {},
     "output_type": "execute_result"
    }
   ],
   "source": [
    "Ri"
   ]
  },
  {
   "cell_type": "code",
   "execution_count": 13,
   "metadata": {},
   "outputs": [
    {
     "name": "stdout",
     "output_type": "stream",
     "text": [
      "Ticker\n",
      "BA     0.002853\n",
      "CVX    0.014017\n",
      "DIS    0.001215\n",
      "IBM    0.006282\n",
      "KO     0.009694\n",
      "NKE    0.014857\n",
      "PG     0.012067\n",
      "dtype: float64\n",
      "--------------------------------------------------------------------------\n",
      "Ticker        BA       CVX       DIS       IBM        KO       NKE        PG\n",
      "Ticker                                                                      \n",
      "BA      0.018554  0.006314  0.006001  0.004906  0.003171  0.005570  0.001470\n",
      "CVX     0.006314  0.009306  0.004647  0.003592  0.002241  0.002943  0.000890\n",
      "DIS     0.006001  0.004647  0.008759  0.002420  0.002548  0.003545  0.001181\n",
      "IBM     0.004906  0.003592  0.002420  0.005880  0.001980  0.002462  0.001677\n",
      "KO      0.003171  0.002241  0.002548  0.001980  0.002925  0.001756  0.001848\n",
      "NKE     0.005570  0.002943  0.003545  0.002462  0.001756  0.007048  0.001590\n",
      "PG      0.001470  0.000890  0.001181  0.001677  0.001848  0.001590  0.002638\n"
     ]
    }
   ],
   "source": [
    "# monthly mean and cov \n",
    "\n",
    "ER, S = Ri.mean(), Ri.cov()\n",
    "\n",
    "print(ER)\n",
    "print('--------------------------------------------------------------------------')\n",
    "print(S)"
   ]
  },
  {
   "cell_type": "markdown",
   "metadata": {},
   "source": [
    "- define objective func \n",
    "    - portfolio variance \n",
    "    - portfolio sharpe "
   ]
  },
  {
   "cell_type": "code",
   "execution_count": 14,
   "metadata": {},
   "outputs": [],
   "source": [
    "### portolio Variance\n",
    "\n",
    "def PV(w, S):   # wT * cov * w \n",
    "    return (w.T @ S @ w) \n",
    "\n",
    "\n",
    "### Negative Portfolio Sharpe Ratio ( NPSR )\n",
    "def NPSR(w, ER, S):   # wT * ER / (wT * cov * w).sqrt , where ER is a vector \n",
    "    return-(w.T @ ER)/ ((w.T @ S @ w) ** 0.5)  # Negative Sharpe Ratio: turn maximization problem into minimization problem"
   ]
  },
  {
   "cell_type": "code",
   "execution_count": 15,
   "metadata": {},
   "outputs": [
    {
     "data": {
      "text/plain": [
       "array([1., 1., 1., 1., 1., 1., 1.])"
      ]
     },
     "execution_count": 15,
     "metadata": {},
     "output_type": "execute_result"
    }
   ],
   "source": [
    "one = np.ones(7)\n",
    "one"
   ]
  },
  {
   "cell_type": "code",
   "execution_count": 16,
   "metadata": {},
   "outputs": [
    {
     "data": {
      "text/plain": [
       "array([0.14285714, 0.14285714, 0.14285714, 0.14285714, 0.14285714,\n",
       "       0.14285714, 0.14285714])"
      ]
     },
     "execution_count": 16,
     "metadata": {},
     "output_type": "execute_result"
    }
   ],
   "source": [
    "w = np.ones(7) / 7   # total seven stocks ( equal weigted)\n",
    "w "
   ]
  },
  {
   "cell_type": "code",
   "execution_count": 17,
   "metadata": {},
   "outputs": [
    {
     "data": {
      "text/plain": [
       "0.0036860528237073684"
      ]
     },
     "execution_count": 17,
     "metadata": {},
     "output_type": "execute_result"
    }
   ],
   "source": [
    "# variance \n",
    "PV(w, S)"
   ]
  },
  {
   "cell_type": "code",
   "execution_count": 18,
   "metadata": {},
   "outputs": [
    {
     "data": {
      "text/plain": [
       "-0.1434968313887653"
      ]
     },
     "execution_count": 18,
     "metadata": {},
     "output_type": "execute_result"
    }
   ],
   "source": [
    "# SR \n",
    "NPSR(w, ER, S)"
   ]
  },
  {
   "cell_type": "markdown",
   "metadata": {},
   "source": [
    "### Optimization\n",
    "- setup "
   ]
  },
  {
   "cell_type": "code",
   "execution_count": 19,
   "metadata": {},
   "outputs": [
    {
     "data": {
      "text/plain": [
       "Ticker\n",
       "BA     0.002853\n",
       "CVX    0.014017\n",
       "DIS    0.001215\n",
       "IBM    0.006282\n",
       "KO     0.009694\n",
       "NKE    0.014857\n",
       "PG     0.012067\n",
       "dtype: float64"
      ]
     },
     "execution_count": 19,
     "metadata": {},
     "output_type": "execute_result"
    }
   ],
   "source": [
    "ER  # expected return "
   ]
  },
  {
   "cell_type": "code",
   "execution_count": 20,
   "metadata": {},
   "outputs": [],
   "source": [
    "N = len(ER)    # 7 \n",
    "x0 = np.ones(N)/N # initial guess with w = 1/N \n",
    "cons = ({'type': 'eq' ,'fun' : lambda x: np.sum(x)- 1})  # constraints \n"
   ]
  },
  {
   "cell_type": "code",
   "execution_count": 21,
   "metadata": {},
   "outputs": [
    {
     "data": {
      "text/plain": [
       "7"
      ]
     },
     "execution_count": 21,
     "metadata": {},
     "output_type": "execute_result"
    }
   ],
   "source": [
    "N = len(ER)   # ER : average return\n",
    "N"
   ]
  },
  {
   "cell_type": "code",
   "execution_count": 22,
   "metadata": {},
   "outputs": [
    {
     "data": {
      "text/plain": [
       "array([0.14285714, 0.14285714, 0.14285714, 0.14285714, 0.14285714,\n",
       "       0.14285714, 0.14285714])"
      ]
     },
     "execution_count": 22,
     "metadata": {},
     "output_type": "execute_result"
    }
   ],
   "source": [
    "x0 = np.ones(N)/N # initial guess with w = 1/N \n",
    "x0"
   ]
  },
  {
   "cell_type": "code",
   "execution_count": 23,
   "metadata": {},
   "outputs": [
    {
     "data": {
      "text/plain": [
       "0.9999999999999998"
      ]
     },
     "execution_count": 23,
     "metadata": {},
     "output_type": "execute_result"
    }
   ],
   "source": [
    "np.sum(x0)"
   ]
  },
  {
   "cell_type": "markdown",
   "metadata": {},
   "source": [
    "- func "
   ]
  },
  {
   "cell_type": "code",
   "execution_count": 24,
   "metadata": {},
   "outputs": [],
   "source": [
    "## setup for minimize func : \n",
    "\n",
    "# min target : PV \n",
    "# init guess : x0\n",
    "# method : method\n",
    "# args : S ( in the PV( w, S) )  --> now we're solving for w, so given: S \n",
    "# constraints : cons\n",
    "    # cons = ({'type': 'eq' ,'fun' : lambda x: np.sum(x)- 1})  # constraints \n",
    "        # eq: equality \n",
    "        # fun: constrains function \n",
    "        \n",
    "# options = {'ftol': 1e-10 , 'disp': True} \n",
    "    # ftol : accuracy \n",
    "    # disp : print out solution"
   ]
  },
  {
   "cell_type": "code",
   "execution_count": 25,
   "metadata": {},
   "outputs": [],
   "source": [
    "N = len(ER)    # 7 \n",
    "x0 = np.ones(N)/N # initial guess with w = 1/N \n",
    "cons = ({'type': 'eq' ,'fun' : lambda x: np.sum(x)- 1})  # constraints "
   ]
  },
  {
   "cell_type": "code",
   "execution_count": 26,
   "metadata": {},
   "outputs": [
    {
     "name": "stdout",
     "output_type": "stream",
     "text": [
      "Optimization terminated successfully    (Exit mode 0)\n",
      "            Current function value: 0.0021318454300118224\n",
      "            Iterations: 35\n",
      "            Function evaluations: 280\n",
      "            Gradient evaluations: 35\n"
     ]
    }
   ],
   "source": [
    "# GMVP : global min varaince portfolio ( minimize portfolio variance )\n",
    "\n",
    "G = minimize(PV, x0, method='SLSQP', args=S, constraints=cons, options={'ftol': 1e-10 , 'disp': True}).x\n",
    "\n",
    "#  minimize( min_target, init_guess, method, given_cov, constraints).x  \n",
    "#  .x : solution\n"
   ]
  },
  {
   "cell_type": "code",
   "execution_count": 27,
   "metadata": {},
   "outputs": [
    {
     "data": {
      "text/plain": [
       "array([-0.05663658,  0.07818187,  0.03584247,  0.07307811,  0.27961006,\n",
       "        0.08817915,  0.50174492])"
      ]
     },
     "execution_count": 27,
     "metadata": {},
     "output_type": "execute_result"
    }
   ],
   "source": [
    "G  # ( GMVP weights )"
   ]
  },
  {
   "cell_type": "code",
   "execution_count": 28,
   "metadata": {},
   "outputs": [
    {
     "data": {
      "text/plain": [
       "0.0021318454300118224"
      ]
     },
     "execution_count": 28,
     "metadata": {},
     "output_type": "execute_result"
    }
   ],
   "source": [
    "PV ( G, S )  # matching the current function value --> min variance "
   ]
  },
  {
   "cell_type": "code",
   "execution_count": 29,
   "metadata": {},
   "outputs": [
    {
     "name": "stdout",
     "output_type": "stream",
     "text": [
      "Optimization terminated successfully    (Exit mode 0)\n",
      "            Current function value: -0.32417831603808894\n",
      "            Iterations: 18\n",
      "            Function evaluations: 147\n",
      "            Gradient evaluations: 18\n"
     ]
    }
   ],
   "source": [
    "# MSRP : max Sharpe Ratio Portfolio\n",
    "\n",
    "M = minimize(NPSR, x0, method='SLSQP', args=(ER, S), constraints=cons, options={'ftol': 1e-10 , 'disp': True}).x"
   ]
  },
  {
   "cell_type": "code",
   "execution_count": 30,
   "metadata": {},
   "outputs": [
    {
     "data": {
      "text/plain": [
       "array([-0.14751384,  0.38254025, -0.33718011, -0.21260949,  0.2692019 ,\n",
       "        0.3720699 ,  0.67349139])"
      ]
     },
     "execution_count": 30,
     "metadata": {},
     "output_type": "execute_result"
    }
   ],
   "source": [
    "M  # ( MSRP weights: result  )"
   ]
  },
  {
   "cell_type": "code",
   "execution_count": 31,
   "metadata": {},
   "outputs": [
    {
     "data": {
      "text/plain": [
       "0.32417831603808894"
      ]
     },
     "execution_count": 31,
     "metadata": {},
     "output_type": "execute_result"
    }
   ],
   "source": [
    "sr_init = -NPSR(M, ER, S)  # since NPSR is defined as neg SR \n",
    "sr_init "
   ]
  },
  {
   "cell_type": "code",
   "execution_count": 32,
   "metadata": {},
   "outputs": [
    {
     "name": "stdout",
     "output_type": "stream",
     "text": [
      "0.019460302880408023\n"
     ]
    }
   ],
   "source": [
    "print(M.T @ ER)  # MSRP return ( weighted expected return )\n"
   ]
  },
  {
   "cell_type": "code",
   "execution_count": 33,
   "metadata": {},
   "outputs": [
    {
     "data": {
      "text/plain": [
       "0.003603555927826696"
      ]
     },
     "execution_count": 33,
     "metadata": {},
     "output_type": "execute_result"
    }
   ],
   "source": [
    "# variance \n",
    "PV( M, S )"
   ]
  },
  {
   "cell_type": "code",
   "execution_count": 34,
   "metadata": {},
   "outputs": [
    {
     "data": {
      "text/plain": [
       "0.060029625418010865"
      ]
     },
     "execution_count": 34,
     "metadata": {},
     "output_type": "execute_result"
    }
   ],
   "source": [
    "# std\n",
    "std = np.sqrt(PV( M, S))\n",
    "std "
   ]
  },
  {
   "cell_type": "markdown",
   "metadata": {},
   "source": [
    "### Optimize without short selling "
   ]
  },
  {
   "cell_type": "code",
   "execution_count": 35,
   "metadata": {},
   "outputs": [
    {
     "data": {
      "text/plain": [
       "array([-0.14751384,  0.38254025, -0.33718011, -0.21260949,  0.2692019 ,\n",
       "        0.3720699 ,  0.67349139])"
      ]
     },
     "execution_count": 35,
     "metadata": {},
     "output_type": "execute_result"
    }
   ],
   "source": [
    "# Recall M : MSRP weights\n",
    "\n",
    "M"
   ]
  },
  {
   "cell_type": "code",
   "execution_count": 36,
   "metadata": {},
   "outputs": [
    {
     "data": {
      "text/plain": [
       "1.0"
      ]
     },
     "execution_count": 36,
     "metadata": {},
     "output_type": "execute_result"
    }
   ],
   "source": [
    "M.sum()"
   ]
  },
  {
   "cell_type": "code",
   "execution_count": 37,
   "metadata": {},
   "outputs": [
    {
     "data": {
      "text/plain": [
       "2.394606874706218"
      ]
     },
     "execution_count": 37,
     "metadata": {},
     "output_type": "execute_result"
    }
   ],
   "source": [
    "tot_w = np.abs(M).sum()  # absolute value sum \n",
    "tot_w\n"
   ]
  },
  {
   "cell_type": "code",
   "execution_count": 38,
   "metadata": {},
   "outputs": [
    {
     "data": {
      "text/plain": [
       "0.41760508188747464"
      ]
     },
     "execution_count": 38,
     "metadata": {},
     "output_type": "execute_result"
    }
   ],
   "source": [
    "1 / tot_w   # below 0.5 --> against reg.T --> infeasible ( too much short selling )"
   ]
  },
  {
   "cell_type": "markdown",
   "metadata": {},
   "source": [
    "### Revise the optimization func ( constraints ) : without short selling "
   ]
  },
  {
   "cell_type": "code",
   "execution_count": 39,
   "metadata": {},
   "outputs": [],
   "source": [
    "bounds = Bounds(0, 1)  # 0 <= w <= 1 "
   ]
  },
  {
   "cell_type": "code",
   "execution_count": 40,
   "metadata": {},
   "outputs": [
    {
     "name": "stdout",
     "output_type": "stream",
     "text": [
      "Optimization terminated successfully    (Exit mode 0)\n",
      "            Current function value: 0.0021666441033649413\n",
      "            Iterations: 27\n",
      "            Function evaluations: 216\n",
      "            Gradient evaluations: 27\n"
     ]
    }
   ],
   "source": [
    "# Minimizing PV \n",
    "\n",
    "Gn = minimize(PV, x0, method='SLSQP', args=S, constraints=cons, bounds=bounds, options={'ftol': 1e-10 , 'disp': True}).x"
   ]
  },
  {
   "cell_type": "code",
   "execution_count": 41,
   "metadata": {},
   "outputs": [
    {
     "data": {
      "text/plain": [
       "array([0.        , 0.06787454, 0.02487334, 0.05087322, 0.25392852,\n",
       "       0.06407447, 0.5383759 ])"
      ]
     },
     "execution_count": 41,
     "metadata": {},
     "output_type": "execute_result"
    }
   ],
   "source": [
    "Gn"
   ]
  },
  {
   "cell_type": "code",
   "execution_count": 42,
   "metadata": {},
   "outputs": [
    {
     "data": {
      "text/plain": [
       "array([0.   , 0.068, 0.025, 0.051, 0.254, 0.064, 0.538])"
      ]
     },
     "execution_count": 42,
     "metadata": {},
     "output_type": "execute_result"
    }
   ],
   "source": [
    "# round to 3 decimal places \n",
    "np.round(Gn, 3)"
   ]
  },
  {
   "cell_type": "code",
   "execution_count": 43,
   "metadata": {},
   "outputs": [
    {
     "name": "stdout",
     "output_type": "stream",
     "text": [
      "Optimization terminated successfully    (Exit mode 0)\n",
      "            Current function value: -0.2657760473760773\n",
      "            Iterations: 10\n",
      "            Function evaluations: 80\n",
      "            Gradient evaluations: 10\n"
     ]
    },
    {
     "data": {
      "text/plain": [
       "array([0.      , 0.156712, 0.      , 0.      , 0.      , 0.164333,\n",
       "       0.678955])"
      ]
     },
     "execution_count": 43,
     "metadata": {},
     "output_type": "execute_result"
    }
   ],
   "source": [
    "# Also do for NPSR \n",
    "\n",
    "Mn = minimize(NPSR, x0, method='SLSQP', args=(ER, S), constraints=cons, bounds=bounds, options={'ftol': 1e-10 , 'disp': True}).x\n",
    "\n",
    "np.round(Mn, 6)  # round to 6 decimal places Mn"
   ]
  },
  {
   "cell_type": "code",
   "execution_count": 44,
   "metadata": {},
   "outputs": [
    {
     "data": {
      "text/plain": [
       "array([-0.14751384,  0.38254025, -0.33718011, -0.21260949,  0.2692019 ,\n",
       "        0.3720699 ,  0.67349139])"
      ]
     },
     "execution_count": 44,
     "metadata": {},
     "output_type": "execute_result"
    }
   ],
   "source": [
    "M  # compare to this "
   ]
  },
  {
   "cell_type": "code",
   "execution_count": 45,
   "metadata": {},
   "outputs": [
    {
     "data": {
      "text/plain": [
       "0.9999999999999998"
      ]
     },
     "execution_count": 45,
     "metadata": {},
     "output_type": "execute_result"
    }
   ],
   "source": [
    "1 / np.abs(Mn).sum()    # without short selling, adding the constraint weights add up to 1, this will be the result "
   ]
  },
  {
   "cell_type": "code",
   "execution_count": 46,
   "metadata": {},
   "outputs": [
    {
     "data": {
      "text/plain": [
       "0.41760508188747464"
      ]
     },
     "execution_count": 46,
     "metadata": {},
     "output_type": "execute_result"
    }
   ],
   "source": [
    "1 / np.abs(M).sum()  # with short selling"
   ]
  },
  {
   "cell_type": "markdown",
   "metadata": {},
   "source": [
    "### Cal Y* "
   ]
  },
  {
   "cell_type": "code",
   "execution_count": 47,
   "metadata": {},
   "outputs": [
    {
     "data": {
      "text/plain": [
       "array([-0.14751384,  0.38254025, -0.33718011, -0.21260949,  0.2692019 ,\n",
       "        0.3720699 ,  0.67349139])"
      ]
     },
     "execution_count": 47,
     "metadata": {},
     "output_type": "execute_result"
    }
   ],
   "source": [
    "M  #  with short selling "
   ]
  },
  {
   "cell_type": "code",
   "execution_count": 48,
   "metadata": {},
   "outputs": [
    {
     "data": {
      "text/plain": [
       "0.5400305495506637"
      ]
     },
     "execution_count": 48,
     "metadata": {},
     "output_type": "execute_result"
    }
   ],
   "source": [
    "# Y* : 0.54 to MSRP, 0.46 to rf \n",
    "\n",
    "ER_MSRP  = M.T @ ER\n",
    "VAR_MSRP = PV(M, S)\n",
    "\n",
    "rf = 0 \n",
    "A  = 10 \n",
    "\n",
    "\n",
    "ystar =  (ER_MSRP - rf) / (A * VAR_MSRP)   # ystar : ER - rf / A * sigma^2 \n",
    "ystar   # y* : result that is allocated to MSRP "
   ]
  },
  {
   "cell_type": "code",
   "execution_count": 49,
   "metadata": {},
   "outputs": [],
   "source": [
    "ER_ystar =  ystar * ER_MSRP + (1-ystar) * rf  # E[r] = y E[rp] + (1-y) rf\n",
    "\n",
    "SD_ystar = ystar * VAR_MSRP ** 0.5  # std of y : y * std of rp , here rp --> Return of MSRP ( risky asset)\n",
    "\n",
    "SR_ystar = (ER_ystar - rf) / SD_ystar  "
   ]
  },
  {
   "cell_type": "code",
   "execution_count": 50,
   "metadata": {},
   "outputs": [
    {
     "data": {
      "text/plain": [
       "(0.010509158058929107, 0.03241783160380889, 0.32417831603808894)"
      ]
     },
     "execution_count": 50,
     "metadata": {},
     "output_type": "execute_result"
    }
   ],
   "source": [
    "ER_ystar, SD_ystar, SR_ystar"
   ]
  },
  {
   "cell_type": "code",
   "execution_count": 51,
   "metadata": {},
   "outputs": [
    {
     "data": {
      "text/plain": [
       "True"
      ]
     },
     "execution_count": 51,
     "metadata": {},
     "output_type": "execute_result"
    }
   ],
   "source": [
    "## Compare SR_ystar with SR_GMVP\n",
    "\n",
    "sr_init == SR_ystar     \n",
    "\n",
    "# meaning : sr_init : Sharpe of MSRP ( a point ) --> This EF is cal based on trade off between only risky asets \n",
    "# SR_ystar : new CAL ( choose between MSRP and risk free asset )\n",
    "# they intersect in only a point "
   ]
  },
  {
   "cell_type": "markdown",
   "metadata": {},
   "source": [
    "### Expected utility "
   ]
  },
  {
   "cell_type": "code",
   "execution_count": 52,
   "metadata": {},
   "outputs": [
    {
     "data": {
      "text/plain": [
       "0.005254579029464554"
      ]
     },
     "execution_count": 52,
     "metadata": {},
     "output_type": "execute_result"
    }
   ],
   "source": [
    "# E[U] = E[r] - 0.5 * A * std^2\n",
    "\n",
    "EUA = ER_ystar - 0.5 * A * SD_ystar ** 2 \n",
    "EUA "
   ]
  },
  {
   "cell_type": "code",
   "execution_count": 53,
   "metadata": {},
   "outputs": [
    {
     "name": "stdout",
     "output_type": "stream",
     "text": [
      "['Solarize_Light2', '_classic_test_patch', '_mpl-gallery', '_mpl-gallery-nogrid', 'bmh', 'classic', 'dark_background', 'fast', 'fivethirtyeight', 'ggplot', 'grayscale', 'seaborn-v0_8', 'seaborn-v0_8-bright', 'seaborn-v0_8-colorblind', 'seaborn-v0_8-dark', 'seaborn-v0_8-dark-palette', 'seaborn-v0_8-darkgrid', 'seaborn-v0_8-deep', 'seaborn-v0_8-muted', 'seaborn-v0_8-notebook', 'seaborn-v0_8-paper', 'seaborn-v0_8-pastel', 'seaborn-v0_8-poster', 'seaborn-v0_8-talk', 'seaborn-v0_8-ticks', 'seaborn-v0_8-white', 'seaborn-v0_8-whitegrid', 'tableau-colorblind10']\n"
     ]
    }
   ],
   "source": [
    "import matplotlib.pyplot as plt\n",
    "print(plt.style.available)\n"
   ]
  },
  {
   "cell_type": "code",
   "execution_count": 54,
   "metadata": {},
   "outputs": [
    {
     "data": {
      "text/html": [
       "<div>\n",
       "<style scoped>\n",
       "    .dataframe tbody tr th:only-of-type {\n",
       "        vertical-align: middle;\n",
       "    }\n",
       "\n",
       "    .dataframe tbody tr th {\n",
       "        vertical-align: top;\n",
       "    }\n",
       "\n",
       "    .dataframe thead th {\n",
       "        text-align: right;\n",
       "    }\n",
       "</style>\n",
       "<table border=\"1\" class=\"dataframe\">\n",
       "  <thead>\n",
       "    <tr style=\"text-align: right;\">\n",
       "      <th></th>\n",
       "      <th>G</th>\n",
       "      <th>M</th>\n",
       "      <th>Gn</th>\n",
       "      <th>Mn</th>\n",
       "      <th>EW</th>\n",
       "    </tr>\n",
       "    <tr>\n",
       "      <th>Ticker</th>\n",
       "      <th></th>\n",
       "      <th></th>\n",
       "      <th></th>\n",
       "      <th></th>\n",
       "      <th></th>\n",
       "    </tr>\n",
       "  </thead>\n",
       "  <tbody>\n",
       "    <tr>\n",
       "      <th>BA</th>\n",
       "      <td>-0.056637</td>\n",
       "      <td>-0.147514</td>\n",
       "      <td>0.000000</td>\n",
       "      <td>0.000000e+00</td>\n",
       "      <td>0.142857</td>\n",
       "    </tr>\n",
       "    <tr>\n",
       "      <th>CVX</th>\n",
       "      <td>0.078182</td>\n",
       "      <td>0.382540</td>\n",
       "      <td>0.067875</td>\n",
       "      <td>1.567119e-01</td>\n",
       "      <td>0.142857</td>\n",
       "    </tr>\n",
       "    <tr>\n",
       "      <th>DIS</th>\n",
       "      <td>0.035842</td>\n",
       "      <td>-0.337180</td>\n",
       "      <td>0.024873</td>\n",
       "      <td>0.000000e+00</td>\n",
       "      <td>0.142857</td>\n",
       "    </tr>\n",
       "    <tr>\n",
       "      <th>IBM</th>\n",
       "      <td>0.073078</td>\n",
       "      <td>-0.212609</td>\n",
       "      <td>0.050873</td>\n",
       "      <td>0.000000e+00</td>\n",
       "      <td>0.142857</td>\n",
       "    </tr>\n",
       "    <tr>\n",
       "      <th>KO</th>\n",
       "      <td>0.279610</td>\n",
       "      <td>0.269202</td>\n",
       "      <td>0.253929</td>\n",
       "      <td>3.563850e-17</td>\n",
       "      <td>0.142857</td>\n",
       "    </tr>\n",
       "    <tr>\n",
       "      <th>NKE</th>\n",
       "      <td>0.088179</td>\n",
       "      <td>0.372070</td>\n",
       "      <td>0.064074</td>\n",
       "      <td>1.643329e-01</td>\n",
       "      <td>0.142857</td>\n",
       "    </tr>\n",
       "    <tr>\n",
       "      <th>PG</th>\n",
       "      <td>0.501745</td>\n",
       "      <td>0.673491</td>\n",
       "      <td>0.538376</td>\n",
       "      <td>6.789552e-01</td>\n",
       "      <td>0.142857</td>\n",
       "    </tr>\n",
       "  </tbody>\n",
       "</table>\n",
       "</div>"
      ],
      "text/plain": [
       "               G         M        Gn            Mn        EW\n",
       "Ticker                                                      \n",
       "BA     -0.056637 -0.147514  0.000000  0.000000e+00  0.142857\n",
       "CVX     0.078182  0.382540  0.067875  1.567119e-01  0.142857\n",
       "DIS     0.035842 -0.337180  0.024873  0.000000e+00  0.142857\n",
       "IBM     0.073078 -0.212609  0.050873  0.000000e+00  0.142857\n",
       "KO      0.279610  0.269202  0.253929  3.563850e-17  0.142857\n",
       "NKE     0.088179  0.372070  0.064074  1.643329e-01  0.142857\n",
       "PG      0.501745  0.673491  0.538376  6.789552e-01  0.142857"
      ]
     },
     "execution_count": 54,
     "metadata": {},
     "output_type": "execute_result"
    }
   ],
   "source": [
    "\n",
    "# Use the correct style name\n",
    "plt.style.use('seaborn-v0_8-dark')\n",
    "\n",
    "# Create the DataFrame\n",
    "P = pd.DataFrame(index=Ri.columns)  # set index to tickers \n",
    "P['G'], P['M'], P['Gn'], P['Mn'], P['EW'] = G, M, Gn, Mn, 1 / N    # weights \n",
    "P"
   ]
  },
  {
   "cell_type": "code",
   "execution_count": 55,
   "metadata": {},
   "outputs": [
    {
     "data": {
      "text/plain": [
       "array([-0.05663658,  0.07818187,  0.03584247,  0.07307811,  0.27961006,\n",
       "        0.08817915,  0.50174492])"
      ]
     },
     "execution_count": 55,
     "metadata": {},
     "output_type": "execute_result"
    }
   ],
   "source": [
    "G # GMVP weights "
   ]
  },
  {
   "cell_type": "code",
   "execution_count": 56,
   "metadata": {},
   "outputs": [
    {
     "data": {
      "text/plain": [
       "array([-0.14751384,  0.38254025, -0.33718011, -0.21260949,  0.2692019 ,\n",
       "        0.3720699 ,  0.67349139])"
      ]
     },
     "execution_count": 56,
     "metadata": {},
     "output_type": "execute_result"
    }
   ],
   "source": [
    "M # MSRP weights"
   ]
  },
  {
   "cell_type": "code",
   "execution_count": 57,
   "metadata": {},
   "outputs": [
    {
     "data": {
      "text/html": [
       "<div>\n",
       "<style scoped>\n",
       "    .dataframe tbody tr th:only-of-type {\n",
       "        vertical-align: middle;\n",
       "    }\n",
       "\n",
       "    .dataframe tbody tr th {\n",
       "        vertical-align: top;\n",
       "    }\n",
       "\n",
       "    .dataframe thead th {\n",
       "        text-align: right;\n",
       "    }\n",
       "</style>\n",
       "<table border=\"1\" class=\"dataframe\">\n",
       "  <thead>\n",
       "    <tr style=\"text-align: right;\">\n",
       "      <th></th>\n",
       "      <th>G</th>\n",
       "      <th>M</th>\n",
       "      <th>Gn</th>\n",
       "      <th>Mn</th>\n",
       "      <th>EW</th>\n",
       "    </tr>\n",
       "    <tr>\n",
       "      <th>Ticker</th>\n",
       "      <th></th>\n",
       "      <th></th>\n",
       "      <th></th>\n",
       "      <th></th>\n",
       "      <th></th>\n",
       "    </tr>\n",
       "  </thead>\n",
       "  <tbody>\n",
       "    <tr>\n",
       "      <th>BA</th>\n",
       "      <td>-0.056637</td>\n",
       "      <td>-0.147514</td>\n",
       "      <td>0.000000</td>\n",
       "      <td>0.000000e+00</td>\n",
       "      <td>0.142857</td>\n",
       "    </tr>\n",
       "    <tr>\n",
       "      <th>CVX</th>\n",
       "      <td>0.078182</td>\n",
       "      <td>0.382540</td>\n",
       "      <td>0.067875</td>\n",
       "      <td>1.567119e-01</td>\n",
       "      <td>0.142857</td>\n",
       "    </tr>\n",
       "    <tr>\n",
       "      <th>DIS</th>\n",
       "      <td>0.035842</td>\n",
       "      <td>-0.337180</td>\n",
       "      <td>0.024873</td>\n",
       "      <td>0.000000e+00</td>\n",
       "      <td>0.142857</td>\n",
       "    </tr>\n",
       "    <tr>\n",
       "      <th>IBM</th>\n",
       "      <td>0.073078</td>\n",
       "      <td>-0.212609</td>\n",
       "      <td>0.050873</td>\n",
       "      <td>0.000000e+00</td>\n",
       "      <td>0.142857</td>\n",
       "    </tr>\n",
       "    <tr>\n",
       "      <th>KO</th>\n",
       "      <td>0.279610</td>\n",
       "      <td>0.269202</td>\n",
       "      <td>0.253929</td>\n",
       "      <td>3.563850e-17</td>\n",
       "      <td>0.142857</td>\n",
       "    </tr>\n",
       "    <tr>\n",
       "      <th>NKE</th>\n",
       "      <td>0.088179</td>\n",
       "      <td>0.372070</td>\n",
       "      <td>0.064074</td>\n",
       "      <td>1.643329e-01</td>\n",
       "      <td>0.142857</td>\n",
       "    </tr>\n",
       "    <tr>\n",
       "      <th>PG</th>\n",
       "      <td>0.501745</td>\n",
       "      <td>0.673491</td>\n",
       "      <td>0.538376</td>\n",
       "      <td>6.789552e-01</td>\n",
       "      <td>0.142857</td>\n",
       "    </tr>\n",
       "  </tbody>\n",
       "</table>\n",
       "</div>"
      ],
      "text/plain": [
       "               G         M        Gn            Mn        EW\n",
       "Ticker                                                      \n",
       "BA     -0.056637 -0.147514  0.000000  0.000000e+00  0.142857\n",
       "CVX     0.078182  0.382540  0.067875  1.567119e-01  0.142857\n",
       "DIS     0.035842 -0.337180  0.024873  0.000000e+00  0.142857\n",
       "IBM     0.073078 -0.212609  0.050873  0.000000e+00  0.142857\n",
       "KO      0.279610  0.269202  0.253929  3.563850e-17  0.142857\n",
       "NKE     0.088179  0.372070  0.064074  1.643329e-01  0.142857\n",
       "PG      0.501745  0.673491  0.538376  6.789552e-01  0.142857"
      ]
     },
     "execution_count": 57,
     "metadata": {},
     "output_type": "execute_result"
    }
   ],
   "source": [
    "P  # weights for diff portfolios    \n",
    "# EW : equal weight "
   ]
  },
  {
   "cell_type": "code",
   "execution_count": 58,
   "metadata": {},
   "outputs": [
    {
     "data": {
      "image/png": "[encoded data removed]",
      "text/plain": [
       "<Figure size 640x480 with 1 Axes>"
      ]
     },
     "metadata": {},
     "output_type": "display_data"
    }
   ],
   "source": [
    "fig2a = P.plot(kind='bar')"
   ]
  },
  {
   "cell_type": "code",
   "execution_count": 59,
   "metadata": {},
   "outputs": [
    {
     "name": "stdout",
     "output_type": "stream",
     "text": [
      "                   G         M        Gn        Mn        EW\n",
      "Date                                                        \n",
      "2022-12-30  1.000000  1.000000  1.000000  1.000000  1.000000\n",
      "2023-01-03  0.995795  0.978160  0.997111  0.997687  1.004055\n",
      "2023-01-04  0.998230  0.965191  1.001223  1.002483  1.018341\n",
      "2023-01-05  0.988515  0.959912  0.991930  0.995894  1.016093\n",
      "2023-01-06  1.008950  0.978272  1.013585  1.018575  1.039908\n",
      "                   G         M        Gn        Mn        EW\n",
      "Date                                                        \n",
      "2023-09-25  0.962322  0.891953  0.971980  0.967670  0.961914\n",
      "2023-09-26  0.953746  0.891707  0.963129  0.960127  0.950928\n",
      "2023-09-27  0.945292  0.885755  0.954369  0.952934  0.948966\n",
      "2023-09-28  0.941982  0.885802  0.949589  0.948263  0.942507\n",
      "2023-09-29  0.944121  0.896741  0.950875  0.952796  0.949310\n"
     ]
    }
   ],
   "source": [
    "test_perf = CRo @ P \n",
    "print(test_perf.head())\n",
    "print(test_perf.tail())"
   ]
  },
  {
   "cell_type": "code",
   "execution_count": 60,
   "metadata": {},
   "outputs": [
    {
     "data": {
      "image/png": "[encoded data removed]",
      "text/plain": [
       "<Figure size 640x480 with 1 Axes>"
      ]
     },
     "metadata": {},
     "output_type": "display_data"
    }
   ],
   "source": [
    "# test out of sample performance CRo\n",
    "\n",
    "fig2b = (CRo @ P).plot()"
   ]
  },
  {
   "cell_type": "code",
   "execution_count": 61,
   "metadata": {},
   "outputs": [],
   "source": [
    "# GMVP : expected return and std \n",
    "ER_G = G.T @ ER     \n",
    "\n",
    "SD_G = PV(G, S) ** 0.5\n",
    "\n",
    "# MSRP : expected return and std\n",
    "ER_M = M.T @ ER\n",
    "\n",
    "SD_M = PV(M, S) ** 0.5"
   ]
  },
  {
   "cell_type": "code",
   "execution_count": 65,
   "metadata": {},
   "outputs": [
    {
     "data": {
      "text/plain": [
       "0.011512008977466364"
      ]
     },
     "execution_count": 65,
     "metadata": {},
     "output_type": "execute_result"
    }
   ],
   "source": [
    "ER_G"
   ]
  },
  {
   "cell_type": "code",
   "execution_count": 63,
   "metadata": {},
   "outputs": [
    {
     "data": {
      "image/png": "[encoded data removed]",
      "text/plain": [
       "<Figure size 640x480 with 1 Axes>"
      ]
     },
     "metadata": {},
     "output_type": "display_data"
    }
   ],
   "source": [
    "# plotting Mean variance plot \n",
    "\n",
    "\n",
    "plt.plot(SD_G, ER_G, marker='o', label='GMVP')\n",
    "plt.plot(SD_M, ER_M, marker='x', label='MSRP')\n",
    "plt.plot(SD_ystar, ER_ystar, marker='s', label='OC')  # Optimal Complete Portfolio # OC --> point ( allocate between MSRP and risk free asset )\n",
    "plt.plot(0, 0, marker='*', label='rf')  \n",
    "plt.plot([0, SD_M], [0, ER_M], label = 'CAL') # new EF : will go through risk free, and MSRP( only allocating to risky asset)\n",
    "\n",
    "plt.xlabel('Std')\n",
    "plt.ylabel('E[r]')\n",
    "\n",
    "plt.legend()\n",
    "plt.tight_layout()\n"
   ]
  },
  {
   "cell_type": "code",
   "execution_count": null,
   "metadata": {},
   "outputs": [],
   "source": []
  }
 ],
 "metadata": {
  "kernelspec": {
   "display_name": "Python 3",
   "language": "python",
   "name": "python3"
  },
  "language_info": {
   "codemirror_mode": {
    "name": "ipython",
    "version": 3
   },
   "file_extension": ".py",
   "mimetype": "text/x-python",
   "name": "python",
   "nbconvert_exporter": "python",
   "pygments_lexer": "ipython3",
   "version": "3.12.6"
  }
 },
 "nbformat": 4,
 "nbformat_minor": 2
}
