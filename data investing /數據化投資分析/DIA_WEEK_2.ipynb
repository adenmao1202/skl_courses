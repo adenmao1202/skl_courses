{
  "cells": [
    {
      "cell_type": "markdown",
      "metadata": {
        "id": "iDkQQKQMUUE9"
      },
      "source": [
        "# Introduction to NumPy\n",
        "\n",
        "## Row vector:\n",
        "$ \\begin{bmatrix} 1 & 2 \\end{bmatrix} $\n",
        "\n",
        "## Column vector:\n",
        "$ \\begin{bmatrix} 3 \\\\ 4 \\end{bmatrix} $\n",
        "\n",
        "## Square matrix:\n",
        "$ \\begin{bmatrix} 1 & 2 \\\\ 3 & 4 \\end{bmatrix} $"
      ]
    },
    {
      "cell_type": "code",
      "execution_count": 1,
      "metadata": {
        "colab": {
          "base_uri": "https://localhost:8080/"
        },
        "id": "2ftaEGIdT04A",
        "outputId": "f91864b7-bc68-4da1-b750-17780d29b717"
      },
      "outputs": [
        {
          "data": {
            "text/plain": [
              "4"
            ]
          },
          "execution_count": 1,
          "metadata": {},
          "output_type": "execute_result"
        }
      ],
      "source": [
        "1 + 3"
      ]
    },
    {
      "cell_type": "code",
      "execution_count": 2,
      "metadata": {
        "colab": {
          "base_uri": "https://localhost:8080/"
        },
        "id": "D75bBFRDT-cp",
        "outputId": "e2c73a63-ea81-48a5-e414-a16dbc1e9343"
      },
      "outputs": [
        {
          "data": {
            "text/plain": [
              "array([3, 4, 5])"
            ]
          },
          "execution_count": 2,
          "metadata": {},
          "output_type": "execute_result"
        }
      ],
      "source": [
        "import numpy as np\n",
        "np.array([3, 4, 5]) # 1D array"
      ]
    },
    {
      "cell_type": "code",
      "execution_count": 3,
      "metadata": {
        "id": "WUcxglDVUvF3"
      },
      "outputs": [],
      "source": [
        "w = np.array([10, 15])"
      ]
    },
    {
      "cell_type": "code",
      "execution_count": 4,
      "metadata": {
        "colab": {
          "base_uri": "https://localhost:8080/"
        },
        "id": "ZTn1L2GcU4pp",
        "outputId": "68cc82cb-d1d7-4a13-baca-1c8a27959f1e"
      },
      "outputs": [
        {
          "data": {
            "text/plain": [
              "array([10, 15])"
            ]
          },
          "execution_count": 4,
          "metadata": {},
          "output_type": "execute_result"
        }
      ],
      "source": [
        "w"
      ]
    },
    {
      "cell_type": "markdown",
      "metadata": {
        "id": "HeI0zeS-U99X"
      },
      "source": [
        "## Check dimension of an array"
      ]
    },
    {
      "cell_type": "code",
      "execution_count": 5,
      "metadata": {
        "colab": {
          "base_uri": "https://localhost:8080/"
        },
        "id": "lGGcDlAzU9TW",
        "outputId": "858c9242-45cb-48ad-d21a-996c81616047"
      },
      "outputs": [
        {
          "data": {
            "text/plain": [
              "(2,)"
            ]
          },
          "execution_count": 5,
          "metadata": {},
          "output_type": "execute_result"
        }
      ],
      "source": [
        "w.shape # use .shape to view the attribute (dimension) of the array"
      ]
    },
    {
      "cell_type": "code",
      "execution_count": 6,
      "metadata": {
        "colab": {
          "base_uri": "https://localhost:8080/"
        },
        "id": "yV0-mTTYVeSl",
        "outputId": "4d96e2ef-2d56-45e6-d325-b7dc97b1e3ba"
      },
      "outputs": [
        {
          "data": {
            "text/plain": [
              "array([[1, 2, 3]])"
            ]
          },
          "execution_count": 6,
          "metadata": {},
          "output_type": "execute_result"
        }
      ],
      "source": [
        "w = np.array([[1, 2, 3]])\n",
        "w"
      ]
    },
    {
      "cell_type": "code",
      "execution_count": 7,
      "metadata": {
        "colab": {
          "base_uri": "https://localhost:8080/"
        },
        "id": "DCVHN44PVppk",
        "outputId": "62927149-3585-4ba6-eb95-de7bf98b6cab"
      },
      "outputs": [
        {
          "data": {
            "text/plain": [
              "(1, 3)"
            ]
          },
          "execution_count": 7,
          "metadata": {},
          "output_type": "execute_result"
        }
      ],
      "source": [
        "w.shape"
      ]
    },
    {
      "cell_type": "code",
      "execution_count": 8,
      "metadata": {
        "colab": {
          "base_uri": "https://localhost:8080/"
        },
        "id": "lRrGKTCPV02l",
        "outputId": "044c4c6e-63d0-4948-9ba1-80fe39d485d6"
      },
      "outputs": [
        {
          "data": {
            "text/plain": [
              "array([[1],\n",
              "       [2],\n",
              "       [3]])"
            ]
          },
          "execution_count": 8,
          "metadata": {},
          "output_type": "execute_result"
        }
      ],
      "source": [
        "w.T"
      ]
    },
    {
      "cell_type": "code",
      "execution_count": 9,
      "metadata": {
        "colab": {
          "base_uri": "https://localhost:8080/"
        },
        "id": "ft1ODo5mV8t7",
        "outputId": "5596ebfc-cb7b-474c-d596-52f34c7657c1"
      },
      "outputs": [
        {
          "data": {
            "text/plain": [
              "(3, 1)"
            ]
          },
          "execution_count": 9,
          "metadata": {},
          "output_type": "execute_result"
        }
      ],
      "source": [
        "w.T.shape"
      ]
    },
    {
      "cell_type": "markdown",
      "metadata": {},
      "source": [
        "### this is cool, can also be done by .dot() method "
      ]
    },
    {
      "cell_type": "code",
      "execution_count": 11,
      "metadata": {
        "colab": {
          "base_uri": "https://localhost:8080/"
        },
        "id": "KbZ4TeTjWBeP",
        "outputId": "755b9543-9a05-44cf-99c4-5d0acc206d4d"
      },
      "outputs": [
        {
          "data": {
            "text/plain": [
              "array([[14]])"
            ]
          },
          "execution_count": 11,
          "metadata": {},
          "output_type": "execute_result"
        }
      ],
      "source": [
        "w @ w.T"
      ]
    },
    {
      "cell_type": "code",
      "execution_count": 12,
      "metadata": {
        "colab": {
          "base_uri": "https://localhost:8080/"
        },
        "id": "zpLbBb6VXHXh",
        "outputId": "7d2be887-3de4-4044-af23-1176843c4f9f"
      },
      "outputs": [
        {
          "data": {
            "text/plain": [
              "array([[14]])"
            ]
          },
          "execution_count": 12,
          "metadata": {},
          "output_type": "execute_result"
        }
      ],
      "source": [
        "np.dot(w, w.T)"
      ]
    },
    {
      "cell_type": "code",
      "execution_count": 16,
      "metadata": {
        "colab": {
          "base_uri": "https://localhost:8080/"
        },
        "id": "NkROselHWeoI",
        "outputId": "fd86e49a-0ed2-4fc1-acd5-2d2592cb9bc9"
      },
      "outputs": [
        {
          "data": {
            "text/plain": [
              "array([[1, 2, 3],\n",
              "       [2, 4, 6],\n",
              "       [3, 6, 9]])"
            ]
          },
          "execution_count": 16,
          "metadata": {},
          "output_type": "execute_result"
        }
      ],
      "source": [
        "w.T @ w   # usually use this one "
      ]
    },
    {
      "cell_type": "code",
      "execution_count": 17,
      "metadata": {},
      "outputs": [
        {
          "data": {
            "text/plain": [
              "array([[14]])"
            ]
          },
          "execution_count": 17,
          "metadata": {},
          "output_type": "execute_result"
        }
      ],
      "source": [
        "np.matmul(w, w.T)  # order matters "
      ]
    },
    {
      "cell_type": "markdown",
      "metadata": {},
      "source": [
        "### Checking shape "
      ]
    },
    {
      "cell_type": "code",
      "execution_count": 18,
      "metadata": {
        "colab": {
          "base_uri": "https://localhost:8080/"
        },
        "id": "dUMxaNIfURfO",
        "outputId": "14575d53-ccad-4836-9372-410fcdda6fc1"
      },
      "outputs": [
        {
          "data": {
            "text/plain": [
              "array([[1, 2],\n",
              "       [3, 4]])"
            ]
          },
          "execution_count": 18,
          "metadata": {},
          "output_type": "execute_result"
        }
      ],
      "source": [
        "M = np.array([[1,2], [3,4]])  # two brackets \n",
        "M"
      ]
    },
    {
      "cell_type": "code",
      "execution_count": 19,
      "metadata": {
        "colab": {
          "base_uri": "https://localhost:8080/"
        },
        "id": "tqPcwNSYXPcV",
        "outputId": "cce9b48d-cc2c-4968-906d-f4ba02c82872"
      },
      "outputs": [
        {
          "data": {
            "text/plain": [
              "(2, 2)"
            ]
          },
          "execution_count": 19,
          "metadata": {},
          "output_type": "execute_result"
        }
      ],
      "source": [
        "M.shape"
      ]
    },
    {
      "cell_type": "code",
      "execution_count": 21,
      "metadata": {
        "colab": {
          "base_uri": "https://localhost:8080/"
        },
        "id": "LyGqBodSXlVz",
        "outputId": "a5de1162-c1cd-48a9-cd40-ee3c00465fbb"
      },
      "outputs": [
        {
          "name": "stdout",
          "output_type": "stream",
          "text": [
            "(1, 2)\n"
          ]
        },
        {
          "data": {
            "text/plain": [
              "array([[0.26, 0.37]])"
            ]
          },
          "execution_count": 21,
          "metadata": {},
          "output_type": "execute_result"
        }
      ],
      "source": [
        "w = np.array([[0.2, 0.8]])   # weight \n",
        "print(w.shape)\n",
        "S = np.array([[0.3, 0.25],    # var-cov matrix \n",
        "              [0.25, 0.4]])\n",
        "\n",
        "w @ S"
      ]
    },
    {
      "cell_type": "code",
      "execution_count": 22,
      "metadata": {
        "colab": {
          "base_uri": "https://localhost:8080/"
        },
        "id": "XJbRQpKvX4fS",
        "outputId": "849f942b-7b1c-424a-b486-0cc875c5f8d5"
      },
      "outputs": [
        {
          "data": {
            "text/plain": [
              "array([[0.348]])"
            ]
          },
          "execution_count": 22,
          "metadata": {},
          "output_type": "execute_result"
        }
      ],
      "source": [
        "w @ S @ w.T"
      ]
    },
    {
      "cell_type": "code",
      "execution_count": 26,
      "metadata": {
        "colab": {
          "base_uri": "https://localhost:8080/"
        },
        "id": "k_jCw3TEYFGP",
        "outputId": "b3e97d17-800a-4bb6-f687-b4e658b8b9ec"
      },
      "outputs": [
        {
          "data": {
            "text/plain": [
              "0.3480000000000001"
            ]
          },
          "execution_count": 26,
          "metadata": {},
          "output_type": "execute_result"
        }
      ],
      "source": [
        "\n",
        "w @ S @ w      # without transpose, we get direct answer "
      ]
    },
    {
      "cell_type": "markdown",
      "metadata": {},
      "source": [
        "### Checking the variables "
      ]
    },
    {
      "cell_type": "code",
      "execution_count": 27,
      "metadata": {
        "colab": {
          "base_uri": "https://localhost:8080/"
        },
        "id": "OyBEWAU-BlrY",
        "outputId": "cd7d00d6-e37e-4aea-c442-9556c576c93c"
      },
      "outputs": [
        {
          "name": "stdout",
          "output_type": "stream",
          "text": [
            "Variable   Type       Data/Info\n",
            "-------------------------------\n",
            "M          ndarray    2x2: 4 elems, type `int64`, 32 bytes\n",
            "S          ndarray    2x2: 4 elems, type `float64`, 32 bytes\n",
            "np         module     <module 'numpy' from '/op<...>kages/numpy/__init__.py'>\n",
            "w          ndarray    2: 2 elems, type `float64`, 16 bytes\n"
          ]
        }
      ],
      "source": [
        "whos"
      ]
    },
    {
      "cell_type": "code",
      "execution_count": 40,
      "metadata": {
        "colab": {
          "base_uri": "https://localhost:8080/"
        },
        "id": "8rbyd728XVDG",
        "outputId": "9a368375-17db-4417-d4a0-dde0b715109f"
      },
      "outputs": [
        {
          "name": "stdout",
          "output_type": "stream",
          "text": [
            "(2,)\n",
            "(1, 2)\n"
          ]
        }
      ],
      "source": [
        "# compare the following \n",
        "\n",
        "X = np.array([1, 2])\n",
        "Y = np.array([[1, 2]])\n",
        "print(X.shape)\n",
        "print(Y.shape)\n"
      ]
    },
    {
      "cell_type": "code",
      "execution_count": 51,
      "metadata": {
        "colab": {
          "base_uri": "https://localhost:8080/"
        },
        "id": "Y-1-7rZZYomv",
        "outputId": "2a113f4e-7acc-4c3f-fcaa-c4ce587d3f75"
      },
      "outputs": [
        {
          "data": {
            "text/plain": [
              "(2, 1)"
            ]
          },
          "execution_count": 51,
          "metadata": {},
          "output_type": "execute_result"
        }
      ],
      "source": [
        "Y1= Y.T\n",
        "Y1.shape "
      ]
    },
    {
      "cell_type": "code",
      "execution_count": 36,
      "metadata": {
        "colab": {
          "base_uri": "https://localhost:8080/"
        },
        "id": "RN643E5xYre6",
        "outputId": "931b6c53-891e-4974-c192-8c24eec38739"
      },
      "outputs": [
        {
          "data": {
            "text/plain": [
              "array([[3],\n",
              "       [4]])"
            ]
          },
          "execution_count": 36,
          "metadata": {},
          "output_type": "execute_result"
        }
      ],
      "source": [
        "Y = np.array([[3], [4]])\n",
        "Y"
      ]
    },
    {
      "cell_type": "code",
      "execution_count": 37,
      "metadata": {
        "colab": {
          "base_uri": "https://localhost:8080/"
        },
        "id": "oNAP8W3bYwa6",
        "outputId": "efc5a523-750e-4d11-a253-266b0c3657d3"
      },
      "outputs": [
        {
          "data": {
            "text/plain": [
              "(2, 1)"
            ]
          },
          "execution_count": 37,
          "metadata": {},
          "output_type": "execute_result"
        }
      ],
      "source": [
        "Y.shape"
      ]
    },
    {
      "cell_type": "code",
      "execution_count": 38,
      "metadata": {
        "colab": {
          "base_uri": "https://localhost:8080/"
        },
        "id": "X58-7eSibxLn",
        "outputId": "91818858-2dac-4189-9466-ab93f22251c1"
      },
      "outputs": [
        {
          "data": {
            "text/plain": [
              "array([[1., 0.],\n",
              "       [0., 1.]])"
            ]
          },
          "execution_count": 38,
          "metadata": {},
          "output_type": "execute_result"
        }
      ],
      "source": [
        "np.eye(2) # identity matrix"
      ]
    },
    {
      "cell_type": "code",
      "execution_count": 39,
      "metadata": {
        "colab": {
          "base_uri": "https://localhost:8080/"
        },
        "id": "884ZXfdsbzts",
        "outputId": "4b09009a-7176-48b1-9418-37af0cbfcb72"
      },
      "outputs": [
        {
          "data": {
            "text/plain": [
              "array([1., 1., 1., 1.])"
            ]
          },
          "execution_count": 39,
          "metadata": {},
          "output_type": "execute_result"
        }
      ],
      "source": [
        "np.ones(4)"
      ]
    },
    {
      "cell_type": "code",
      "execution_count": 40,
      "metadata": {
        "colab": {
          "base_uri": "https://localhost:8080/"
        },
        "id": "f_f8xrQ4b1Qe",
        "outputId": "43e4edda-1f6f-4294-8cd2-9091ef8ff1b3"
      },
      "outputs": [
        {
          "data": {
            "text/plain": [
              "array([[1.],\n",
              "       [1.],\n",
              "       [1.],\n",
              "       [1.]])"
            ]
          },
          "execution_count": 40,
          "metadata": {},
          "output_type": "execute_result"
        }
      ],
      "source": [
        "np.ones((4,1))"
      ]
    },
    {
      "cell_type": "code",
      "execution_count": 59,
      "metadata": {},
      "outputs": [
        {
          "data": {
            "text/plain": [
              "(1, 2)"
            ]
          },
          "execution_count": 59,
          "metadata": {},
          "output_type": "execute_result"
        }
      ],
      "source": [
        "zero1 = np.zeros((1, 2))\n",
        "zero1.shape\n"
      ]
    },
    {
      "cell_type": "code",
      "execution_count": 60,
      "metadata": {},
      "outputs": [
        {
          "data": {
            "text/plain": [
              "(2,)"
            ]
          },
          "execution_count": 60,
          "metadata": {},
          "output_type": "execute_result"
        }
      ],
      "source": [
        "zero2 = np.array([0.0, 0.0])\n",
        "zero2.shape  "
      ]
    },
    {
      "cell_type": "markdown",
      "metadata": {},
      "source": [
        "### def an utitlity function to do constraints optimization "
      ]
    },
    {
      "cell_type": "code",
      "execution_count": 52,
      "metadata": {},
      "outputs": [],
      "source": [
        "def util(x, y):\n",
        "    return x*y "
      ]
    },
    {
      "cell_type": "code",
      "execution_count": 53,
      "metadata": {},
      "outputs": [
        {
          "data": {
            "text/plain": [
              "6"
            ]
          },
          "execution_count": 53,
          "metadata": {},
          "output_type": "execute_result"
        }
      ],
      "source": [
        "util(2, 3)"
      ]
    },
    {
      "cell_type": "markdown",
      "metadata": {},
      "source": [
        "### only one variable"
      ]
    },
    {
      "cell_type": "code",
      "execution_count": 54,
      "metadata": {
        "colab": {
          "base_uri": "https://localhost:8080/"
        },
        "id": "w91mkHBbb4q6",
        "outputId": "53b7e71a-48b5-4024-839e-a9af2dae202e"
      },
      "outputs": [
        {
          "data": {
            "text/plain": [
              "6"
            ]
          },
          "execution_count": 54,
          "metadata": {},
          "output_type": "execute_result"
        }
      ],
      "source": [
        "# with array \n",
        "\n",
        "def u(x):\n",
        "    util = x[0] * x[1]\n",
        "    return util\n",
        "\n",
        "u(np.array([2, 3]))"
      ]
    },
    {
      "cell_type": "markdown",
      "metadata": {},
      "source": [
        "### Optimizer ( minimizer)\n",
        "- fsolve method \n",
        "    - Purpose: It is used for finding the roots (solutions) of a system of nonlinear equations. \n",
        "    - It solves the equation f(x) = 0.\n"
      ]
    },
    {
      "cell_type": "code",
      "execution_count": 67,
      "metadata": {
        "colab": {
          "base_uri": "https://localhost:8080/"
        },
        "id": "ZpPQ_irDclV6",
        "outputId": "aacdfed2-3b91-4ff6-d697-6cbba1b7902c"
      },
      "outputs": [
        {
          "name": "stdout",
          "output_type": "stream",
          "text": [
            "Optimization terminated successfully    (Exit mode 0)\n",
            "            Current function value: -1799.999999999998\n",
            "            Iterations: 6\n",
            "            Function evaluations: 18\n",
            "            Gradient evaluations: 6\n"
          ]
        },
        {
          "data": {
            "text/plain": [
              "array([60.00000191, 29.99999905])"
            ]
          },
          "execution_count": 67,
          "metadata": {},
          "output_type": "execute_result"
        }
      ],
      "source": [
        "from scipy.optimize import minimize # optimizers\n",
        "\n",
        "def u(x):  # turn a max problem into a min one\n",
        "    util = -(x[0] * x[1])  # utility function: U = x[0] * x[1] \n",
        "    return util\n",
        "\n",
        "x0 = np.array([0.0, 0.0]) # initial guess\n",
        "\n",
        "# Constraints func \n",
        "eq_constraints = {'type': 'eq', 'fun' : lambda x: np.array([1*x[0] + 2*x[1] - 120])}  # x[0] + 2*x[1] = 120 --> cost function \n",
        "\n",
        "\"\"\" \n",
        "eq: equality ( which the contraint will exist a = , instead of > or < )\n",
        "    - inequality ( < or > )\n",
        "fun: \n",
        "    - Defines the constraint function as a lambda function.\n",
        "    - The function takes an array x as input and returns the result of the equation 1*x[0] + 2*x[1] - 120.\n",
        "\"\"\"\n",
        "\n",
        "\n",
        "\n",
        "\n",
        "result = minimize(u, x0, method='SLSQP',    # method : solver \n",
        "               constraints=eq_constraints,\n",
        "               options={'ftol': 1e-20, 'disp': True})   # options : result in deccimal places, display  = True \n",
        "result.x"
      ]
    },
    {
      "cell_type": "code",
      "execution_count": 65,
      "metadata": {},
      "outputs": [
        {
          "data": {
            "text/plain": [
              "1799.999999999998"
            ]
          },
          "execution_count": 65,
          "metadata": {},
          "output_type": "execute_result"
        }
      ],
      "source": [
        "-result.fun\n",
        "\n",
        "# the correct answer ( since we took neg in the beginning for minimization )\n",
        "# the result of this is : utility function ( x y)"
      ]
    },
    {
      "cell_type": "markdown",
      "metadata": {},
      "source": [
        "\"\"\" \n"
      ]
    },
    {
      "cell_type": "code",
      "execution_count": 68,
      "metadata": {
        "colab": {
          "base_uri": "https://localhost:8080/"
        },
        "id": "kKvuRPoIc8bs",
        "outputId": "e9e54197-c001-4104-a503-d61d9a84c522"
      },
      "outputs": [
        {
          "name": "stdout",
          "output_type": "stream",
          "text": [
            "Optimization terminated successfully    (Exit mode 0)\n",
            "            Current function value: -1800.0000000000005\n",
            "            Iterations: 3\n",
            "            Function evaluations: 9\n",
            "            Gradient evaluations: 3\n"
          ]
        },
        {
          "data": {
            "text/plain": [
              "array([60., 30.])"
            ]
          },
          "execution_count": 68,
          "metadata": {},
          "output_type": "execute_result"
        }
      ],
      "source": [
        "x0 = np.array([120, 0])\n",
        "res = minimize(u, x0, method='SLSQP',\n",
        "               constraints=eq_constraints,\n",
        "               options={'ftol': 1e-9, 'disp': True})\n",
        "res.x"
      ]
    },
    {
      "cell_type": "code",
      "execution_count": null,
      "metadata": {},
      "outputs": [],
      "source": []
    }
  ],
  "metadata": {
    "colab": {
      "provenance": []
    },
    "kernelspec": {
      "display_name": "Python 3",
      "name": "python3"
    },
    "language_info": {
      "codemirror_mode": {
        "name": "ipython",
        "version": 3
      },
      "file_extension": ".py",
      "mimetype": "text/x-python",
      "name": "python",
      "nbconvert_exporter": "python",
      "pygments_lexer": "ipython3",
      "version": "3.12.6"
    }
  },
  "nbformat": 4,
  "nbformat_minor": 0
}
