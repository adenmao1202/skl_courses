{
  "cells": [
    {
      "cell_type": "markdown",
      "metadata": {
        "id": "8UEGBmj25syX"
      },
      "source": [
        "# Step 1: Download data\n",
        "1. Go to file -> Save a copy in drive.\n",
        "2. Rename the file \"FE_Part_B.ipynb\" in the top left to \"FE_Part_B_StudentID.ipynb\"\n",
        "3. Run the cell below.\n",
        "4. Input your **NCCU Student ID** to get data.\n",
        "5. Preview the dataframe \"data\" (2018-12-03 to 2024-12-30).\n",
        "6. There are five stocks (Columns **\"A\"** to **\"E\"**) and one **\"Benchmark\"**."
      ]
    },
    {
      "cell_type": "code",
      "execution_count": 1,
      "metadata": {
        "id": "1cRIaLYJLhWQ"
      },
      "outputs": [],
      "source": [
        "import pandas as pd\n",
        "import gdown\n",
        "\n",
        "MyID = input('109102049')\n",
        "gdown.download('https://drive.google.com/uc?id=1SGL-boAwdZgmU6K_YR1UfF8mObrfqMtV', quiet=True)\n",
        "Link = pd.read_excel('SID_GID.xlsx')\n",
        "Link = Link.astype(str)\n",
        "GID = Link.loc[Link.SID==MyID, 'GID'].item()\n",
        "gdown.download(f'https://drive.google.com/uc?id={GID}', quiet=False)\n",
        "\n",
        "data = pd.read_pickle(f'{MyID}_data.pkl')\n",
        "data"
      ]
    },
    {
      "cell_type": "markdown",
      "metadata": {
        "id": "fH1sQUG07TMR"
      },
      "source": [
        "# Step 2: Create in-sample and out-of-sample data sets\n",
        "1. In-sample (IS) period: *2018 to 2023*\n",
        "  ```python\n",
        "  # useful method:\n",
        "  # .loc\n",
        "  ```\n",
        "2. Convert the **daily IS prices** into **month-end returns**.\n",
        "   https://pandas.pydata.org/docs/reference/api/pandas.DataFrame.resample.html\n",
        "   \n",
        "   Apply the above method with the appropriate frequency and select **last observations** for every month. Apply the **percentage change method** to obtain monthly returns and **drop the empty (NaN) row**. The resulting dataframe of in-sample returns has 60 rows and 6 columns (2019-01-31 to 2023-12-31).\n",
        "  ```python\n",
        "  # useful methods:\n",
        "  # .resample\n",
        "  # .last\n",
        "  # .pct_change\n",
        "  # .dropna\n",
        "  ```\n",
        "3. Out-of-sample (OS) period: *2024*\n",
        "  ```python\n",
        "  # useful method:\n",
        "  # .loc\n",
        "  ```\n",
        "4. Convert the **daily OS prices** into **daily cumulative returns**.\n",
        "   Scale each column by its initial value on the first day of 2024. The first row contains 1 only for all columns. This data set is for testing investment strategy performance in 2024. The resulting dataframe of out-of-sample cumulative returns has 251 rows and 6 columns (2024-01-02 to 2024-12-30).\n",
        "  ```python\n",
        "  # useful methods:\n",
        "  # .loc\n",
        "  # .iloc\n",
        "  # .div\n",
        "  ```\n",
        "\n"
      ]
    },
    {
      "cell_type": "code",
      "execution_count": null,
      "metadata": {
        "id": "KYkovzip8X5V"
      },
      "outputs": [],
      "source": [
        "# Your code for Step 2 here\n",
        "\n"
      ]
    },
    {
      "cell_type": "markdown",
      "metadata": {
        "id": "OtBtgv--Bn3A"
      },
      "source": [
        "# Step 3: Estimate inputs\n",
        "\n",
        "**[Q1: 5 points]** Estimate in-sample average monthly returns **R** for Stocks 'A', 'B', 'C', 'D', and 'E'.\n",
        "\n",
        "**[Q2: 5 points]** Estimate in-sample covariance matrix **S** for Stocks 'A', 'B', 'C', 'D', and 'E'.\n",
        "  ```python\n",
        "  # useful methods:\n",
        "  # .iloc\n",
        "  # .mean\n",
        "  # .cov\n",
        "  R =\n",
        "  S =\n",
        "\n",
        "  ### save answers (DO NOT MODIFY):\n",
        "  Q1ANS = pd.DataFrame(R.copy(), columns=['Q1']).T\n",
        "  Q2ANS = S.copy()\n",
        "  ```"
      ]
    },
    {
      "cell_type": "code",
      "execution_count": null,
      "metadata": {
        "id": "xM3uAw9aJj3e"
      },
      "outputs": [],
      "source": [
        "# Your code for Q1 and Q2 here\n",
        "\n"
      ]
    },
    {
      "cell_type": "markdown",
      "metadata": {
        "id": "S9xpfJ8mJp1p"
      },
      "source": [
        "# Step 4: Optimal portfolios\n",
        "\n",
        "1. Import libraries\n",
        "```python\n",
        "import numpy as np\n",
        "from scipy.optimize import minimize, Bounds\n",
        "```\n",
        "2. Define objective functions\n",
        "\n",
        "3. Construct optimal portfolios\n",
        "```python\n",
        "# analytical GMVP example\n",
        "# you should get the same solution with numerical optimizer\n",
        "GMVP = (inv(S) @ np.ones(len(R))) / (np.ones(len(R)) @ inv(S) @ np.ones(len(R)))\n",
        "GMVP = pd.DataFrame(GMVP, index=S.index, columns=['GMVP']).T\n",
        "GMVP\n",
        "```\n",
        "**[Q3: 5 points]** Find the **in-sample Mnss (MSRP no short-selling)** numerically.\n",
        "```python\n",
        "Mnss = minimize(..., options={'disp': True, 'ftol': 1e-30} ...\n",
        "Q3ANS = pd.DataFrame(..., index=S.index, columns=['Mnss']).T\n",
        "Q3ANS\n",
        "\n",
        "```"
      ]
    },
    {
      "cell_type": "code",
      "execution_count": null,
      "metadata": {
        "id": "LmRyS7_9CEFt"
      },
      "outputs": [],
      "source": [
        "# Your code for Q3 here\n",
        "\n"
      ]
    },
    {
      "cell_type": "markdown",
      "metadata": {
        "id": "zJdjouid-K0q"
      },
      "source": [
        "**[Q4: 5 points]** Compute the **in-sample annualized Sharpe Ratio** of the **Mnss (MSRP no short-selling)**.\n",
        "```python\n",
        "Q4ANS = pd.DataFrame(index=['Q4'], columns=['Sharpe'])\n",
        "Q4ANS.loc['Q4', 'Sharpe'] = ...\n",
        "Q4ANS\n",
        "```"
      ]
    },
    {
      "cell_type": "code",
      "execution_count": null,
      "metadata": {
        "id": "CQm11sFz91U3"
      },
      "outputs": [],
      "source": [
        "# Your code for Q4 here\n",
        "\n"
      ]
    },
    {
      "cell_type": "markdown",
      "metadata": {
        "id": "3CpdBtRU-lCQ"
      },
      "source": [
        "**[Q5: 5 points]** Compute the Compute the **out-of-sample annualized Sharpe Ratio** of the **Mnss (MSRP no short-selling)**.\n",
        "  - Use the out-of-sample dataframe to find the cumulative daily return of Mnss in 2024.\n",
        "  - Compute daily returns of Mnss in 2024.\n",
        "  - Compute the **annualized Sharpe ratio** (**250 trading days**) with daily returns of Mnss.\n",
        "\n",
        "```python\n",
        "# useful methods\n",
        "# @ for matrix multiplication\n",
        "# .mean\n",
        "# .std\n",
        "# np.sqrt or **0.5\n",
        "Q5ANS = pd.DataFrame(index=['Q5'], columns=['Sharpe'])\n",
        "Q5ANS.loc['Q5', 'Sharpe'] = ...\n",
        "Q5ANS\n",
        "```"
      ]
    },
    {
      "cell_type": "code",
      "execution_count": null,
      "metadata": {
        "id": "K5CrJc8VC0so"
      },
      "outputs": [],
      "source": [
        "# Your code for Q5 here\n",
        "\n"
      ]
    },
    {
      "cell_type": "markdown",
      "metadata": {
        "id": "QSpch2OkEU3A"
      },
      "source": [
        "# Step 5: Time-series regression\n",
        "\n",
        "1. Import libraries\n",
        "```python\n",
        "import statsmodels.api as sm\n",
        "```\n",
        "2. Use the following single-factor market model:\n",
        "\n",
        "  $ R_{i} = \\alpha_{i} + \\beta_{i}R_{\\text{Benchmark}} + \\varepsilon_{i}, \\text{where } i \\in \\{A, B, C, D, E\\}$\n",
        "\n",
        "**[Q6: 5 points]** Estimate **in-sample betas** for Stocks 'A', 'B', 'C', 'D', and 'E' with 60 months of returns.\n",
        "```python\n",
        "# useful function and attribute\n",
        "# sm.OLS\n",
        "# sm.add_constant\n",
        "# .params\n",
        "# .loc\n",
        "# fill your answers in Q6ANS\n",
        "# use a for loop\n",
        "Q6ANS = pd.DataFrame(index=['Beta'], columns=['A', 'B', 'C', 'D', 'E'])\n",
        "res = sm.OLS(...).fit()\n",
        "```\n"
      ]
    },
    {
      "cell_type": "code",
      "execution_count": null,
      "metadata": {
        "id": "Z_oKskslHOHQ"
      },
      "outputs": [],
      "source": [
        "# Your code for Q6 here\n",
        "\n"
      ]
    },
    {
      "cell_type": "markdown",
      "metadata": {
        "id": "OEE74k7dKrQ4"
      },
      "source": [
        "**[Q7: 5 points]** Adjust **in-sample betas** in Q6 with the Bloomberg shrinkage method ($\\gamma = 2/3$).\n",
        "\n",
        "```python\n",
        "# modify the code below:\n",
        "Q7ANS = Q6ANS.copy() ...\n",
        "Q7ANS.index = ['AdjBeta']\n",
        "Q7ANS\n",
        "```\n",
        "\n"
      ]
    },
    {
      "cell_type": "code",
      "execution_count": null,
      "metadata": {
        "id": "MWKEX3VlL0MJ"
      },
      "outputs": [],
      "source": [
        "# Your code for Q7 here\n",
        "\n"
      ]
    },
    {
      "cell_type": "markdown",
      "metadata": {
        "id": "cnDC2U1gVlrO"
      },
      "source": [
        "**[Q8: 5 points]** Find **CAPM-implied** covariance between Stock **A** and Stock **E**.\n",
        "- Use beta estimates in Q6ANS.\n",
        "- Use Benchmark as the market factor.\n",
        "```python\n",
        "# useful methods\n",
        "# @ for matrix multiplication\n",
        "# .var\n",
        "Q8ANS = pd.DataFrame(index=['Q8'], columns=['COV'])\n",
        "Q8ANS.loc['Q8', 'COV'] = Q6ANS[...].item() * ... * ...\n",
        "Q8ANS\n",
        "```"
      ]
    },
    {
      "cell_type": "code",
      "execution_count": null,
      "metadata": {
        "id": "lKUAY1JXVrZU"
      },
      "outputs": [],
      "source": [
        "# Your code for Q8 here\n",
        "\n"
      ]
    },
    {
      "cell_type": "markdown",
      "metadata": {
        "id": "MHczlH_9MLUR"
      },
      "source": [
        "# Step 6: Performance evaluation\n",
        "**[Q9: 5 points]**  Estimate **in-sample annualized appraisal ratios** for Stocks 'A', 'B', 'C', 'D', and 'E' with 60 months of returns.\n",
        "\n",
        "- Use outputs from regression in Q6.\n",
        "- Compute appraisal ratios with estimates from monthly data and annualize them.\n",
        "```python\n",
        "# useful attribute\n",
        "# .resid\n",
        "Q9ANS = pd.DataFrame(index=['AR'], columns=['A', 'B', 'C', 'D', 'E'])\n",
        "Q9ANS\n",
        "```"
      ]
    },
    {
      "cell_type": "code",
      "execution_count": null,
      "metadata": {
        "id": "SsP6D_oK4ju6"
      },
      "outputs": [],
      "source": [
        "# Your code for Q9 here\n",
        "\n"
      ]
    },
    {
      "cell_type": "markdown",
      "metadata": {
        "id": "_0MOQfSRPdh0"
      },
      "source": [
        "**[Q10: 5 points]** Compute **out-of-sample information ratio** for Mnss in 2024.\n",
        "  - Use the out-of-sample dataframe to find the cumulative daily return of Mnss in 2024.\n",
        "  - Compute daily returns of Mnss and Benchmark in 2024.\n",
        "  - Compute the **annualized information ratio** (**250 trading days**) with daily returns of Mnss.\n",
        "```python\n",
        "# useful methods\n",
        "# @ for matrix multiplication\n",
        "# .mean\n",
        "# .std\n",
        "# .pct_change\n",
        "# np.sqrt or **0.5\n",
        "Q10ANS = pd.DataFrame(index=['Q10'], columns=['IR'])\n",
        "Q10ANS.loc['Q10', 'IR'] = ...\n",
        "Q10ANS\n",
        "```"
      ]
    },
    {
      "cell_type": "code",
      "execution_count": null,
      "metadata": {
        "id": "OzhnMgv0PjT9"
      },
      "outputs": [],
      "source": [
        "# Your code for Q10 here\n",
        "\n"
      ]
    },
    {
      "cell_type": "markdown",
      "metadata": {
        "id": "epVmXH46PlHy"
      },
      "source": [
        "**[Q11: 5 points]** Compute **out-of-sample $M^2$** for Mnss in 2024.\n",
        "  - Use the out-of-sample dataframe to find the cumulative daily return of Mnss in 2024.\n",
        "  - Compute daily returns of Mnss and Benchmark in 2024.\n",
        "  - Compute the **annualized $M^2$** (**250 trading days**) with daily returns of Mnss.\n",
        "```python\n",
        "# useful methods\n",
        "# .mean\n",
        "# .std\n",
        "# np.sqrt or **0.5\n",
        "Q11ANS = pd.DataFrame(index=['Q11'], columns=['M2'])\n",
        "Q11ANS.loc['Q11', 'M2'] = ...\n",
        "Q11ANS\n",
        "```"
      ]
    },
    {
      "cell_type": "code",
      "execution_count": null,
      "metadata": {
        "id": "TmdFqnq2Pmlt"
      },
      "outputs": [],
      "source": [
        "# Your code for Q11 here\n",
        "\n"
      ]
    },
    {
      "cell_type": "markdown",
      "metadata": {
        "id": "1jt633I_9eoV"
      },
      "source": [
        "# Bonus\n",
        "**[Q12: 5 points - HARD]** Find the **in-sample Mlev (MSRP with leverage constraint)** numerically.\n",
        "\n",
        "- Define leverage as the inverse of percentage margin (50\\% margin equals leverage of 2).\n",
        "- Estimate the MSRP by imposing two constraints:\n",
        "  1. Sum of weight equals one ($\\Sigma w_i = 1$).\n",
        "  2. Portfolio leverage equals or less than two ($\\Sigma |w_i| \\le 2$).\n",
        "\n",
        "Example for using multiple constraints in optimization: https://docs.scipy.org/doc/scipy/reference/generated/scipy.optimize.minimize.html#scipy.optimize.minimize\n",
        "```python\n",
        "Mlev = minimize(..., options={'disp': True, 'ftol': 1e-30} ...\n",
        "Q12ANS = pd.DataFrame(..., index=S.index, columns=['Mlev']).T\n",
        "Q12ANS\n",
        "```"
      ]
    },
    {
      "cell_type": "code",
      "execution_count": null,
      "metadata": {
        "id": "WBfgIL0y5otZ"
      },
      "outputs": [],
      "source": [
        "# Your code for Q12 here\n",
        "\n"
      ]
    },
    {
      "cell_type": "markdown",
      "metadata": {
        "id": "UsGZgoe6dS_1"
      },
      "source": [
        "# Export and download answers\n",
        "- Run the cells below to export and download your answers.\n",
        "- Open them with Excel to double check.\n",
        "- **Upload all .csv to Moodle before deadline**.\n",
        "- You have to **allow download multiple files** in your browser.\n",
        "- Go to top left hand corner -> File -> Download -> Download .ipynb\n",
        "- **Upload your \"FE_Part_B_StudentID.ipynb\" to Moodle before deadline**."
      ]
    },
    {
      "cell_type": "code",
      "execution_count": null,
      "metadata": {
        "id": "2CExroZsd4mi"
      },
      "outputs": [],
      "source": [
        "from google.colab import files\n",
        "import time\n",
        "\n",
        "try:\n",
        "  Q1ANS.to_csv(f'Q1ANS_{MyID}.csv')\n",
        "  files.download(f'Q1ANS_{MyID}.csv')\n",
        "except:\n",
        "  pass\n",
        "\n",
        "time.sleep(1)"
      ]
    },
    {
      "cell_type": "code",
      "execution_count": null,
      "metadata": {
        "id": "vYCARq_TsUhS"
      },
      "outputs": [],
      "source": [
        "try:\n",
        "  Q2ANS.to_csv(f'Q2ANS_{MyID}.csv')\n",
        "  files.download(f'Q2ANS_{MyID}.csv')\n",
        "except:\n",
        "  pass\n",
        "\n",
        "time.sleep(1)"
      ]
    },
    {
      "cell_type": "code",
      "execution_count": null,
      "metadata": {
        "id": "ABEO82e8sZ-b"
      },
      "outputs": [],
      "source": [
        "try:\n",
        "  Q3ANS.to_csv(f'Q3ANS_{MyID}.csv')\n",
        "  files.download(f'Q3ANS_{MyID}.csv')\n",
        "except:\n",
        "  pass\n",
        "\n",
        "time.sleep(1)"
      ]
    },
    {
      "cell_type": "code",
      "execution_count": null,
      "metadata": {
        "id": "C7W-D76SsdDY"
      },
      "outputs": [],
      "source": [
        "try:\n",
        "  Q4ANS.to_csv(f'Q4ANS_{MyID}.csv')\n",
        "  files.download(f'Q4ANS_{MyID}.csv')\n",
        "except:\n",
        "  pass\n",
        "\n",
        "time.sleep(1)"
      ]
    },
    {
      "cell_type": "code",
      "execution_count": null,
      "metadata": {
        "id": "lFKevGF-sh9K"
      },
      "outputs": [],
      "source": [
        "try:\n",
        "  Q5ANS.to_csv(f'Q5ANS_{MyID}.csv')\n",
        "  files.download(f'Q5ANS_{MyID}.csv')\n",
        "except:\n",
        "  pass\n",
        "\n",
        "time.sleep(1)"
      ]
    },
    {
      "cell_type": "code",
      "execution_count": null,
      "metadata": {
        "id": "L-FcdDTzskfE"
      },
      "outputs": [],
      "source": [
        "try:\n",
        "  Q6ANS.to_csv(f'Q6ANS_{MyID}.csv')\n",
        "  files.download(f'Q6ANS_{MyID}.csv')\n",
        "except:\n",
        "  pass\n",
        "\n",
        "time.sleep(1)"
      ]
    },
    {
      "cell_type": "code",
      "execution_count": null,
      "metadata": {
        "id": "5yk8UFuusm_j"
      },
      "outputs": [],
      "source": [
        "try:\n",
        "  Q7ANS.to_csv(f'Q7ANS_{MyID}.csv')\n",
        "  files.download(f'Q7ANS_{MyID}.csv')\n",
        "except:\n",
        "  pass\n",
        "\n",
        "time.sleep(1)"
      ]
    },
    {
      "cell_type": "code",
      "execution_count": null,
      "metadata": {
        "id": "vFYYwh-Nsqsf"
      },
      "outputs": [],
      "source": [
        "try:\n",
        "  Q8ANS.to_csv(f'Q8ANS_{MyID}.csv')\n",
        "  files.download(f'Q8ANS_{MyID}.csv')\n",
        "except:\n",
        "  pass\n",
        "\n",
        "time.sleep(1)"
      ]
    },
    {
      "cell_type": "code",
      "execution_count": null,
      "metadata": {
        "id": "Uml2aPdost0i"
      },
      "outputs": [],
      "source": [
        "try:\n",
        "  Q9ANS.to_csv(f'Q9ANS_{MyID}.csv')\n",
        "  files.download(f'Q9ANS_{MyID}.csv')\n",
        "except:\n",
        "  pass\n",
        "\n",
        "time.sleep(1)"
      ]
    },
    {
      "cell_type": "code",
      "execution_count": null,
      "metadata": {
        "id": "9ncWo0vVswl3"
      },
      "outputs": [],
      "source": [
        "try:\n",
        "  Q10ANS.to_csv(f'Q10ANS_{MyID}.csv')\n",
        "  files.download(f'Q10ANS_{MyID}.csv')\n",
        "except:\n",
        "  pass\n",
        "\n",
        "time.sleep(1)"
      ]
    },
    {
      "cell_type": "code",
      "execution_count": null,
      "metadata": {
        "id": "6rHeninzsytB"
      },
      "outputs": [],
      "source": [
        "try:\n",
        "  Q11ANS.to_csv(f'Q11ANS_{MyID}.csv')\n",
        "  files.download(f'Q11ANS_{MyID}.csv')\n",
        "except:\n",
        "  pass\n",
        "\n",
        "time.sleep(1)"
      ]
    },
    {
      "cell_type": "code",
      "execution_count": null,
      "metadata": {
        "id": "mI1E8mmas1yU"
      },
      "outputs": [],
      "source": [
        "try:\n",
        "  Q12ANS.to_csv(f'Q12ANS_{MyID}.csv')\n",
        "  files.download(f'Q12ANS_{MyID}.csv')\n",
        "except:\n",
        "  pass\n",
        "\n",
        "time.sleep(1)"
      ]
    }
  ],
  "metadata": {
    "colab": {
      "provenance": []
    },
    "kernelspec": {
      "display_name": "Python 3",
      "name": "python3"
    },
    "language_info": {
      "codemirror_mode": {
        "name": "ipython",
        "version": 3
      },
      "file_extension": ".py",
      "mimetype": "text/x-python",
      "name": "python",
      "nbconvert_exporter": "python",
      "pygments_lexer": "ipython3",
      "version": "3.12.6"
    }
  },
  "nbformat": 4,
  "nbformat_minor": 0
}
