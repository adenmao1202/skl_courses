{
 "cells": [
  {
   "cell_type": "markdown",
   "metadata": {},
   "source": [
    "# Financial Derivatives Homework 2\n",
    "In this assignment, you will have to answer questions by adding codes or markdowns in the cells provided."
   ]
  },
  {
   "cell_type": "markdown",
   "metadata": {},
   "source": [
    "## Question 1: negative oil prices [10 points]\n",
    "From the class, we learn that the theoretical lower bound for commodity forward price is:\n",
    "\n",
    "$ F_{0,T} = S_{0}e ^{(r-l)T} $\n",
    "\n",
    "Based on the formula above, it is hard to imagine a negative commodity forward price.\n",
    "\n",
    "However, amid the outbreak of the Covid-19, we observed negative prices in the crude oil futures market. \n",
    "\n",
    "Please watch the following CNBC video about the event:"
   ]
  },
  {
   "cell_type": "code",
   "execution_count": 1,
   "metadata": {},
   "outputs": [],
   "source": [
    "# from IPython.display import YouTubeVideo\n",
    "# YouTubeVideo('TaIwHiW2ggI', width=800, height=600)"
   ]
  },
  {
   "cell_type": "markdown",
   "metadata": {},
   "source": [
    "Explain why crude oil futures prices can become negative:"
   ]
  },
  {
   "cell_type": "markdown",
   "metadata": {},
   "source": [
    "###### please type your answer below: #####\n",
    "Crude oil futures prices can become negative due to a combination of factors that affect supply, demand, and storage capacity:\n",
    "\n",
    "1. Collapse in Demand Due to the Pandemic: \n",
    "The COVID-19 pandemic caused a massive drop in global oil demand. As economies shut down, transportation halted, and industrial activity slowed, oil consumption plummeted by up to 30%, creating an unprecedented oversupply in the market. With fewer buyers, oil producers were left with excess oil that no one needed. \n",
    "\n",
    "2. Futures Contracts and Storage Limitations: \n",
    "Oil is traded in both physical and financial markets, and futures contracts obligate buyers to take delivery of the oil on a specific date. \n",
    "As the delivery date approached in April 2020, traders holding West Texas Intermediate (WTI) crude oil contracts realized there was no available storage space, particularly at the key hub in Cushing, Oklahoma, which was already 70% full. \n",
    "\n",
    "3. Costs of Holding Oil Without Storage: \n",
    "With storage facilities full and demand low, traders faced the challenge of physically receiving oil they could not store. This led to a sell-off, where traders were willing to pay others to take the oil off their hands, resulting in negative prices. \n",
    "The costs associated with storing or even transporting oil made it economically preferable for sellers to pay buyers to take the contracts. \n",
    "\n",
    "4. Geopolitical and Supply Factors: \n",
    "The situation was further exacerbated by a price war between Saudi Arabia and Russia in March 2020, which led to steady supply levels despite plummeting demand. \n",
    "The lack of coordinated supply cuts worsened the oversupply, as producers kept output steady in a bid to maintain market share, even as demand collapsed. \n",
    "\n",
    "5. Financial Market Dynamics: \n",
    "Futures contracts are tightly connected to the physical oil market, and traders holding WTI contracts at the time of negative prices were forced to exit their positions. \n",
    "Normally, these contracts would be sold to other buyers, but in April 2020, there were no buyers due to the storage crisis, leading to an unprecedented crash into negative territory. \n",
    "\n",
    "To summarize, crude oil futures prices became negative because of a rare combination of collapsing demand, lack of storage capacity, and financial pressure on futures contract holders. \n",
    "This forced traders to pay others to take their oil contracts, as storing the physical commodity became impossible under those conditions.\n",
    "\n"
   ]
  },
  {
   "cell_type": "markdown",
   "metadata": {},
   "source": [
    "## Question 2: strike prices and option trading volume [20 points]\n",
    "With the help of the yfinance package, download the option data for MSFT with any maturity date of a living contract. \n",
    "\n",
    "After you execute the code below, you will see all the available option data at different dates to maturity."
   ]
  },
  {
   "cell_type": "code",
   "execution_count": 3,
   "metadata": {},
   "outputs": [
    {
     "data": {
      "text/plain": [
       "('2024-11-01',\n",
       " '2024-11-08',\n",
       " '2024-11-15',\n",
       " '2024-11-22',\n",
       " '2024-11-29',\n",
       " '2024-12-06',\n",
       " '2024-12-20',\n",
       " '2025-01-17',\n",
       " '2025-02-21',\n",
       " '2025-03-21',\n",
       " '2025-04-17',\n",
       " '2025-05-16',\n",
       " '2025-06-20',\n",
       " '2025-08-15',\n",
       " '2025-09-19',\n",
       " '2025-12-19',\n",
       " '2026-01-16',\n",
       " '2026-06-18',\n",
       " '2026-12-18',\n",
       " '2027-01-15')"
      ]
     },
     "execution_count": 3,
     "metadata": {},
     "output_type": "execute_result"
    }
   ],
   "source": [
    "import yfinance as yf\n",
    "stock = yf.Ticker(\"MSFT\")\n",
    "stock.options\n"
   ]
  },
  {
   "cell_type": "code",
   "execution_count": 4,
   "metadata": {},
   "outputs": [
    {
     "name": "stdout",
     "output_type": "stream",
     "text": [
      "['__class__', '__delattr__', '__dict__', '__dir__', '__doc__', '__eq__', '__format__', '__ge__', '__getattribute__', '__getstate__', '__gt__', '__hash__', '__init__', '__init_subclass__', '__le__', '__lt__', '__module__', '__ne__', '__new__', '__reduce__', '__reduce_ex__', '__repr__', '__setattr__', '__sizeof__', '__str__', '__subclasshook__', '__weakref__', '_analysis', '_data', '_download_options', '_earnings', '_earnings_dates', '_expirations', '_fast_info', '_fetch_ticker_tz', '_financials', '_fundamentals', '_get_ticker_tz', '_holders', '_isin', '_lazy_load_price_history', '_news', '_options2df', '_price_history', '_quote', '_shares', '_tz', '_underlying', 'actions', 'analyst_price_target', 'balance_sheet', 'balancesheet', 'basic_info', 'calendar', 'capital_gains', 'cash_flow', 'cashflow', 'dividends', 'earnings', 'earnings_dates', 'earnings_forecasts', 'earnings_trend', 'fast_info', 'financials', 'get_actions', 'get_analyst_price_target', 'get_balance_sheet', 'get_balancesheet', 'get_calendar', 'get_capital_gains', 'get_cash_flow', 'get_cashflow', 'get_dividends', 'get_earnings', 'get_earnings_dates', 'get_earnings_forecast', 'get_earnings_trend', 'get_fast_info', 'get_financials', 'get_history_metadata', 'get_income_stmt', 'get_incomestmt', 'get_info', 'get_insider_purchases', 'get_insider_roster_holders', 'get_insider_transactions', 'get_institutional_holders', 'get_isin', 'get_major_holders', 'get_mutualfund_holders', 'get_news', 'get_recommendations', 'get_recommendations_summary', 'get_rev_forecast', 'get_shares', 'get_shares_full', 'get_splits', 'get_sustainability', 'get_trend_details', 'get_upgrades_downgrades', 'history', 'history_metadata', 'income_stmt', 'incomestmt', 'info', 'insider_purchases', 'insider_roster_holders', 'insider_transactions', 'institutional_holders', 'isin', 'major_holders', 'mutualfund_holders', 'news', 'option_chain', 'options', 'proxy', 'quarterly_balance_sheet', 'quarterly_balancesheet', 'quarterly_cash_flow', 'quarterly_cashflow', 'quarterly_earnings', 'quarterly_financials', 'quarterly_income_stmt', 'quarterly_incomestmt', 'recommendations', 'recommendations_summary', 'revenue_forecasts', 'session', 'shares', 'splits', 'sustainability', 'ticker', 'trend_details', 'upgrades_downgrades']\n"
     ]
    }
   ],
   "source": [
    "print(dir(stock))"
   ]
  },
  {
   "cell_type": "markdown",
   "metadata": {},
   "source": [
    "To view the option data for call options, we can run the following code:\n",
    "\n",
    "Hint: you can use the dir() function to view all the attributes inside the \"stock\" dataframe."
   ]
  },
  {
   "cell_type": "code",
   "execution_count": 5,
   "metadata": {},
   "outputs": [
    {
     "data": {
      "text/html": [
       "<div>\n",
       "<style scoped>\n",
       "    .dataframe tbody tr th:only-of-type {\n",
       "        vertical-align: middle;\n",
       "    }\n",
       "\n",
       "    .dataframe tbody tr th {\n",
       "        vertical-align: top;\n",
       "    }\n",
       "\n",
       "    .dataframe thead th {\n",
       "        text-align: right;\n",
       "    }\n",
       "</style>\n",
       "<table border=\"1\" class=\"dataframe\">\n",
       "  <thead>\n",
       "    <tr style=\"text-align: right;\">\n",
       "      <th></th>\n",
       "      <th>contractSymbol</th>\n",
       "      <th>lastTradeDate</th>\n",
       "      <th>strike</th>\n",
       "      <th>lastPrice</th>\n",
       "      <th>bid</th>\n",
       "      <th>ask</th>\n",
       "      <th>change</th>\n",
       "      <th>percentChange</th>\n",
       "      <th>volume</th>\n",
       "      <th>openInterest</th>\n",
       "      <th>impliedVolatility</th>\n",
       "      <th>inTheMoney</th>\n",
       "      <th>contractSize</th>\n",
       "      <th>currency</th>\n",
       "    </tr>\n",
       "  </thead>\n",
       "  <tbody>\n",
       "    <tr>\n",
       "      <th>0</th>\n",
       "      <td>MSFT241108C00230000</td>\n",
       "      <td>2024-10-24 13:46:11+00:00</td>\n",
       "      <td>230.0</td>\n",
       "      <td>194.82</td>\n",
       "      <td>0.0</td>\n",
       "      <td>0.0</td>\n",
       "      <td>0.0</td>\n",
       "      <td>0.0</td>\n",
       "      <td>NaN</td>\n",
       "      <td>0</td>\n",
       "      <td>0.00001</td>\n",
       "      <td>True</td>\n",
       "      <td>REGULAR</td>\n",
       "      <td>USD</td>\n",
       "    </tr>\n",
       "    <tr>\n",
       "      <th>1</th>\n",
       "      <td>MSFT241108C00270000</td>\n",
       "      <td>2024-10-21 13:30:04+00:00</td>\n",
       "      <td>270.0</td>\n",
       "      <td>147.47</td>\n",
       "      <td>0.0</td>\n",
       "      <td>0.0</td>\n",
       "      <td>0.0</td>\n",
       "      <td>0.0</td>\n",
       "      <td>1.0</td>\n",
       "      <td>0</td>\n",
       "      <td>0.00001</td>\n",
       "      <td>True</td>\n",
       "      <td>REGULAR</td>\n",
       "      <td>USD</td>\n",
       "    </tr>\n",
       "    <tr>\n",
       "      <th>2</th>\n",
       "      <td>MSFT241108C00285000</td>\n",
       "      <td>2024-10-18 14:39:32+00:00</td>\n",
       "      <td>285.0</td>\n",
       "      <td>132.84</td>\n",
       "      <td>0.0</td>\n",
       "      <td>0.0</td>\n",
       "      <td>0.0</td>\n",
       "      <td>0.0</td>\n",
       "      <td>6.0</td>\n",
       "      <td>0</td>\n",
       "      <td>0.00001</td>\n",
       "      <td>True</td>\n",
       "      <td>REGULAR</td>\n",
       "      <td>USD</td>\n",
       "    </tr>\n",
       "    <tr>\n",
       "      <th>3</th>\n",
       "      <td>MSFT241108C00290000</td>\n",
       "      <td>2024-10-18 14:39:32+00:00</td>\n",
       "      <td>290.0</td>\n",
       "      <td>127.86</td>\n",
       "      <td>0.0</td>\n",
       "      <td>0.0</td>\n",
       "      <td>0.0</td>\n",
       "      <td>0.0</td>\n",
       "      <td>6.0</td>\n",
       "      <td>0</td>\n",
       "      <td>0.00001</td>\n",
       "      <td>True</td>\n",
       "      <td>REGULAR</td>\n",
       "      <td>USD</td>\n",
       "    </tr>\n",
       "    <tr>\n",
       "      <th>4</th>\n",
       "      <td>MSFT241108C00295000</td>\n",
       "      <td>2024-10-18 14:39:32+00:00</td>\n",
       "      <td>295.0</td>\n",
       "      <td>122.88</td>\n",
       "      <td>0.0</td>\n",
       "      <td>0.0</td>\n",
       "      <td>0.0</td>\n",
       "      <td>0.0</td>\n",
       "      <td>6.0</td>\n",
       "      <td>0</td>\n",
       "      <td>0.00001</td>\n",
       "      <td>True</td>\n",
       "      <td>REGULAR</td>\n",
       "      <td>USD</td>\n",
       "    </tr>\n",
       "  </tbody>\n",
       "</table>\n",
       "</div>"
      ],
      "text/plain": [
       "        contractSymbol             lastTradeDate  strike  lastPrice  bid  ask  \\\n",
       "0  MSFT241108C00230000 2024-10-24 13:46:11+00:00   230.0     194.82  0.0  0.0   \n",
       "1  MSFT241108C00270000 2024-10-21 13:30:04+00:00   270.0     147.47  0.0  0.0   \n",
       "2  MSFT241108C00285000 2024-10-18 14:39:32+00:00   285.0     132.84  0.0  0.0   \n",
       "3  MSFT241108C00290000 2024-10-18 14:39:32+00:00   290.0     127.86  0.0  0.0   \n",
       "4  MSFT241108C00295000 2024-10-18 14:39:32+00:00   295.0     122.88  0.0  0.0   \n",
       "\n",
       "   change  percentChange  volume  openInterest  impliedVolatility  inTheMoney  \\\n",
       "0     0.0            0.0     NaN             0            0.00001        True   \n",
       "1     0.0            0.0     1.0             0            0.00001        True   \n",
       "2     0.0            0.0     6.0             0            0.00001        True   \n",
       "3     0.0            0.0     6.0             0            0.00001        True   \n",
       "4     0.0            0.0     6.0             0            0.00001        True   \n",
       "\n",
       "  contractSize currency  \n",
       "0      REGULAR      USD  \n",
       "1      REGULAR      USD  \n",
       "2      REGULAR      USD  \n",
       "3      REGULAR      USD  \n",
       "4      REGULAR      USD  "
      ]
     },
     "execution_count": 5,
     "metadata": {},
     "output_type": "execute_result"
    }
   ],
   "source": [
    "# here I selected the third maturity within the stock.options, you can use others\n",
    "\n",
    "df = stock.option_chain(stock.options[1])\n",
    "df.calls.head()"
   ]
  },
  {
   "cell_type": "code",
   "execution_count": 6,
   "metadata": {},
   "outputs": [
    {
     "data": {
      "text/html": [
       "<div>\n",
       "<style scoped>\n",
       "    .dataframe tbody tr th:only-of-type {\n",
       "        vertical-align: middle;\n",
       "    }\n",
       "\n",
       "    .dataframe tbody tr th {\n",
       "        vertical-align: top;\n",
       "    }\n",
       "\n",
       "    .dataframe thead th {\n",
       "        text-align: right;\n",
       "    }\n",
       "</style>\n",
       "<table border=\"1\" class=\"dataframe\">\n",
       "  <thead>\n",
       "    <tr style=\"text-align: right;\">\n",
       "      <th></th>\n",
       "      <th>contractSymbol</th>\n",
       "      <th>lastTradeDate</th>\n",
       "      <th>strike</th>\n",
       "      <th>lastPrice</th>\n",
       "      <th>bid</th>\n",
       "      <th>ask</th>\n",
       "      <th>change</th>\n",
       "      <th>percentChange</th>\n",
       "      <th>volume</th>\n",
       "      <th>openInterest</th>\n",
       "      <th>impliedVolatility</th>\n",
       "      <th>inTheMoney</th>\n",
       "      <th>contractSize</th>\n",
       "      <th>currency</th>\n",
       "    </tr>\n",
       "  </thead>\n",
       "  <tbody>\n",
       "    <tr>\n",
       "      <th>0</th>\n",
       "      <td>MSFT241108P00230000</td>\n",
       "      <td>2024-10-29 15:07:20+00:00</td>\n",
       "      <td>230.0</td>\n",
       "      <td>0.01</td>\n",
       "      <td>0.0</td>\n",
       "      <td>0.0</td>\n",
       "      <td>0.0</td>\n",
       "      <td>0.0</td>\n",
       "      <td>1.0</td>\n",
       "      <td>0</td>\n",
       "      <td>0.500005</td>\n",
       "      <td>False</td>\n",
       "      <td>REGULAR</td>\n",
       "      <td>USD</td>\n",
       "    </tr>\n",
       "    <tr>\n",
       "      <th>1</th>\n",
       "      <td>MSFT241108P00250000</td>\n",
       "      <td>2024-10-15 16:04:17+00:00</td>\n",
       "      <td>250.0</td>\n",
       "      <td>0.03</td>\n",
       "      <td>0.0</td>\n",
       "      <td>0.0</td>\n",
       "      <td>0.0</td>\n",
       "      <td>0.0</td>\n",
       "      <td>NaN</td>\n",
       "      <td>0</td>\n",
       "      <td>0.500005</td>\n",
       "      <td>False</td>\n",
       "      <td>REGULAR</td>\n",
       "      <td>USD</td>\n",
       "    </tr>\n",
       "    <tr>\n",
       "      <th>2</th>\n",
       "      <td>MSFT241108P00260000</td>\n",
       "      <td>2024-10-14 19:54:37+00:00</td>\n",
       "      <td>260.0</td>\n",
       "      <td>0.02</td>\n",
       "      <td>0.0</td>\n",
       "      <td>0.0</td>\n",
       "      <td>0.0</td>\n",
       "      <td>0.0</td>\n",
       "      <td>NaN</td>\n",
       "      <td>0</td>\n",
       "      <td>0.500005</td>\n",
       "      <td>False</td>\n",
       "      <td>REGULAR</td>\n",
       "      <td>USD</td>\n",
       "    </tr>\n",
       "    <tr>\n",
       "      <th>3</th>\n",
       "      <td>MSFT241108P00280000</td>\n",
       "      <td>2024-10-29 17:03:07+00:00</td>\n",
       "      <td>280.0</td>\n",
       "      <td>0.02</td>\n",
       "      <td>0.0</td>\n",
       "      <td>0.0</td>\n",
       "      <td>0.0</td>\n",
       "      <td>0.0</td>\n",
       "      <td>1.0</td>\n",
       "      <td>0</td>\n",
       "      <td>0.500005</td>\n",
       "      <td>False</td>\n",
       "      <td>REGULAR</td>\n",
       "      <td>USD</td>\n",
       "    </tr>\n",
       "    <tr>\n",
       "      <th>4</th>\n",
       "      <td>MSFT241108P00285000</td>\n",
       "      <td>2024-10-18 14:39:32+00:00</td>\n",
       "      <td>285.0</td>\n",
       "      <td>0.04</td>\n",
       "      <td>0.0</td>\n",
       "      <td>0.0</td>\n",
       "      <td>0.0</td>\n",
       "      <td>0.0</td>\n",
       "      <td>3.0</td>\n",
       "      <td>0</td>\n",
       "      <td>0.500005</td>\n",
       "      <td>False</td>\n",
       "      <td>REGULAR</td>\n",
       "      <td>USD</td>\n",
       "    </tr>\n",
       "  </tbody>\n",
       "</table>\n",
       "</div>"
      ],
      "text/plain": [
       "        contractSymbol             lastTradeDate  strike  lastPrice  bid  ask  \\\n",
       "0  MSFT241108P00230000 2024-10-29 15:07:20+00:00   230.0       0.01  0.0  0.0   \n",
       "1  MSFT241108P00250000 2024-10-15 16:04:17+00:00   250.0       0.03  0.0  0.0   \n",
       "2  MSFT241108P00260000 2024-10-14 19:54:37+00:00   260.0       0.02  0.0  0.0   \n",
       "3  MSFT241108P00280000 2024-10-29 17:03:07+00:00   280.0       0.02  0.0  0.0   \n",
       "4  MSFT241108P00285000 2024-10-18 14:39:32+00:00   285.0       0.04  0.0  0.0   \n",
       "\n",
       "   change  percentChange  volume  openInterest  impliedVolatility  inTheMoney  \\\n",
       "0     0.0            0.0     1.0             0           0.500005       False   \n",
       "1     0.0            0.0     NaN             0           0.500005       False   \n",
       "2     0.0            0.0     NaN             0           0.500005       False   \n",
       "3     0.0            0.0     1.0             0           0.500005       False   \n",
       "4     0.0            0.0     3.0             0           0.500005       False   \n",
       "\n",
       "  contractSize currency  \n",
       "0      REGULAR      USD  \n",
       "1      REGULAR      USD  \n",
       "2      REGULAR      USD  \n",
       "3      REGULAR      USD  \n",
       "4      REGULAR      USD  "
      ]
     },
     "execution_count": 6,
     "metadata": {},
     "output_type": "execute_result"
    }
   ],
   "source": [
    "df.puts.head()"
   ]
  },
  {
   "cell_type": "markdown",
   "metadata": {},
   "source": [
    "### Q2a). Using the matplotlib package, plot the option trading volumes for both calls and puts at different strike prices. [15 points] \n",
    "\n",
    "For a quick tutorial on plotting a bar chart, visit https://www.tutorialspoint.com/matplotlib/matplotlib_bar_plot.htm. "
   ]
  },
  {
   "cell_type": "code",
   "execution_count": 12,
   "metadata": {},
   "outputs": [
    {
     "data": {
      "image/png": "[encoded data removed]",
      "text/plain": [
       "<Figure size 1000x600 with 1 Axes>"
      ]
     },
     "metadata": {},
     "output_type": "display_data"
    }
   ],
   "source": [
    "import yfinance as yf\n",
    "import matplotlib.pyplot as plt\n",
    "import numpy as np\n",
    "\n",
    "# Get Microsoft stock data\n",
    "stock = yf.Ticker(\"MSFT\")\n",
    "\n",
    "# Select the third maturity option chain\n",
    "df = stock.option_chain(stock.options[2])\n",
    "\n",
    "# Extract calls and puts\n",
    "calls = df.calls\n",
    "puts = df.puts\n",
    "\n",
    "# Set up figure\n",
    "plt.figure(figsize=(10, 6))\n",
    "\n",
    "# Set a small offset for the strike prices to prevent overlap\n",
    "offset = 0.5\n",
    "\n",
    "# Plot call and put volumes side by side\n",
    "plt.bar(calls['strike'] - offset, calls['volume'], width=1.0, label='Call Volume', color='orange', alpha=0.7)\n",
    "plt.bar(puts['strike'] + offset, puts['volume'], width=1.0, label='Put Volume', color='purple', alpha=0.7)\n",
    "\n",
    "# Add labels and title\n",
    "plt.xlabel('Strike Price')\n",
    "plt.ylabel('Volume')\n",
    "plt.title('Option Trading Volumes for Calls and Puts at Different Strike Prices')\n",
    "\n",
    "# Add legend\n",
    "plt.legend()\n",
    "\n",
    "# Display grid\n",
    "plt.grid(True)\n",
    "\n",
    "# Set x and y axis limits\n",
    "plt.xlim(300, 550)\n",
    "plt.ylim(0, 7000)\n",
    "\n",
    "# Show the plot\n",
    "plt.tight_layout()\n",
    "plt.show()\n"
   ]
  },
  {
   "cell_type": "markdown",
   "metadata": {},
   "source": [
    "A sample output is provided below:\n",
    "(You won't get exactly the same picture as trading volumes change over time)\n",
    "\n",
    "<img src=\"option_volume.png\" style=\"width: 800px;\">"
   ]
  },
  {
   "cell_type": "markdown",
   "metadata": {},
   "source": [
    "### Q2b). In the cell below, discuss the relationship between the strike price (moneyness of the option) and the option trading volume. [5 points]"
   ]
  },
  {
   "cell_type": "markdown",
   "metadata": {},
   "source": [
    "###### please type your answer below: #####\n",
    "1. Concentration of Volume: \n",
    "   - The call option trading volumes are significantly higher at strike prices close to $400. This indicates a high level of trading interest around this strike price.\n",
    "   - The put option trading volume, though much smaller in comparison, also shows some concentration near the same strike prices.\n",
    "   \n",
    "2. Moneyness of the Option:\n",
    "   - **ATM** options (strike prices close to the current stock price, which seems to be around $400 judging by the plot) typically have the highest volume.\n",
    "   This is because these options are more sensitive to small changes in the underlying stock price, making them popular for traders looking to profit from short-term movements.\n",
    "\n",
    "   - **OTM** options, such as calls with higher strike prices (e.g., $450 and beyond), see much lower volume. \n",
    "   This is expected, as OTM options are less likely to be exercised unless there is a significant movement in the stock price.\n",
    "   \n",
    "   - **ITM** options, which are those with strike prices lower than the current stock price (for calls) or higher for puts, also see relatively lower trading volumes compared to ATM options.\n",
    "\n",
    "3. Asymmetry between Calls and Puts:\n",
    "   - There is a clear dominance of call volume over put volume, especially near the $400 strike price. This might reflect a bullish sentiment in the market, with more traders betting that the stock will rise in price. \n",
    "   - The put volumes are generally low across the range of strike prices, which suggests that fewer traders are hedging against potential declines in the stock price, or that there is less demand for protective puts."
   ]
  },
  {
   "cell_type": "markdown",
   "metadata": {},
   "source": [
    "## Question 3: put-call parity for American options [20 points]\n",
    "From the lecture, we know that the following put-call parity holds for European options:\n",
    "\n",
    "$ C_{E,t} + \\text{PV}(K) = P_{E,t} + S_{t} $\n",
    "\n",
    "For American options on non-dividend-paying assets, the put-call parity is given by:\n",
    "\n",
    "$ C_{A,t} + \\text{PV}(K) \\le P_{A,t} + S_t \\le C_{A,t} + K $\n",
    "\n",
    "To type mathematical forumula in JupyterLab, you need to use the dollar signs to surround your mathematical expression:\n",
    "\n",
    "$ \\$ \\text{ mathematical expression here } \\$ $\n",
    "\n",
    "You can double click this cell to see how to type $C_{E,t}$, $P_{E,t}$, and etc."
   ]
  },
  {
   "cell_type": "markdown",
   "metadata": {},
   "source": [
    "### Q3a). In the cell below, show that: [10 points]\n",
    "$ C_{A,t} + \\text{PV}(K) \\le P_{A,t} + S_t $\n",
    "\n",
    "Hint: Theoretically, the price of an American call option on a non-dividend paying asset is the same as its European counterpart."
   ]
  },
  {
   "cell_type": "markdown",
   "metadata": {},
   "source": [
    "###### please type your answer below: #####\n",
    "\n",
    "- First, let's use the key hint: For non-dividend paying assets,\n",
    "$C_{A,t} = C_{E,t}$ (American call = European call)\n",
    "\n",
    "- We know from the European put-call parity:\n",
    "$C_{E,t} + PV(K) = P_{E,t} + S_t$\n",
    "Substituting $C_{A,t}$ for $C_{E,t}$ (from step 1):\n",
    "$C_{A,t} + PV(K) = P_{E,t} + S_t$\n",
    "\n",
    "- For American options, we know that:\n",
    "$P_{E,t} \\leq P_{A,t}$\n",
    "(American options are always worth at least as much as their European counterparts due to the early exercise feature)\n",
    "\n",
    "- Therefore:\n",
    "$C_{A,t} + PV(K) = P_{E,t} + S_t \\leq P_{A,t} + S_t$\n"
   ]
  },
  {
   "cell_type": "markdown",
   "metadata": {},
   "source": [
    "### Q3b). In the cell below, show that: [10 points] --> wrong \n",
    "$ P_{A,t} + S_t \\le C_{A,t} + K$\n",
    "\n",
    "Hint: You should form two portfolios:\n",
    "\n",
    "(A) Long one American call $C_{A,t}$ and invest $K$ at the risk-free rate.\n",
    "\n",
    "(B) Long one American put $P_{A,t}$ and buy one unit of stock.\n",
    "\n",
    "You should buy portfolio (A) and short portfolio (B). Compare the payoffs when:\n",
    "\n",
    "i. both portfolios are held until maturity;\n",
    "\n",
    "ii. the American put option is early exercised by its buyer.\n",
    "\n",
    "By showing positive payoffs under both scenarios, you can apply the no-arbitrage condition to deduce whether the inequality holds."
   ]
  },
  {
   "cell_type": "markdown",
   "metadata": {},
   "source": [
    "###### please type your answer below: #####\n",
    "\n",
    "\n",
    "\n",
    "Portfolio A: Long one American call ($C_{A,t}$) + Invest K at risk-free rate\n",
    "Cost at t: $C_{A,t} + PV(K)$\n",
    "- At maturity, K grows to K\n",
    "\n",
    "Portfolio B: Long one American put ($P_{A,t}$) + Long one stock ($S_t$)\n",
    "Cost at t: $P_{A,t} + S_t$\n",
    "\n",
    "Comparing payoffs in both scenarios:\n",
    "\n",
    "1) If held until maturity T:\n",
    "   - If $S_T \\geq K$:\n",
    "     * Portfolio A payoff: $(S_T - K) + K = S_T$\n",
    "     * Portfolio B payoff: $0 + S_T = S_T$\n",
    "   - If $S_T < K$:\n",
    "     * Portfolio A payoff: $0 + K = K$\n",
    "     * Portfolio B payoff: $(K - S_T) + S_T = K$\n",
    "   \n",
    "2) If put is early exercised at time τ (where t < τ < T):\n",
    "   - Portfolio A value: American call (still valuable) + K = value ≥ K\n",
    "   - Portfolio B payoff: $(K - S_τ) + S_τ = K$\n",
    "\n",
    "In both scenarios, Portfolio A's payoff is always greater than or equal to Portfolio B's payoff.\n",
    "\n",
    "By the no-arbitrage principle:\n",
    "- Initial cost of Portfolio A must be ≥ Initial cost of Portfolio B\n",
    "- Therefore: $C_{A,t} + K \\geq P_{A,t} + S_t$\n",
    "\n",
    "Thus, we have proven that:\n",
    "$P_{A,t} + S_t \\leq C_{A,t} + K$\n",
    "\n"
   ]
  },
  {
   "cell_type": "markdown",
   "metadata": {},
   "source": [
    "## Question 4: asymmetric butterfly spreads [20 points]\n",
    "\n",
    "Given three call options $C_{K_1,t}$, $C_{K_2,t}$, and $C_{K_3,t}$ where $K_1 < K_2 < K_3$, let's define:\n",
    "\n",
    "$ wK_{1} + (1-w)K_{3} = K_{2} $\n",
    "\n",
    "so:\n",
    "\n",
    "$ w = \\frac{K_3 - K_2}{K_3 - K_1} $\n",
    "\n",
    "We can construct an asymmetric butterfly spread by:\n",
    "\n",
    "i. buying $w$ units of $C_{K_1,t}$,\n",
    "\n",
    "ii. selling 1 unit of $C_{K_2,t}$, and\n",
    "\n",
    "iii. buying $1-w$ units of $C_{K_3,t}$.\n",
    "\n",
    "### Q4a). Fill in the following cash flows table: [15 points] "
   ]
  },
  {
   "cell_type": "code",
   "execution_count": 8,
   "metadata": {},
   "outputs": [
    {
     "data": {
      "text/html": [
       "<style> table {float:left} </style> # for left alignment of the table\n"
      ],
      "text/plain": [
       "<IPython.core.display.HTML object>"
      ]
     },
     "metadata": {},
     "output_type": "display_data"
    }
   ],
   "source": [
    "%%html\n",
    "<style> table {float:left} </style> # for left alignment of the table"
   ]
  },
  {
   "cell_type": "markdown",
   "metadata": {},
   "source": [
    "\n",
    "| $t$ | $S_T < K_1$ | $ K_1 \\le S_T < K_2 $ | $ K_2 \\le S_T < K_3 $ | $S_T > K_3$ \n",
    "| :- | :-: | :-: | :-: | :-: |\n",
    "| Buy $w$ units of $C_{K_1,t}$  | $ 0 $ | $ w(S_T - K_1) $ | $w(S_T - K_1) $ | $ w(S_T - K_1)$ |\n",
    "| Sell 1 of $C_{K_2,t}$  | $ 0 $ | $ 0 $ | $ (K_2 - S_T)$ | $ (K_2 - S_T)$ |\n",
    "| Buy $1-w$ units of $C_{K_3,t}$  | $ 0 $ | $ 0 $ | $ 0  $ | $ (1-w)(S_T - K_3)$ |\n",
    "| Net cash flows  | $ 0 $ | $w(S_T - K_1) $ | $w(S_T - K_1) + (K_2 - S_T) $ | $ w(S_T - K_1)+ (K_2 - S_T)+ (1-w)(S_T - K_3)$|\n"
   ]
  },
  {
   "cell_type": "markdown",
   "metadata": {},
   "source": [
    "### Q4b). Given your cash flows table in part a), state the no-arbitrage condition implied by the asymmetric butterfly spread: [5 points]  --> wrong "
   ]
  },
  {
   "cell_type": "markdown",
   "metadata": {},
   "source": [
    "###### please type your answer below: #####\n",
    "For initial investment (t=0):\n",
    "\n",
    "Cost = w×Price(CK₁) + (1-w)×Price(CK₃) - Price(CK₂)\n",
    "For no arbitrage, this cost must be ≥ 0\n",
    "\n",
    "\n",
    "Therefore:\n",
    "w×Price(CK₁) + (1-w)×Price(CK₃) ≥ Price(CK₂)"
   ]
  },
  {
   "cell_type": "markdown",
   "metadata": {},
   "source": [
    "## Question 5: zipper payoff [15 points]\n",
    "\n",
    "In this section, you have to first define the payoff function for a call option. By combining the payoffs of call options at different strike prices ranging from 1 to 9, plot the payoff diagram for a \"zipper\" strategy."
   ]
  },
  {
   "cell_type": "code",
   "execution_count": 2,
   "metadata": {},
   "outputs": [
    {
     "data": {
      "image/png": "[encoded data removed]",
      "text/plain": [
       "<Figure size 640x480 with 1 Axes>"
      ]
     },
     "metadata": {},
     "output_type": "display_data"
    }
   ],
   "source": [
    "import numpy as np\n",
    "import matplotlib.pyplot as plt\n",
    "\n",
    "# Define the range of stock prices\n",
    "stock_prices = np.linspace(0, 15, 100)  # from 0 to 15 with 100 points\n",
    "\n",
    "# Define the call payoff function\n",
    "def call_payoff(stock_prices, strike_price):\n",
    "    \"\"\"Calculate the payoff for a call option\"\"\"\n",
    "    return np.maximum(stock_prices - strike_price, 0)\n",
    "\n",
    "def zipper_payoff_with_calls(stock_prices):\n",
    "    # Define the strike prices\n",
    "    K1, K2, K3, K4, K5, K6 = 1, 2, 4, 6, 8, 9\n",
    "    \n",
    "    # Initialize payoff\n",
    "    payoff = np.zeros_like(stock_prices)\n",
    "    \n",
    "    # Short 1 call at K1\n",
    "    payoff -= call_payoff(stock_prices, K1)\n",
    "    \n",
    "    # Long 2 calls at K2\n",
    "    payoff += 2 * call_payoff(stock_prices, K2)\n",
    "    \n",
    "    # Short 2 calls at K3\n",
    "    payoff -= 2 * call_payoff(stock_prices, K3)\n",
    "    \n",
    "    # Long 2 calls at K4\n",
    "    payoff += 2 * call_payoff(stock_prices, K4)\n",
    "    \n",
    "    # Short 2 calls at K5\n",
    "    payoff -= 2 * call_payoff(stock_prices, K5)\n",
    "    \n",
    "    # Long 1 calls at K6\n",
    "    payoff += 1 * call_payoff(stock_prices, K6)\n",
    "    \n",
    "   \n",
    "    return payoff\n",
    "\n",
    "# Calculate the payoff based on the stock prices\n",
    "payoff_with_calls = zipper_payoff_with_calls(stock_prices)\n",
    "\n",
    "# Plot the payoff diagram using the adjusted logic\n",
    "plt.plot(stock_prices, payoff_with_calls, label=\"Zipper payoff with calls\", color=\"green\")\n",
    "plt.axhline(0, color='black', linestyle='--')\n",
    "plt.title(\"Zipper with Calls\")\n",
    "plt.ylim(-4, 4)\n",
    "plt.xlim(0, 10)\n",
    "plt.xlabel(\"Stock Price\")\n",
    "plt.ylabel(\"Payoff/Profit\")\n",
    "plt.legend()\n",
    "plt.show()\n"
   ]
  },
  {
   "cell_type": "markdown",
   "metadata": {},
   "source": [
    "The payoff diagram of a \"zipper\" strategy looks like:\n",
    "\n",
    "<img src=\"zipper.png\" style=\"width: 800px;\">"
   ]
  },
  {
   "cell_type": "markdown",
   "metadata": {},
   "source": [
    "## Question 6: binomial option pricing [15 points]"
   ]
  },
  {
   "cell_type": "markdown",
   "metadata": {},
   "source": [
    "Given the following information:\n",
    "\n",
    "$ S_{0} = \\$100 $\n",
    "\n",
    "$ u = 1.1 $\n",
    "\n",
    "$ d = 0.9 $\n",
    "\n",
    "$ r = 2\\% $\n",
    "\n",
    "$ K = \\$100 $\n",
    "\n",
    "$ T = 1 $\n",
    "\n",
    "### Q6a). Using discrete interest rate and 1 period binomial tree, please find $\\Delta$ (units of the stock) and $\\$B$ (amount of risk-free asset) that replicate the call option payoffs. [7.5 points]"
   ]
  },
  {
   "cell_type": "markdown",
   "metadata": {},
   "source": [
    "###### please type your answer below: #####\n",
    "-  $\\Delta$ * 1.1 * 100 + ( 1 + 0.02 ) B = 10\n",
    "-  $\\Delta$ * 0.9 * 100 + ( 1 + 0.02 ) B = 0 \n",
    "-  $\\Delta$ * 20 = 10 \n",
    "    - Hence, $\\Delta$ = 1/2 \n",
    "    - Also, B = -44.1176 \n",
    "\n",
    "- Co = 1/2 * S0 - 44.1176 = 5.8824 "
   ]
  },
  {
   "cell_type": "markdown",
   "metadata": {},
   "source": [
    "### Q6b). If this call option is currently trading at $\\$6.00$, please explain how to construct an arbitrage strategy and compute the arbitrage profit. [7.5 points]"
   ]
  },
  {
   "cell_type": "markdown",
   "metadata": {},
   "source": [
    "###### please type your answer below: #####\n",
    "- Since the theoretical price of the call is 5.8824, the current trading price is overvalued, we will earn arbitrage profit by selling the call option at 6 dollars and buying the replicating protfoliio at 5.8824. \n",
    "\n",
    "- The arbitrage profit is 0.1176 per unit traded. "
   ]
  }
 ],
 "metadata": {
  "kernelspec": {
   "display_name": "Python 3 (ipykernel)",
   "language": "python",
   "name": "python3"
  },
  "language_info": {
   "codemirror_mode": {
    "name": "ipython",
    "version": 3
   },
   "file_extension": ".py",
   "mimetype": "text/x-python",
   "name": "python",
   "nbconvert_exporter": "python",
   "pygments_lexer": "ipython3",
   "version": "3.12.6"
  }
 },
 "nbformat": 4,
 "nbformat_minor": 4
}
