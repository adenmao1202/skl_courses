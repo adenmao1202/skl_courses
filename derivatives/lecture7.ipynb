{
 "cells": [
  {
   "cell_type": "code",
   "execution_count": 3,
   "metadata": {},
   "outputs": [],
   "source": [
    "import numpy as np \n",
    "import math as m \n",
    "import timeit \n",
    "\n",
    "def CRR_Tree(S,v,n,T): \n",
    "    h = T/n    # time step\n",
    "    u = np.exp( v * np.sqrt(h))            # u = e ^ (v * sqrt(h)), v = volatility (sigma )\n",
    "    d = 1/u   \n",
    "    Tree = np.zeros((n+1, n+1))            # setup: n steps trees have n + 1 nodes \n",
    "    \n",
    "    for j in range(n+1):   # 分成幾個 step : columns\n",
    "        for i in range(j+1):  # 有幾個j就有幾個i  # i: # of down, j: # of total moves , j-i : # of up\n",
    "            Tree[i,j] = S * m.pow(d,i) * m.pow(u,j-i) \n",
    "    \n",
    "    print('n = ' + str(n) + ':\\n',np.matrix(np.round(Tree,2)))         \n",
    "    return Tree"
   ]
  },
  {
   "cell_type": "code",
   "execution_count": 4,
   "metadata": {},
   "outputs": [
    {
     "name": "stdout",
     "output_type": "stream",
     "text": [
      "n = 2:\n",
      " [[40.   49.45 61.14]\n",
      " [ 0.   32.35 40.  ]\n",
      " [ 0.    0.   26.17]]\n"
     ]
    }
   ],
   "source": [
    "S = 40\n",
    "v = 0.3\n",
    "n = 2\n",
    "T = 1 \n",
    "x = CRR_Tree(S,v,n,T)"
   ]
  },
  {
   "cell_type": "markdown",
   "metadata": {},
   "source": [
    "### Check "
   ]
  },
  {
   "cell_type": "code",
   "execution_count": 12,
   "metadata": {},
   "outputs": [
    {
     "data": {
      "text/plain": [
       "array([[0., 0., 0., 0., 0., 0.],\n",
       "       [0., 0., 0., 0., 0., 0.],\n",
       "       [0., 0., 0., 0., 0., 0.],\n",
       "       [0., 0., 0., 0., 0., 0.],\n",
       "       [0., 0., 0., 0., 0., 0.],\n",
       "       [0., 0., 0., 0., 0., 0.]])"
      ]
     },
     "execution_count": 12,
     "metadata": {},
     "output_type": "execute_result"
    }
   ],
   "source": [
    "h = T/n    # time step\n",
    "u = np.exp( v * np.sqrt(h))    # u = e ^ (v * sqrt(h))\n",
    "d = 1/u   \n",
    "\n",
    "Tree = np.zeros((n+1, n+1))   # setup: n steps trees have n + 1 nodes \n",
    "Tree"
   ]
  },
  {
   "cell_type": "code",
   "execution_count": 11,
   "metadata": {},
   "outputs": [],
   "source": [
    "# # i: # of down, j: # of total moves , j-i : # of up \n",
    "# import time \n",
    "\n",
    "# for j in range(n+1): \n",
    "#         for i in range(j+1): \n",
    "#             Tree[i,j] = S * m.pow(d,i) * m.pow(u,j-i) \n",
    "#                             # d**i * u**j-i\n",
    "#             print('n = ' + str(n) + ':\\n',np.matrix(np.round(Tree,2)))    \n",
    "#             time.sleep(1)     \n"
   ]
  },
  {
   "cell_type": "markdown",
   "metadata": {},
   "source": [
    "### Pricing European Call "
   ]
  },
  {
   "cell_type": "code",
   "execution_count": 8,
   "metadata": {},
   "outputs": [],
   "source": [
    "import numpy as np\n",
    "import math as m\n",
    "\n",
    "def BinoEuroCall(S, K, v, r, n, T):\n",
    "    # Calculate time step\n",
    "    h = T / n\n",
    "\n",
    "    # Calculate up and down factors\n",
    "    u = m.exp(v * np.sqrt(h))\n",
    "    d = 1 / u    # CRR assumption \n",
    "\n",
    "    # Calculate risk-neutral probability ( nomoral q )\n",
    "    q = (np.exp(r * h) - d) / (u - d)                  # q = R-d / (u-d)  or q = (e ^ (rh) - d) / u - d \n",
    "\n",
    "    \n",
    "    # CRR \n",
    "    Tree = np.zeros((n + 1, n + 1))    \n",
    "    for j in range(n + 1):\n",
    "        for i in range(j + 1):\n",
    "            Tree[i, j] = S * m.pow(d, i) * m.pow(u, j - i)\n",
    "\n",
    "    \n",
    "    \n",
    "    # Call Price Tree \n",
    "    Call = np.zeros((n + 1, n + 1))\n",
    "    \n",
    "    for j in range(n + 1, 0, -1):    # backward induction : from n+1 to 0\n",
    "        for i in range(j):  \n",
    "            \n",
    "            if j == n + 1:   # when j = n+1, we're at T. calculate terminal payoff  # a specific node \n",
    "                # At maturity, payoff is max(Tree - K, 0)\n",
    "                Call[i, j - 1] = max(Tree[i, j - 1] - K, 0)   \n",
    "            else:\n",
    "                # Discounted expected value for intermediate nodes\n",
    "                Call[i, j - 1] = np.exp(-r * h) * (q * Call[i, j] + (1 - q) * Call[i + 1, j])  # i : num of downs \n",
    "\n",
    "    # Print stock price tree and option value tree\n",
    "    print('Stock Price Tree (n = ' + str(n) + '):\\n', np.matrix(np.round(Tree, 2)))\n",
    "    print('-------------------------------------------')\n",
    "    print('Option Value Tree (n = ' + str(n) + '):\\n', np.matrix(np.round(Call, 2)))\n",
    "\n",
    "    \n",
    "    # result \n",
    "    return Call[0, 0]\n"
   ]
  },
  {
   "cell_type": "code",
   "execution_count": 9,
   "metadata": {},
   "outputs": [
    {
     "name": "stdout",
     "output_type": "stream",
     "text": [
      "Stock Price Tree (n = 2):\n",
      " [[40.   49.45 61.14]\n",
      " [ 0.   32.35 40.  ]\n",
      " [ 0.    0.   26.17]]\n",
      "-------------------------------------------\n",
      "Option Value Tree (n = 2):\n",
      " [[ 5.75 11.02 21.14]\n",
      " [ 0.    0.    0.  ]\n",
      " [ 0.    0.    0.  ]]\n",
      "The binomial European call price is 5.745862\n"
     ]
    }
   ],
   "source": [
    "S = 40\n",
    "K = 40 \n",
    "r = 0.08 \n",
    "v = 0.3 \n",
    "T = 1 \n",
    "n = 2 \n",
    "cp = BinoEuroCall(S,K,v,r,n,T) \n",
    "print('The binomial European call price is ' + str(round(cp,6)))   # change the rounding to see more decimal "
   ]
  },
  {
   "cell_type": "code",
   "execution_count": 10,
   "metadata": {},
   "outputs": [],
   "source": [
    "# # just for visualization\n",
    "\n",
    "\n",
    "# h = T / n\n",
    "# u = np.exp(v * np.sqrt(h))\n",
    "# d = 1 / u\n",
    "# q = (np.exp(r * h) - d) / (u - d)   \n",
    "\n",
    "# Tree = np.zeros((n + 1, n + 1))     \n",
    "# for j in range(n + 1):\n",
    "#     for i in range(j + 1):\n",
    "#         Tree[i, j] = S * m.pow(d, i) * m.pow(u, j - i)\n",
    "\n",
    "# Call = np.zeros((n + 1, n + 1))\n",
    "\n",
    "# for j in range(n + 1, 0, -1):    \n",
    "#         for i in range(j):\n",
    "            \n",
    "#             if j == n + 1:   \n",
    "#                 Call[i, j - 1] = max(Tree[i, j - 1] - K, 0)  \n",
    "            \n",
    "#             else:\n",
    "#                 Call[i, j - 1] = m.exp(-r * h) * (q * Call[i, j] + (1 - q) * Call[i + 1, j])  # i: number of downs \n",
    "            \n",
    "#             print('n = ' + str(n) + '):\\n', np.matrix(np.round(Call, 2))) \n",
    "#             time.sleep(1)\n",
    "            "
   ]
  },
  {
   "cell_type": "markdown",
   "metadata": {},
   "source": [
    "### European Put "
   ]
  },
  {
   "cell_type": "code",
   "execution_count": 38,
   "metadata": {},
   "outputs": [],
   "source": [
    "import numpy as np\n",
    "import math as m\n",
    "\n",
    "def BinoEuroPut(S, K, v, r, n, T):\n",
    "    ### Underlying asset tree \n",
    "    h = T / n\n",
    "\n",
    "    u = np.exp(v * np.sqrt(h))\n",
    "    d = 1 / u\n",
    "    q = (m.exp(r * h) - d) / (u - d)   \n",
    "\n",
    "    Tree = np.zeros((n + 1, n + 1))     ## CRR tree reamins the same \n",
    "    \n",
    "    for j in range(n + 1):\n",
    "        for i in range(j + 1):\n",
    "            Tree[i, j] = S * m.pow(d, i) * m.pow(u, j - i)\n",
    "\n",
    "    \n",
    "    \n",
    "    ### Put Tree \n",
    "    Put = np.zeros((n + 1, n + 1))\n",
    "    \n",
    "    for j in range(n + 1, 0, -1):    \n",
    "        for i in range(j):\n",
    "            \n",
    "            if j == n + 1:   \n",
    "                Put[i, j - 1] = max(K - Tree[i, j - 1], 0)   # Put : max(K - St, 0 ) \n",
    "            else:\n",
    "                Put[i, j - 1] = m.exp(-r * h) * (q * Put[i, j] + (1 - q) * Put[i + 1, j])  # i : number of downs \n",
    "\n",
    "    # Print stock price tree and option value tree\n",
    "    print('Stock Price Tree (n = ' + str(n) + '):\\n', np.matrix(np.round(Tree, 2)))\n",
    "    print('-------------------------------------------')\n",
    "    print('Option Value Tree (n = ' + str(n) + '):\\n', np.matrix(np.round(Put, 2)))\n",
    "\n",
    "    \n",
    "    # result \n",
    "    return Put[0, 0]\n"
   ]
  },
  {
   "cell_type": "code",
   "execution_count": 40,
   "metadata": {},
   "outputs": [
    {
     "name": "stdout",
     "output_type": "stream",
     "text": [
      "Stock Price Tree (n = 10):\n",
      " [[ 97.   103.73 110.93 118.62 126.85 135.66 145.07 155.13 165.9  177.41\n",
      "  189.72]\n",
      " [  0.    90.71  97.   103.73 110.93 118.62 126.85 135.66 145.07 155.13\n",
      "  165.9 ]\n",
      " [  0.     0.    84.82  90.71  97.   103.73 110.93 118.62 126.85 135.66\n",
      "  145.07]\n",
      " [  0.     0.     0.    79.32  84.82  90.71  97.   103.73 110.93 118.62\n",
      "  126.85]\n",
      " [  0.     0.     0.     0.    74.17  79.32  84.82  90.71  97.   103.73\n",
      "  110.93]\n",
      " [  0.     0.     0.     0.     0.    69.36  74.17  79.32  84.82  90.71\n",
      "   97.  ]\n",
      " [  0.     0.     0.     0.     0.     0.    64.86  69.36  74.17  79.32\n",
      "   84.82]\n",
      " [  0.     0.     0.     0.     0.     0.     0.    60.65  64.86  69.36\n",
      "   74.17]\n",
      " [  0.     0.     0.     0.     0.     0.     0.     0.    56.72  60.65\n",
      "   64.86]\n",
      " [  0.     0.     0.     0.     0.     0.     0.     0.     0.    53.04\n",
      "   56.72]\n",
      " [  0.     0.     0.     0.     0.     0.     0.     0.     0.     0.\n",
      "   49.6 ]]\n",
      "-------------------------------------------\n",
      "Option Value Tree (n = 10):\n",
      " [[ 8.48  5.41  3.01  1.35  0.43  0.07  0.    0.    0.    0.    0.  ]\n",
      " [ 0.   11.51  7.78  4.63  2.26  0.79  0.13  0.    0.    0.    0.  ]\n",
      " [ 0.    0.   15.2  10.89  6.96  3.71  1.43  0.26  0.    0.    0.  ]\n",
      " [ 0.    0.    0.   19.46 14.75 10.16  5.96  2.58  0.51  0.    0.  ]\n",
      " [ 0.    0.    0.    0.   24.11 19.29 14.29  9.28  4.61  1.01  0.  ]\n",
      " [ 0.    0.    0.    0.    0.   28.9  24.24 19.24 13.88  8.15  2.  ]\n",
      " [ 0.    0.    0.    0.    0.    0.   33.55 29.2  24.53 19.53 14.18]\n",
      " [ 0.    0.    0.    0.    0.    0.    0.   37.9  33.84 29.49 24.83]\n",
      " [ 0.    0.    0.    0.    0.    0.    0.    0.   41.99 38.2  34.14]\n",
      " [ 0.    0.    0.    0.    0.    0.    0.    0.    0.   45.82 42.28]\n",
      " [ 0.    0.    0.    0.    0.    0.    0.    0.    0.    0.   49.4 ]]\n",
      "8.484278671390296\n"
     ]
    }
   ],
   "source": [
    "S = 97\n",
    "K = 99\n",
    "r = 0.03 \n",
    "v = 0.3\n",
    "T = 0.5\n",
    "n = 10\n",
    "\n",
    "result = BinoEuroPut(S,K,v,r,n,T) \n",
    "print(result)"
   ]
  },
  {
   "cell_type": "code",
   "execution_count": 15,
   "metadata": {},
   "outputs": [
    {
     "name": "stdout",
     "output_type": "stream",
     "text": [
      "Stock Price Tree (n = 2):\n",
      " [[40.   49.45 61.14]\n",
      " [ 0.   32.35 40.  ]\n",
      " [ 0.    0.   26.17]]\n",
      "-------------------------------------------\n",
      "Option Value Tree (n = 2):\n",
      " [[ 5.47 10.5  20.14]\n",
      " [ 0.    0.    0.  ]\n",
      " [ 0.    0.    0.  ]]\n",
      "=======================================================\n",
      "Stock Price Tree (n = 2):\n",
      " [[40.   49.45 61.14]\n",
      " [ 0.   32.35 40.  ]\n",
      " [ 0.    0.   26.17]]\n",
      "-------------------------------------------\n",
      "Option Value Tree (n = 2):\n",
      " [[ 3.32  0.44  0.  ]\n",
      " [ 0.    7.04  1.  ]\n",
      " [ 0.    0.   14.83]]\n",
      "The binomial European put price is 3.321813\n",
      "The binomial European call price is 5.474043\n"
     ]
    }
   ],
   "source": [
    "S = 40\n",
    "K = 41\n",
    "r = 0.08 \n",
    "v = 0.3 \n",
    "T = 1 \n",
    "n = 2 \n",
    "CP = BinoEuroCall(S,K,v,r,n,T)   # call price \n",
    "print('=======================================================')\n",
    "\n",
    "PP = BinoEuroPut(S,K,v,r,n,T) \n",
    "\n",
    "print('The binomial European put price is ' + str(round(PP,6)))   \n",
    "print('The binomial European call price is ' + str(round(CP,6)))   "
   ]
  },
  {
   "cell_type": "code",
   "execution_count": 34,
   "metadata": {},
   "outputs": [],
   "source": [
    "### put call parity: C - P ( long call, short put ) = S - PV( k )\n",
    "\"\"\" \n",
    "C : \n",
    "\"\"\""
   ]
  },
  {
   "cell_type": "code",
   "execution_count": 22,
   "metadata": {},
   "outputs": [
    {
     "data": {
      "text/plain": [
       "2.7395522883652044"
      ]
     },
     "execution_count": 22,
     "metadata": {},
     "output_type": "execute_result"
    }
   ],
   "source": [
    "\n",
    "CP - PP "
   ]
  },
  {
   "cell_type": "code",
   "execution_count": 23,
   "metadata": {},
   "outputs": [
    {
     "data": {
      "text/plain": [
       "2.739552288365161"
      ]
     },
     "execution_count": 23,
     "metadata": {},
     "output_type": "execute_result"
    }
   ],
   "source": [
    "S - K * np.exp(-r * T)"
   ]
  },
  {
   "cell_type": "markdown",
   "metadata": {},
   "source": [
    "### Pricing American Put"
   ]
  },
  {
   "cell_type": "code",
   "execution_count": 21,
   "metadata": {},
   "outputs": [],
   "source": [
    "import numpy as np\n",
    "import math as m\n",
    "\n",
    "def BinoAmerPut(S, K, v, r, n, T, div):  # div : continuous dividend yield --> necessary for american call \n",
    "    # Time step size\n",
    "    h = T / n\n",
    "\n",
    "    u = m.exp(v * m.sqrt(h))\n",
    "    d = 1 / u\n",
    "    q = (m.exp((r - div) * h) - d) / (u - d)  #  e^(r - delta) h / u - d \n",
    "\n",
    "    Tree = np.zeros((n + 1, n + 1))  # setup \n",
    "    \n",
    "    for j in range(n + 1):\n",
    "        for i in range(j + 1):\n",
    "            Tree[i, j] = S * m.pow(d, i) * m.pow(u, j - i)\n",
    "\n",
    "    # Put Tree \n",
    "    Put = np.zeros((n + 1, n + 1))\n",
    "    Exer = np.zeros((n + 1, n + 1))  # check for early exercise \n",
    "    \n",
    "    for j in range(n + 1, 0, -1):\n",
    "        for i in range(j):\n",
    "            \n",
    "            if j == n + 1:\n",
    "                # Option price at maturity \n",
    "                Put[i, j - 1] = max(K - Tree[i, j - 1], 0)  # put: K-St\n",
    "            \n",
    "            else:\n",
    "                Put[i, j - 1] = max(K - Tree[i, j - 1],  # early exercise value of american put \n",
    "                                    np.exp(-r * h) * (q * Put[i, j] + (1 - q) * Put[i + 1, j]))  # the waiting value: based on European put \n",
    "\n",
    "\n",
    "                # for visualizing early exercise \n",
    "                if K - Tree[i, j - 1] > m.exp(-r * h) * (q * Put[i, j] + (1 - q) * Put[i + 1, j]): \n",
    "                    Exer[i, j - 1] = 1 \n",
    "                    \n",
    "                    \n",
    "    # Print stock price tree\n",
    "    print('Stock Price Tree (n = ' + str(n) + '):\\n', np.matrix(np.round(Tree, 2)))\n",
    "    \n",
    "    print('-------------------------------------------')\n",
    "\n",
    "    # Print option price tree for American put\n",
    "    print('Put Option Price Tree (n = ' + str(n) + '):\\n', np.matrix(np.round(Put, 2)))\n",
    "    \n",
    "    print('-------------------------------------------')\n",
    "\n",
    "    # early exer points \n",
    "    print('n = ' + str(n) + '):\\n', np.matrix(Exer))   \n",
    "    \n",
    "    \n",
    "\n",
    "    # Return the option price at the root node\n",
    "    return Put[0, 0]\n"
   ]
  },
  {
   "cell_type": "code",
   "execution_count": 22,
   "metadata": {},
   "outputs": [
    {
     "name": "stdout",
     "output_type": "stream",
     "text": [
      "Stock Price Tree (n = 2):\n",
      " [[100.   122.14 149.18]\n",
      " [  0.    81.87 100.  ]\n",
      " [  0.     0.    67.03]]\n",
      "-------------------------------------------\n",
      "Put Option Price Tree (n = 2):\n",
      " [[ 7.91  0.4   0.  ]\n",
      " [ 0.   19.13  1.  ]\n",
      " [ 0.    0.   33.97]]\n",
      "-------------------------------------------\n",
      "n = 2):\n",
      " [[0. 0. 0.]\n",
      " [0. 1. 0.]\n",
      " [0. 0. 0.]]\n",
      "The binomial American put price is 7.908\n"
     ]
    }
   ],
   "source": [
    "# Parameters\n",
    "S = 100          # Initial stock price\n",
    "K = 101         # Strike price\n",
    "v = 0.2         # Volatility\n",
    "r = 0.05         # Risk-free interest rate\n",
    "T = 2            # Time to maturity\n",
    "n = 2           # Number of steps in the binomial tree\n",
    "div = 0          # Dividend yield\n",
    "\n",
    "# Calculate the binomial American put option price\n",
    "App = BinoAmerPut(S, K, v, r, n, T, div)\n",
    "\n",
    "# Print the result\n",
    "print(f'The binomial American put price is {round(App, 3)}')\n"
   ]
  },
  {
   "cell_type": "code",
   "execution_count": 23,
   "metadata": {},
   "outputs": [
    {
     "data": {
      "text/plain": [
       "7.907903947307855"
      ]
     },
     "execution_count": 23,
     "metadata": {},
     "output_type": "execute_result"
    }
   ],
   "source": [
    "App   # result "
   ]
  },
  {
   "cell_type": "markdown",
   "metadata": {},
   "source": [
    "### American Call "
   ]
  },
  {
   "cell_type": "code",
   "execution_count": 34,
   "metadata": {},
   "outputs": [],
   "source": [
    "import numpy as np\n",
    "import math as m\n",
    "\n",
    "def BinoAmerCall(S, K, v, r, n, T, div):  # div : continuous dividend yield --> necessary for american call \n",
    "    # Time step size\n",
    "    dt = T / n\n",
    "\n",
    "    # Up and down factors\n",
    "    u = m.exp(v * m.sqrt(dt))\n",
    "    d = 1 / u\n",
    "    q = (m.exp((r - div) * dt) - d) / (u - d)\n",
    "\n",
    "    # Initialize stock price tree\n",
    "    Tree = np.zeros((n + 1, n + 1))\n",
    "    for j in range(n + 1):\n",
    "        for i in range(j + 1):\n",
    "            Tree[i, j] = S * m.pow(d, i) * m.pow(u, j - i)\n",
    "\n",
    "    # Put Tree \n",
    "    Call = np.zeros((n + 1, n + 1))\n",
    "    Exer = np.zeros((n + 1, n + 1)) \n",
    "    \n",
    "    for j in range(n + 1, 0, -1):\n",
    "        for i in range(j):\n",
    "            \n",
    "            if j == n + 1:\n",
    "                Call[i, j - 1] = max(Tree[i, j - 1] - K , 0)  # Call : St- K \n",
    "            \n",
    "            else:\n",
    "                Call[i, j - 1] = max(Tree[i, j - 1] - K ,  # early exercise value of american call \n",
    "                                    m.exp(-r * dt) * (q * Call[i, j] + (1 - q) * Call[i + 1, j]))  # the waiting value: based on European call\n",
    "\n",
    "            \n",
    "                if Tree[i, j - 1] - K  > m.exp(-r * dt) * (q * Call[i, j] + (1 - q) * Call[i + 1, j]): \n",
    "                    Exer[i, j - 1] = 1 \n",
    "                    \n",
    "                    \n",
    "    # Print stock price tree\n",
    "    print('Stock Price Tree (n = ' + str(n) + '):\\n', np.matrix(np.round(Tree, 2)))\n",
    "    \n",
    "    print('-------------------------------------------')\n",
    "\n",
    "    # Print option price tree for American Call \n",
    "    print('Option Price Tree (n = ' + str(n) + '):\\n', np.matrix(np.round(Call, 2)))\n",
    "    \n",
    "    print('-------------------------------------------')\n",
    "\n",
    "    # print('n = ' + str(n) + '):\\n', np.matrix(Exer))\n",
    "    \n",
    "    \n",
    "\n",
    "    # Return the option price at the root node\n",
    "    return Call[0, 0]\n"
   ]
  },
  {
   "cell_type": "code",
   "execution_count": 31,
   "metadata": {},
   "outputs": [
    {
     "name": "stdout",
     "output_type": "stream",
     "text": [
      "Stock Price Tree (n = 2):\n",
      " [[100.   122.14 149.18]\n",
      " [  0.    81.87 100.  ]\n",
      " [  0.     0.    67.03]]\n",
      "-------------------------------------------\n",
      "Option Price Tree (n = 2):\n",
      " [[14.54 26.47 48.18]\n",
      " [ 0.    0.    0.  ]\n",
      " [ 0.    0.    0.  ]]\n",
      "-------------------------------------------\n",
      "The binomial American call price is 14.54\n"
     ]
    }
   ],
   "source": [
    "# Parameters\n",
    "S = 100          # Initial stock price\n",
    "K = 101         # Strike price\n",
    "v = 0.2          # Volatility\n",
    "r = 0.05        # Risk-free interest rate\n",
    "T = 2            # Time to maturity\n",
    "n = 2            # Number of steps in the binomial tree\n",
    "div = 0          # Dividend yield\n",
    "\n",
    "# Calculate the binomial American put option price\n",
    "Acp = BinoAmerCall(S, K, v, r, n, T, div)\n",
    "\n",
    "# Print the result\n",
    "print(f'The binomial American call price is {round(Acp, 3)}')\n"
   ]
  },
  {
   "cell_type": "markdown",
   "metadata": {},
   "source": [
    "### Put Call parity : \n",
    "- Put call parity didn't apply to American Options \n",
    "- European options can only be exercised at maturity\n",
    "The timing of cash flows is known with certainty\n",
    "The relationship can be enforced through a risk-free arbitrage strategy\n",
    "\n",
    "\n",
    "For American options, the relationship is different:\n",
    "\n",
    "\n",
    "Early exercise is possible\n",
    "The timing of cash flows becomes uncertain\n",
    "Instead of equality, we get inequalities"
   ]
  },
  {
   "cell_type": "code",
   "execution_count": 35,
   "metadata": {},
   "outputs": [
    {
     "name": "stdout",
     "output_type": "stream",
     "text": [
      "Stock Price Tree (n = 2):\n",
      " [[ 95.   123.21 159.79]\n",
      " [  0.    73.25  95.  ]\n",
      " [  0.     0.    56.48]]\n",
      "-------------------------------------------\n",
      "Option Price Tree (n = 2):\n",
      " [[11.27 27.21 63.79]\n",
      " [ 0.    0.    0.  ]\n",
      " [ 0.    0.    0.  ]]\n",
      "-------------------------------------------\n",
      "11.267818334597871\n"
     ]
    }
   ],
   "source": [
    "S = 95\n",
    "K = 96\n",
    "v = 0.26\n",
    "r = 0.05\n",
    "T = 2 \n",
    "n = 2 \n",
    "div = 0.05\n",
    "\n",
    "result = BinoAmerCall(S, K, v, r, n, T, div)\n",
    "print(result)\n"
   ]
  },
  {
   "cell_type": "code",
   "execution_count": null,
   "metadata": {},
   "outputs": [],
   "source": []
  }
 ],
 "metadata": {
  "kernelspec": {
   "display_name": "Python 3",
   "language": "python",
   "name": "python3"
  },
  "language_info": {
   "codemirror_mode": {
    "name": "ipython",
    "version": 3
   },
   "file_extension": ".py",
   "mimetype": "text/x-python",
   "name": "python",
   "nbconvert_exporter": "python",
   "pygments_lexer": "ipython3",
   "version": "3.12.6"
  }
 },
 "nbformat": 4,
 "nbformat_minor": 2
}
